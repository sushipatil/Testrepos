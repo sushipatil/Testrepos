{
 "cells": [
  {
   "cell_type": "code",
   "execution_count": null,
   "id": "dc08e0cd",
   "metadata": {},
   "outputs": [],
   "source": [
    "NLP"
   ]
  },
  {
   "cell_type": "code",
   "execution_count": null,
   "id": "d45e5afe",
   "metadata": {},
   "outputs": [],
   "source": [
    "1. What is the purpose of text preprocessing in NLP, and why is it essential before analysis?"
   ]
  },
  {
   "cell_type": "markdown",
   "id": "5619638e",
   "metadata": {},
   "source": [
    " Natural Language Processing (NLP) is a branch of Data Science which deals with Text data. Apart from numerical data, \n",
    "Text data is available to a great extent which is used to analyze and solve business problems. But before using the data \n",
    "for analysis or prediction, processing the data is important.\n",
    "\n",
    "To prepare the text data for the model building we perform text preprocessing. It is the very first step of NLP projects. \n",
    "Some of the preprocessing steps are:\n",
    "\n",
    "Removing punctuations like . , ! $( ) * % @\n",
    "Removing URLs\n",
    "Removing Stop words\n",
    "Lower casing\n",
    "Tokenization\n",
    "Stemming\n",
    "Lemmatization\n",
    "Text preprocessing is essential before analysis in Natural Language Processing (NLP) for several reasons:\n",
    "    1.Noise Reduction\n",
    "    2.Consistency\n",
    "    3.Normalization\n",
    "    4.Vectorization\n",
    "    In summary, text preprocessing is a crucial step before analysis in NLP as it prepares the raw text data for \n",
    "    effective modeling, reduces noise, and ensures that the language is represented in a consistent and meaningful way, \n",
    "    ultimately leading to more accurate and interpretable results."
   ]
  },
  {
   "cell_type": "code",
   "execution_count": null,
   "id": "35f6e2a4",
   "metadata": {},
   "outputs": [],
   "source": [
    "2. Describe tokenization in NLP and explain its significance in text processing.\n"
   ]
  },
  {
   "cell_type": "markdown",
   "id": "e7aa28ef",
   "metadata": {},
   "source": [
    "Tokenization in Natural Language Processing (NLP) is the process of breaking down a text\n",
    "into individual units called tokens. These tokens can be words, phrases, or other meaningful\n",
    "elements, depending on the level of granularity required.\n",
    "Significance:\n",
    "1. Text Preprocessing: Tokenization is a crucial step in text preprocessing. It helps convert raw \n",
    "    text into a format that can be easily fed into NLP models for analysis.\n",
    "2. Feature Extraction: Tokens serve as the features for NLP models. Analyzing and understanding\n",
    "    the relationships between tokens enables the extraction of meaningful features from the text.\n",
    "3. Language Understanding: Breaking text into tokens aids in understanding the structure and \n",
    "    semantics of a language. It allows for the examination of word order, context, and relationships \n",
    "    between different elements in the text.\n",
    "4. Text Analysis: Tokenization facilitates various text analysis tasks such as sentiment analysis,\n",
    "    part-of-speech tagging, named entity recognition, and more. By isolating individual units, NLP\n",
    "    models can better grasp the meaning of the text.\n",
    "5. Reducing Dimensionality: It helps in reducing the dimensionality of the data by representing \n",
    "    text as a sequence of tokens. This is important for efficient processing and model training.\n",
    "    Overall, tokenization plays a fundamental role in preparing textual data for NLP applications,\n",
    "enabling machines to understand, interpret, and derive insights from human language"
   ]
  },
  {
   "cell_type": "code",
   "execution_count": 1,
   "id": "677b490a",
   "metadata": {},
   "outputs": [],
   "source": [
    "\n",
    "import nltk\n"
   ]
  },
  {
   "cell_type": "code",
   "execution_count": 2,
   "id": "4addb9b4",
   "metadata": {},
   "outputs": [
    {
     "name": "stderr",
     "output_type": "stream",
     "text": [
      "[nltk_data] Downloading package punkt to\n",
      "[nltk_data]     C:\\Users\\admin\\AppData\\Roaming\\nltk_data...\n",
      "[nltk_data]   Package punkt is already up-to-date!\n"
     ]
    },
    {
     "data": {
      "text/plain": [
       "True"
      ]
     },
     "execution_count": 2,
     "metadata": {},
     "output_type": "execute_result"
    }
   ],
   "source": [
    "nltk.download('punkt')\n"
   ]
  },
  {
   "cell_type": "code",
   "execution_count": 3,
   "id": "4de08f2e",
   "metadata": {},
   "outputs": [
    {
     "name": "stdout",
     "output_type": "stream",
     "text": [
      "Original text:\n",
      "====================================================================================================\n",
      "Exploring the vast universe of knowledge, researchers delve into the mysteries of science. \n",
      "From the microscopic world \n",
      "of cells to the cosmic dance of galaxies, \n",
      "every discovery unveils a new chapter in our understanding of the world. \n",
      "The pursuit of knowledge is a journey that knows no bounds.” \n",
      "====================================================================================================\n",
      "\n",
      "After Sentence Tokenization:\n",
      " ['Exploring the vast universe of knowledge, researchers delve into the mysteries of science.', 'From the microscopic world \\nof cells to the cosmic dance of galaxies, \\nevery discovery unveils a new chapter in our understanding of the world.', 'The pursuit of knowledge is a journey that knows no bounds.”']\n",
      "====================================================================================================\n",
      "No.of Sentences:\t 3\n"
     ]
    }
   ],
   "source": [
    "from nltk.tokenize import sent_tokenize\n",
    "text=\"\"\"Exploring the vast universe of knowledge, researchers delve into the mysteries of science. \n",
    "From the microscopic world \n",
    "of cells to the cosmic dance of galaxies, \n",
    "every discovery unveils a new chapter in our understanding of the world. \n",
    "The pursuit of knowledge is a journey that knows no bounds.” \"\"\"\n",
    "print('Original text:')\n",
    "print('='*100)\n",
    "print(text)\n",
    "print('='*100)\n",
    "print()\n",
    "tokenised_sent=sent_tokenize(text)\n",
    "print('After Sentence Tokenization:\\n',tokenised_sent)\n",
    "print('='*100)\n",
    "print('No.of Sentences:\\t',len(tokenised_sent))\n"
   ]
  },
  {
   "cell_type": "code",
   "execution_count": null,
   "id": "1ed1ba22",
   "metadata": {},
   "outputs": [],
   "source": [
    "Word Tokenization - Spliting as a words"
   ]
  },
  {
   "cell_type": "code",
   "execution_count": 4,
   "id": "922afc7d",
   "metadata": {},
   "outputs": [
    {
     "name": "stdout",
     "output_type": "stream",
     "text": [
      "Original text:\n",
      "====================================================================================================\n",
      "Exploring the vast universe of knowledge, researchers delve into the mysteries of science. \n",
      "From the microscopic world \n",
      "of cells to the cosmic dance of galaxies, \n",
      "every discovery unveils a new chapter in our understanding of the world. \n",
      "The pursuit of knowledge is a journey that knows no bounds.” \n",
      "====================================================================================================\n",
      "\n",
      "After word Tokenization:\n",
      " ['Exploring', 'the', 'vast', 'universe', 'of', 'knowledge', ',', 'researchers', 'delve', 'into', 'the', 'mysteries', 'of', 'science', '.', 'From', 'the', 'microscopic', 'world', 'of', 'cells', 'to', 'the', 'cosmic', 'dance', 'of', 'galaxies', ',', 'every', 'discovery', 'unveils', 'a', 'new', 'chapter', 'in', 'our', 'understanding', 'of', 'the', 'world', '.', 'The', 'pursuit', 'of', 'knowledge', 'is', 'a', 'journey', 'that', 'knows', 'no', 'bounds', '.', '”']\n",
      "====================================================================================================\n",
      "No.of words:\t 54\n",
      "====================================================================================================\n",
      "word :  Exploring & Length : 9\n",
      "word :  the & Length : 3\n",
      "word :  vast & Length : 4\n",
      "word :  universe & Length : 8\n",
      "word :  of & Length : 2\n",
      "word :  knowledge & Length : 9\n",
      "word :  , & Length : 1\n",
      "word :  researchers & Length : 11\n",
      "word :  delve & Length : 5\n",
      "word :  into & Length : 4\n",
      "word :  the & Length : 3\n",
      "word :  mysteries & Length : 9\n",
      "word :  of & Length : 2\n",
      "word :  science & Length : 7\n",
      "word :  . & Length : 1\n",
      "word :  From & Length : 4\n",
      "word :  the & Length : 3\n",
      "word :  microscopic & Length : 11\n",
      "word :  world & Length : 5\n",
      "word :  of & Length : 2\n",
      "word :  cells & Length : 5\n",
      "word :  to & Length : 2\n",
      "word :  the & Length : 3\n",
      "word :  cosmic & Length : 6\n",
      "word :  dance & Length : 5\n",
      "word :  of & Length : 2\n",
      "word :  galaxies & Length : 8\n",
      "word :  , & Length : 1\n",
      "word :  every & Length : 5\n",
      "word :  discovery & Length : 9\n",
      "word :  unveils & Length : 7\n",
      "word :  a & Length : 1\n",
      "word :  new & Length : 3\n",
      "word :  chapter & Length : 7\n",
      "word :  in & Length : 2\n",
      "word :  our & Length : 3\n",
      "word :  understanding & Length : 13\n",
      "word :  of & Length : 2\n",
      "word :  the & Length : 3\n",
      "word :  world & Length : 5\n",
      "word :  . & Length : 1\n",
      "word :  The & Length : 3\n",
      "word :  pursuit & Length : 7\n",
      "word :  of & Length : 2\n",
      "word :  knowledge & Length : 9\n",
      "word :  is & Length : 2\n",
      "word :  a & Length : 1\n",
      "word :  journey & Length : 7\n",
      "word :  that & Length : 4\n",
      "word :  knows & Length : 5\n",
      "word :  no & Length : 2\n",
      "word :  bounds & Length : 6\n",
      "word :  . & Length : 1\n",
      "word :  ” & Length : 1\n"
     ]
    }
   ],
   "source": [
    "\n",
    "from nltk.tokenize import word_tokenize\n",
    "print('Original text:')\n",
    "print('='*100)\n",
    "print(text)\n",
    "print('='*100)\n",
    "print()\n",
    "token_word=word_tokenize(text)\n",
    "print('After word Tokenization:\\n',token_word)\n",
    "print('='*100)\n",
    "print('No.of words:\\t',len(token_word))\n",
    "print('='*100)\n",
    "for i in token_word:\n",
    "    print('word : ',i,'&','Length :',len(i))"
   ]
  },
  {
   "cell_type": "code",
   "execution_count": null,
   "id": "d54be654",
   "metadata": {},
   "outputs": [],
   "source": [
    "3. What are the differences between stemming and lemmatization in NLP? When would you \n",
    "choose one over the other?\n"
   ]
  },
  {
   "cell_type": "markdown",
   "id": "5e39da12",
   "metadata": {},
   "source": [
    "Stemming just removes or stems the last few characters of a word, often leading to incorrect meanings and spelling. \n",
    "Lemmatization considers the context and converts the word to its meaningful base form, which is called Lemma. Sometimes, \n",
    "the same word can have multiple different Lemmas. We should identify the Part of Speech (POS) tag for the word in that \n",
    "specific context. Here are the examples to illustrate all the differences and use cases:\n",
    "If you lemmatize the word 'Caring', it would return 'Care'. If you stem, it would return 'Car' and this is erroneous.\n",
    "If you lemmatize the word 'Stripes' in verb context, it would return 'Strip'. If you lemmatize it in noun context, \n",
    "it would return 'Stripe'. If you just stem it, it would just return 'Strip'.\n",
    "You would get same results whether you lemmatize or stem words such as walking, running, swimming... to walk, run, swim etc.\n",
    "Lemmatization is computationally expensive since it involves look-up tables and what not. If you have large dataset and \n",
    "performance is an issue, go with Stemming. Remember you can also add your own rules to Stemming. If accuracy is paramount \n",
    "and dataset isn't humongous, go with Lemmatization."
   ]
  },
  {
   "cell_type": "code",
   "execution_count": null,
   "id": "4ca8a7e1",
   "metadata": {},
   "outputs": [],
   "source": [
    "Frequency Distribution"
   ]
  },
  {
   "cell_type": "code",
   "execution_count": 5,
   "id": "9f1da5c0",
   "metadata": {},
   "outputs": [
    {
     "name": "stdout",
     "output_type": "stream",
     "text": [
      "<class 'nltk.probability.FreqDist'>\n",
      "<FreqDist with 39 samples and 54 outcomes>\n"
     ]
    }
   ],
   "source": [
    "from nltk.probability import FreqDist\n",
    "freq_dist=FreqDist(token_word)\n",
    "print(type(freq_dist))\n",
    "print(freq_dist)"
   ]
  },
  {
   "cell_type": "code",
   "execution_count": 6,
   "id": "c65a3646",
   "metadata": {},
   "outputs": [
    {
     "data": {
      "text/plain": [
       "[('of', 6),\n",
       " ('the', 5),\n",
       " ('.', 3),\n",
       " ('knowledge', 2),\n",
       " (',', 2),\n",
       " ('world', 2),\n",
       " ('a', 2),\n",
       " ('Exploring', 1),\n",
       " ('vast', 1),\n",
       " ('universe', 1),\n",
       " ('researchers', 1),\n",
       " ('delve', 1),\n",
       " ('into', 1),\n",
       " ('mysteries', 1),\n",
       " ('science', 1),\n",
       " ('From', 1),\n",
       " ('microscopic', 1),\n",
       " ('cells', 1),\n",
       " ('to', 1),\n",
       " ('cosmic', 1),\n",
       " ('dance', 1),\n",
       " ('galaxies', 1),\n",
       " ('every', 1),\n",
       " ('discovery', 1),\n",
       " ('unveils', 1),\n",
       " ('new', 1),\n",
       " ('chapter', 1),\n",
       " ('in', 1),\n",
       " ('our', 1),\n",
       " ('understanding', 1),\n",
       " ('The', 1),\n",
       " ('pursuit', 1),\n",
       " ('is', 1),\n",
       " ('journey', 1),\n",
       " ('that', 1),\n",
       " ('knows', 1),\n",
       " ('no', 1),\n",
       " ('bounds', 1),\n",
       " ('”', 1)]"
      ]
     },
     "execution_count": 6,
     "metadata": {},
     "output_type": "execute_result"
    }
   ],
   "source": [
    "freq_dist.most_common()"
   ]
  },
  {
   "cell_type": "code",
   "execution_count": 7,
   "id": "9874c7c4",
   "metadata": {},
   "outputs": [
    {
     "data": {
      "image/png": "[encoded data removed]",
      "text/plain": [
       "<Figure size 640x480 with 1 Axes>"
      ]
     },
     "metadata": {},
     "output_type": "display_data"
    }
   ],
   "source": [
    "import matplotlib.pyplot as plt\n",
    "freq_dist.plot(27,cumulative=False)\n",
    "plt.show()"
   ]
  },
  {
   "cell_type": "code",
   "execution_count": null,
   "id": "60ca7131",
   "metadata": {},
   "outputs": [],
   "source": [
    "Stopword"
   ]
  },
  {
   "cell_type": "code",
   "execution_count": 8,
   "id": "134fad1a",
   "metadata": {},
   "outputs": [
    {
     "name": "stderr",
     "output_type": "stream",
     "text": [
      "[nltk_data] Downloading package stopwords to\n",
      "[nltk_data]     C:\\Users\\admin\\AppData\\Roaming\\nltk_data...\n",
      "[nltk_data]   Package stopwords is already up-to-date!\n"
     ]
    },
    {
     "data": {
      "text/plain": [
       "True"
      ]
     },
     "execution_count": 8,
     "metadata": {},
     "output_type": "execute_result"
    }
   ],
   "source": [
    "nltk.download('stopwords')"
   ]
  },
  {
   "cell_type": "code",
   "execution_count": 9,
   "id": "85a5989b",
   "metadata": {},
   "outputs": [
    {
     "name": "stdout",
     "output_type": "stream",
     "text": [
      "Total No.of Stopwords:\t 179\n",
      "====================================================================================================\n",
      "The Stop words are:\n",
      "\n",
      "{'each', 'there', 'by', 'hadn', 'aren', 'won', 'do', 'doing', 'own', 'don', 'once', 'from', 'under', 'are', 'my', 'yourself', 'i', 'him', \"needn't\", 'should', 'after', 'them', \"won't\", 'out', 'm', 'being', 'other', 'below', 'been', 'too', 'or', 'most', 'd', 'on', 'very', 'hasn', 'if', 'in', 'isn', 'his', 'itself', 'ours', 'this', 'over', 'herself', 'himself', 'y', \"wasn't\", 'your', 'down', 'yours', \"you'd\", 'themselves', 'ain', 'here', \"you've\", 'to', 'how', 'because', 'ourselves', 'a', 'nor', 'mustn', 'shan', 'same', 'was', 'but', 'than', 'will', 'did', 'above', 'can', 'mightn', 'off', 'have', \"couldn't\", 'an', 'and', 'having', 'into', 'll', 'until', 'with', 'at', 'against', 'hers', \"mightn't\", \"haven't\", \"she's\", 'those', \"didn't\", 'that', 'we', 'for', 'both', 'wasn', 'her', 'yourselves', 'no', 'about', 'any', \"wouldn't\", 'the', 'had', 'haven', \"shouldn't\", 'through', 'you', 'has', \"that'll\", 'needn', 'they', 'again', 'not', 'it', 'so', 'just', 'me', 'be', 'now', \"should've\", 'its', 's', 'wouldn', 'am', 'why', 'then', 've', \"mustn't\", 'what', 'were', 'where', \"aren't\", 't', 'shouldn', 'such', \"you're\", 'is', 'she', 'theirs', 'while', 'during', \"it's\", 'before', 'all', 'ma', 'which', 'between', 'doesn', \"weren't\", \"hadn't\", 'weren', 'who', 'of', 'up', 'myself', \"shan't\", 'some', \"doesn't\", 'couldn', 'as', 'o', 'more', 'their', 'he', 'whom', 'further', 'when', \"isn't\", 'didn', 'these', 'only', 'our', 'few', \"hasn't\", 'does', 're', \"you'll\", \"don't\"}\n"
     ]
    }
   ],
   "source": [
    "from nltk.corpus import stopwords\n",
    "stop_words=set(stopwords.words('english'))\n",
    "print('Total No.of Stopwords:\\t',len(stop_words))\n",
    "print('='*100)\n",
    "print('The Stop words are:\\n')\n",
    "print(stop_words)\n"
   ]
  },
  {
   "cell_type": "code",
   "execution_count": null,
   "id": "bc55edf9",
   "metadata": {},
   "outputs": [],
   "source": [
    "Removing stopwords\n"
   ]
  },
  {
   "cell_type": "code",
   "execution_count": 10,
   "id": "18562039",
   "metadata": {},
   "outputs": [
    {
     "name": "stdout",
     "output_type": "stream",
     "text": [
      "Length of words:\t 54\n",
      "----------------------------------------------------------------------------------------------------\n",
      "Tokenized words-with stopwords:\n",
      "\n",
      "\t ['Exploring', 'the', 'vast', 'universe', 'of', 'knowledge', ',', 'researchers', 'delve', 'into', 'the', 'mysteries', 'of', 'science', '.', 'From', 'the', 'microscopic', 'world', 'of', 'cells', 'to', 'the', 'cosmic', 'dance', 'of', 'galaxies', ',', 'every', 'discovery', 'unveils', 'a', 'new', 'chapter', 'in', 'our', 'understanding', 'of', 'the', 'world', '.', 'The', 'pursuit', 'of', 'knowledge', 'is', 'a', 'journey', 'that', 'knows', 'no', 'bounds', '.', '”']\n",
      "====================================================================================================\n",
      "Length after Remove stopwords:\t 34\n",
      "----------------------------------------------------------------------------------------------------\n",
      "\n",
      " After Removing stopwords- words are:\n",
      "\t ['Exploring', 'vast', 'universe', 'knowledge', ',', 'researchers', 'delve', 'mysteries', 'science', '.', 'From', 'microscopic', 'world', 'cells', 'cosmic', 'dance', 'galaxies', ',', 'every', 'discovery', 'unveils', 'new', 'chapter', 'understanding', 'world', '.', 'The', 'pursuit', 'knowledge', 'journey', 'knows', 'bounds', '.', '”']\n"
     ]
    }
   ],
   "source": [
    "filtered_tokens=[]\n",
    "for w in token_word:\n",
    "    if w not in stop_words:\n",
    "        filtered_tokens.append(w)\n",
    "print('Length of words:\\t',len(token_word))\n",
    "print('-'*100)\n",
    "print('Tokenized words-with stopwords:\\n\\n\\t',token_word)\n",
    "print('='*100)\n",
    "print('Length after Remove stopwords:\\t',len(filtered_tokens))\n",
    "print('-'*100)\n",
    "print('\\n After Removing stopwords- words are:\\n\\t',filtered_tokens)"
   ]
  },
  {
   "cell_type": "code",
   "execution_count": null,
   "id": "014d3a76",
   "metadata": {},
   "outputs": [],
   "source": [
    "Stemming"
   ]
  },
  {
   "cell_type": "code",
   "execution_count": 11,
   "id": "47fd74ed",
   "metadata": {},
   "outputs": [
    {
     "name": "stdout",
     "output_type": "stream",
     "text": [
      "Length of words:\t 34\n",
      "----------------------------------------------------------------------------------------------------\n",
      "Filtered words:\n",
      "\n",
      "\t ['Exploring', 'vast', 'universe', 'knowledge', ',', 'researchers', 'delve', 'mysteries', 'science', '.', 'From', 'microscopic', 'world', 'cells', 'cosmic', 'dance', 'galaxies', ',', 'every', 'discovery', 'unveils', 'new', 'chapter', 'understanding', 'world', '.', 'The', 'pursuit', 'knowledge', 'journey', 'knows', 'bounds', '.', '”']\n",
      "====================================================================================================\n",
      "Length after Stemmer:\t 1\n",
      "----------------------------------------------------------------------------------------------------\n",
      "\n",
      " After Stemming- words are:\n",
      "\t ['explor']\n",
      "Length of words:\t 34\n",
      "----------------------------------------------------------------------------------------------------\n",
      "Filtered words:\n",
      "\n",
      "\t ['Exploring', 'vast', 'universe', 'knowledge', ',', 'researchers', 'delve', 'mysteries', 'science', '.', 'From', 'microscopic', 'world', 'cells', 'cosmic', 'dance', 'galaxies', ',', 'every', 'discovery', 'unveils', 'new', 'chapter', 'understanding', 'world', '.', 'The', 'pursuit', 'knowledge', 'journey', 'knows', 'bounds', '.', '”']\n",
      "====================================================================================================\n",
      "Length after Stemmer:\t 2\n",
      "----------------------------------------------------------------------------------------------------\n",
      "\n",
      " After Stemming- words are:\n",
      "\t ['explor', 'vast']\n",
      "Length of words:\t 34\n",
      "----------------------------------------------------------------------------------------------------\n",
      "Filtered words:\n",
      "\n",
      "\t ['Exploring', 'vast', 'universe', 'knowledge', ',', 'researchers', 'delve', 'mysteries', 'science', '.', 'From', 'microscopic', 'world', 'cells', 'cosmic', 'dance', 'galaxies', ',', 'every', 'discovery', 'unveils', 'new', 'chapter', 'understanding', 'world', '.', 'The', 'pursuit', 'knowledge', 'journey', 'knows', 'bounds', '.', '”']\n",
      "====================================================================================================\n",
      "Length after Stemmer:\t 3\n",
      "----------------------------------------------------------------------------------------------------\n",
      "\n",
      " After Stemming- words are:\n",
      "\t ['explor', 'vast', 'univers']\n",
      "Length of words:\t 34\n",
      "----------------------------------------------------------------------------------------------------\n",
      "Filtered words:\n",
      "\n",
      "\t ['Exploring', 'vast', 'universe', 'knowledge', ',', 'researchers', 'delve', 'mysteries', 'science', '.', 'From', 'microscopic', 'world', 'cells', 'cosmic', 'dance', 'galaxies', ',', 'every', 'discovery', 'unveils', 'new', 'chapter', 'understanding', 'world', '.', 'The', 'pursuit', 'knowledge', 'journey', 'knows', 'bounds', '.', '”']\n",
      "====================================================================================================\n",
      "Length after Stemmer:\t 4\n",
      "----------------------------------------------------------------------------------------------------\n",
      "\n",
      " After Stemming- words are:\n",
      "\t ['explor', 'vast', 'univers', 'knowledg']\n",
      "Length of words:\t 34\n",
      "----------------------------------------------------------------------------------------------------\n",
      "Filtered words:\n",
      "\n",
      "\t ['Exploring', 'vast', 'universe', 'knowledge', ',', 'researchers', 'delve', 'mysteries', 'science', '.', 'From', 'microscopic', 'world', 'cells', 'cosmic', 'dance', 'galaxies', ',', 'every', 'discovery', 'unveils', 'new', 'chapter', 'understanding', 'world', '.', 'The', 'pursuit', 'knowledge', 'journey', 'knows', 'bounds', '.', '”']\n",
      "====================================================================================================\n",
      "Length after Stemmer:\t 5\n",
      "----------------------------------------------------------------------------------------------------\n",
      "\n",
      " After Stemming- words are:\n",
      "\t ['explor', 'vast', 'univers', 'knowledg', ',']\n",
      "Length of words:\t 34\n",
      "----------------------------------------------------------------------------------------------------\n",
      "Filtered words:\n",
      "\n",
      "\t ['Exploring', 'vast', 'universe', 'knowledge', ',', 'researchers', 'delve', 'mysteries', 'science', '.', 'From', 'microscopic', 'world', 'cells', 'cosmic', 'dance', 'galaxies', ',', 'every', 'discovery', 'unveils', 'new', 'chapter', 'understanding', 'world', '.', 'The', 'pursuit', 'knowledge', 'journey', 'knows', 'bounds', '.', '”']\n",
      "====================================================================================================\n",
      "Length after Stemmer:\t 6\n",
      "----------------------------------------------------------------------------------------------------\n",
      "\n",
      " After Stemming- words are:\n",
      "\t ['explor', 'vast', 'univers', 'knowledg', ',', 'research']\n",
      "Length of words:\t 34\n",
      "----------------------------------------------------------------------------------------------------\n",
      "Filtered words:\n",
      "\n",
      "\t ['Exploring', 'vast', 'universe', 'knowledge', ',', 'researchers', 'delve', 'mysteries', 'science', '.', 'From', 'microscopic', 'world', 'cells', 'cosmic', 'dance', 'galaxies', ',', 'every', 'discovery', 'unveils', 'new', 'chapter', 'understanding', 'world', '.', 'The', 'pursuit', 'knowledge', 'journey', 'knows', 'bounds', '.', '”']\n",
      "====================================================================================================\n",
      "Length after Stemmer:\t 7\n",
      "----------------------------------------------------------------------------------------------------\n",
      "\n",
      " After Stemming- words are:\n",
      "\t ['explor', 'vast', 'univers', 'knowledg', ',', 'research', 'delv']\n",
      "Length of words:\t 34\n",
      "----------------------------------------------------------------------------------------------------\n",
      "Filtered words:\n",
      "\n",
      "\t ['Exploring', 'vast', 'universe', 'knowledge', ',', 'researchers', 'delve', 'mysteries', 'science', '.', 'From', 'microscopic', 'world', 'cells', 'cosmic', 'dance', 'galaxies', ',', 'every', 'discovery', 'unveils', 'new', 'chapter', 'understanding', 'world', '.', 'The', 'pursuit', 'knowledge', 'journey', 'knows', 'bounds', '.', '”']\n",
      "====================================================================================================\n",
      "Length after Stemmer:\t 8\n",
      "----------------------------------------------------------------------------------------------------\n",
      "\n",
      " After Stemming- words are:\n",
      "\t ['explor', 'vast', 'univers', 'knowledg', ',', 'research', 'delv', 'mysteri']\n",
      "Length of words:\t 34\n",
      "----------------------------------------------------------------------------------------------------\n",
      "Filtered words:\n",
      "\n",
      "\t ['Exploring', 'vast', 'universe', 'knowledge', ',', 'researchers', 'delve', 'mysteries', 'science', '.', 'From', 'microscopic', 'world', 'cells', 'cosmic', 'dance', 'galaxies', ',', 'every', 'discovery', 'unveils', 'new', 'chapter', 'understanding', 'world', '.', 'The', 'pursuit', 'knowledge', 'journey', 'knows', 'bounds', '.', '”']\n",
      "====================================================================================================\n",
      "Length after Stemmer:\t 9\n",
      "----------------------------------------------------------------------------------------------------\n",
      "\n",
      " After Stemming- words are:\n",
      "\t ['explor', 'vast', 'univers', 'knowledg', ',', 'research', 'delv', 'mysteri', 'scienc']\n",
      "Length of words:\t 34\n",
      "----------------------------------------------------------------------------------------------------\n",
      "Filtered words:\n",
      "\n",
      "\t ['Exploring', 'vast', 'universe', 'knowledge', ',', 'researchers', 'delve', 'mysteries', 'science', '.', 'From', 'microscopic', 'world', 'cells', 'cosmic', 'dance', 'galaxies', ',', 'every', 'discovery', 'unveils', 'new', 'chapter', 'understanding', 'world', '.', 'The', 'pursuit', 'knowledge', 'journey', 'knows', 'bounds', '.', '”']\n",
      "====================================================================================================\n",
      "Length after Stemmer:\t 10\n",
      "----------------------------------------------------------------------------------------------------\n",
      "\n",
      " After Stemming- words are:\n",
      "\t ['explor', 'vast', 'univers', 'knowledg', ',', 'research', 'delv', 'mysteri', 'scienc', '.']\n",
      "Length of words:\t 34\n",
      "----------------------------------------------------------------------------------------------------\n",
      "Filtered words:\n",
      "\n",
      "\t ['Exploring', 'vast', 'universe', 'knowledge', ',', 'researchers', 'delve', 'mysteries', 'science', '.', 'From', 'microscopic', 'world', 'cells', 'cosmic', 'dance', 'galaxies', ',', 'every', 'discovery', 'unveils', 'new', 'chapter', 'understanding', 'world', '.', 'The', 'pursuit', 'knowledge', 'journey', 'knows', 'bounds', '.', '”']\n",
      "====================================================================================================\n",
      "Length after Stemmer:\t 11\n",
      "----------------------------------------------------------------------------------------------------\n",
      "\n",
      " After Stemming- words are:\n",
      "\t ['explor', 'vast', 'univers', 'knowledg', ',', 'research', 'delv', 'mysteri', 'scienc', '.', 'from']\n",
      "Length of words:\t 34\n",
      "----------------------------------------------------------------------------------------------------\n",
      "Filtered words:\n",
      "\n",
      "\t ['Exploring', 'vast', 'universe', 'knowledge', ',', 'researchers', 'delve', 'mysteries', 'science', '.', 'From', 'microscopic', 'world', 'cells', 'cosmic', 'dance', 'galaxies', ',', 'every', 'discovery', 'unveils', 'new', 'chapter', 'understanding', 'world', '.', 'The', 'pursuit', 'knowledge', 'journey', 'knows', 'bounds', '.', '”']\n",
      "====================================================================================================\n",
      "Length after Stemmer:\t 12\n",
      "----------------------------------------------------------------------------------------------------\n",
      "\n",
      " After Stemming- words are:\n",
      "\t ['explor', 'vast', 'univers', 'knowledg', ',', 'research', 'delv', 'mysteri', 'scienc', '.', 'from', 'microscop']\n",
      "Length of words:\t 34\n",
      "----------------------------------------------------------------------------------------------------\n",
      "Filtered words:\n",
      "\n",
      "\t ['Exploring', 'vast', 'universe', 'knowledge', ',', 'researchers', 'delve', 'mysteries', 'science', '.', 'From', 'microscopic', 'world', 'cells', 'cosmic', 'dance', 'galaxies', ',', 'every', 'discovery', 'unveils', 'new', 'chapter', 'understanding', 'world', '.', 'The', 'pursuit', 'knowledge', 'journey', 'knows', 'bounds', '.', '”']\n",
      "====================================================================================================\n",
      "Length after Stemmer:\t 13\n",
      "----------------------------------------------------------------------------------------------------\n",
      "\n",
      " After Stemming- words are:\n",
      "\t ['explor', 'vast', 'univers', 'knowledg', ',', 'research', 'delv', 'mysteri', 'scienc', '.', 'from', 'microscop', 'world']\n",
      "Length of words:\t 34\n",
      "----------------------------------------------------------------------------------------------------\n",
      "Filtered words:\n",
      "\n",
      "\t ['Exploring', 'vast', 'universe', 'knowledge', ',', 'researchers', 'delve', 'mysteries', 'science', '.', 'From', 'microscopic', 'world', 'cells', 'cosmic', 'dance', 'galaxies', ',', 'every', 'discovery', 'unveils', 'new', 'chapter', 'understanding', 'world', '.', 'The', 'pursuit', 'knowledge', 'journey', 'knows', 'bounds', '.', '”']\n",
      "====================================================================================================\n",
      "Length after Stemmer:\t 14\n",
      "----------------------------------------------------------------------------------------------------\n",
      "\n",
      " After Stemming- words are:\n",
      "\t ['explor', 'vast', 'univers', 'knowledg', ',', 'research', 'delv', 'mysteri', 'scienc', '.', 'from', 'microscop', 'world', 'cell']\n",
      "Length of words:\t 34\n",
      "----------------------------------------------------------------------------------------------------\n",
      "Filtered words:\n",
      "\n",
      "\t ['Exploring', 'vast', 'universe', 'knowledge', ',', 'researchers', 'delve', 'mysteries', 'science', '.', 'From', 'microscopic', 'world', 'cells', 'cosmic', 'dance', 'galaxies', ',', 'every', 'discovery', 'unveils', 'new', 'chapter', 'understanding', 'world', '.', 'The', 'pursuit', 'knowledge', 'journey', 'knows', 'bounds', '.', '”']\n",
      "====================================================================================================\n",
      "Length after Stemmer:\t 15\n",
      "----------------------------------------------------------------------------------------------------\n",
      "\n",
      " After Stemming- words are:\n",
      "\t ['explor', 'vast', 'univers', 'knowledg', ',', 'research', 'delv', 'mysteri', 'scienc', '.', 'from', 'microscop', 'world', 'cell', 'cosmic']\n",
      "Length of words:\t 34\n",
      "----------------------------------------------------------------------------------------------------\n",
      "Filtered words:\n",
      "\n",
      "\t ['Exploring', 'vast', 'universe', 'knowledge', ',', 'researchers', 'delve', 'mysteries', 'science', '.', 'From', 'microscopic', 'world', 'cells', 'cosmic', 'dance', 'galaxies', ',', 'every', 'discovery', 'unveils', 'new', 'chapter', 'understanding', 'world', '.', 'The', 'pursuit', 'knowledge', 'journey', 'knows', 'bounds', '.', '”']\n",
      "====================================================================================================\n",
      "Length after Stemmer:\t 16\n",
      "----------------------------------------------------------------------------------------------------\n",
      "\n",
      " After Stemming- words are:\n",
      "\t ['explor', 'vast', 'univers', 'knowledg', ',', 'research', 'delv', 'mysteri', 'scienc', '.', 'from', 'microscop', 'world', 'cell', 'cosmic', 'danc']\n",
      "Length of words:\t 34\n",
      "----------------------------------------------------------------------------------------------------\n",
      "Filtered words:\n",
      "\n",
      "\t ['Exploring', 'vast', 'universe', 'knowledge', ',', 'researchers', 'delve', 'mysteries', 'science', '.', 'From', 'microscopic', 'world', 'cells', 'cosmic', 'dance', 'galaxies', ',', 'every', 'discovery', 'unveils', 'new', 'chapter', 'understanding', 'world', '.', 'The', 'pursuit', 'knowledge', 'journey', 'knows', 'bounds', '.', '”']\n",
      "====================================================================================================\n",
      "Length after Stemmer:\t 17\n",
      "----------------------------------------------------------------------------------------------------\n",
      "\n",
      " After Stemming- words are:\n",
      "\t ['explor', 'vast', 'univers', 'knowledg', ',', 'research', 'delv', 'mysteri', 'scienc', '.', 'from', 'microscop', 'world', 'cell', 'cosmic', 'danc', 'galaxi']\n",
      "Length of words:\t 34\n",
      "----------------------------------------------------------------------------------------------------\n",
      "Filtered words:\n",
      "\n",
      "\t ['Exploring', 'vast', 'universe', 'knowledge', ',', 'researchers', 'delve', 'mysteries', 'science', '.', 'From', 'microscopic', 'world', 'cells', 'cosmic', 'dance', 'galaxies', ',', 'every', 'discovery', 'unveils', 'new', 'chapter', 'understanding', 'world', '.', 'The', 'pursuit', 'knowledge', 'journey', 'knows', 'bounds', '.', '”']\n",
      "====================================================================================================\n",
      "Length after Stemmer:\t 18\n",
      "----------------------------------------------------------------------------------------------------\n",
      "\n",
      " After Stemming- words are:\n",
      "\t ['explor', 'vast', 'univers', 'knowledg', ',', 'research', 'delv', 'mysteri', 'scienc', '.', 'from', 'microscop', 'world', 'cell', 'cosmic', 'danc', 'galaxi', ',']\n",
      "Length of words:\t 34\n",
      "----------------------------------------------------------------------------------------------------\n",
      "Filtered words:\n",
      "\n",
      "\t ['Exploring', 'vast', 'universe', 'knowledge', ',', 'researchers', 'delve', 'mysteries', 'science', '.', 'From', 'microscopic', 'world', 'cells', 'cosmic', 'dance', 'galaxies', ',', 'every', 'discovery', 'unveils', 'new', 'chapter', 'understanding', 'world', '.', 'The', 'pursuit', 'knowledge', 'journey', 'knows', 'bounds', '.', '”']\n",
      "====================================================================================================\n",
      "Length after Stemmer:\t 19\n",
      "----------------------------------------------------------------------------------------------------\n",
      "\n",
      " After Stemming- words are:\n",
      "\t ['explor', 'vast', 'univers', 'knowledg', ',', 'research', 'delv', 'mysteri', 'scienc', '.', 'from', 'microscop', 'world', 'cell', 'cosmic', 'danc', 'galaxi', ',', 'everi']\n",
      "Length of words:\t 34\n",
      "----------------------------------------------------------------------------------------------------\n",
      "Filtered words:\n",
      "\n",
      "\t ['Exploring', 'vast', 'universe', 'knowledge', ',', 'researchers', 'delve', 'mysteries', 'science', '.', 'From', 'microscopic', 'world', 'cells', 'cosmic', 'dance', 'galaxies', ',', 'every', 'discovery', 'unveils', 'new', 'chapter', 'understanding', 'world', '.', 'The', 'pursuit', 'knowledge', 'journey', 'knows', 'bounds', '.', '”']\n",
      "====================================================================================================\n",
      "Length after Stemmer:\t 20\n",
      "----------------------------------------------------------------------------------------------------\n",
      "\n",
      " After Stemming- words are:\n",
      "\t ['explor', 'vast', 'univers', 'knowledg', ',', 'research', 'delv', 'mysteri', 'scienc', '.', 'from', 'microscop', 'world', 'cell', 'cosmic', 'danc', 'galaxi', ',', 'everi', 'discoveri']\n",
      "Length of words:\t 34\n",
      "----------------------------------------------------------------------------------------------------\n",
      "Filtered words:\n",
      "\n",
      "\t ['Exploring', 'vast', 'universe', 'knowledge', ',', 'researchers', 'delve', 'mysteries', 'science', '.', 'From', 'microscopic', 'world', 'cells', 'cosmic', 'dance', 'galaxies', ',', 'every', 'discovery', 'unveils', 'new', 'chapter', 'understanding', 'world', '.', 'The', 'pursuit', 'knowledge', 'journey', 'knows', 'bounds', '.', '”']\n",
      "====================================================================================================\n",
      "Length after Stemmer:\t 21\n",
      "----------------------------------------------------------------------------------------------------\n",
      "\n",
      " After Stemming- words are:\n",
      "\t ['explor', 'vast', 'univers', 'knowledg', ',', 'research', 'delv', 'mysteri', 'scienc', '.', 'from', 'microscop', 'world', 'cell', 'cosmic', 'danc', 'galaxi', ',', 'everi', 'discoveri', 'unveil']\n",
      "Length of words:\t 34\n",
      "----------------------------------------------------------------------------------------------------\n",
      "Filtered words:\n",
      "\n",
      "\t ['Exploring', 'vast', 'universe', 'knowledge', ',', 'researchers', 'delve', 'mysteries', 'science', '.', 'From', 'microscopic', 'world', 'cells', 'cosmic', 'dance', 'galaxies', ',', 'every', 'discovery', 'unveils', 'new', 'chapter', 'understanding', 'world', '.', 'The', 'pursuit', 'knowledge', 'journey', 'knows', 'bounds', '.', '”']\n",
      "====================================================================================================\n",
      "Length after Stemmer:\t 22\n",
      "----------------------------------------------------------------------------------------------------\n",
      "\n",
      " After Stemming- words are:\n",
      "\t ['explor', 'vast', 'univers', 'knowledg', ',', 'research', 'delv', 'mysteri', 'scienc', '.', 'from', 'microscop', 'world', 'cell', 'cosmic', 'danc', 'galaxi', ',', 'everi', 'discoveri', 'unveil', 'new']\n",
      "Length of words:\t 34\n",
      "----------------------------------------------------------------------------------------------------\n",
      "Filtered words:\n",
      "\n",
      "\t ['Exploring', 'vast', 'universe', 'knowledge', ',', 'researchers', 'delve', 'mysteries', 'science', '.', 'From', 'microscopic', 'world', 'cells', 'cosmic', 'dance', 'galaxies', ',', 'every', 'discovery', 'unveils', 'new', 'chapter', 'understanding', 'world', '.', 'The', 'pursuit', 'knowledge', 'journey', 'knows', 'bounds', '.', '”']\n",
      "====================================================================================================\n",
      "Length after Stemmer:\t 23\n",
      "----------------------------------------------------------------------------------------------------\n",
      "\n",
      " After Stemming- words are:\n",
      "\t ['explor', 'vast', 'univers', 'knowledg', ',', 'research', 'delv', 'mysteri', 'scienc', '.', 'from', 'microscop', 'world', 'cell', 'cosmic', 'danc', 'galaxi', ',', 'everi', 'discoveri', 'unveil', 'new', 'chapter']\n",
      "Length of words:\t 34\n",
      "----------------------------------------------------------------------------------------------------\n",
      "Filtered words:\n",
      "\n",
      "\t ['Exploring', 'vast', 'universe', 'knowledge', ',', 'researchers', 'delve', 'mysteries', 'science', '.', 'From', 'microscopic', 'world', 'cells', 'cosmic', 'dance', 'galaxies', ',', 'every', 'discovery', 'unveils', 'new', 'chapter', 'understanding', 'world', '.', 'The', 'pursuit', 'knowledge', 'journey', 'knows', 'bounds', '.', '”']\n",
      "====================================================================================================\n",
      "Length after Stemmer:\t 24\n",
      "----------------------------------------------------------------------------------------------------\n",
      "\n",
      " After Stemming- words are:\n",
      "\t ['explor', 'vast', 'univers', 'knowledg', ',', 'research', 'delv', 'mysteri', 'scienc', '.', 'from', 'microscop', 'world', 'cell', 'cosmic', 'danc', 'galaxi', ',', 'everi', 'discoveri', 'unveil', 'new', 'chapter', 'understand']\n",
      "Length of words:\t 34\n",
      "----------------------------------------------------------------------------------------------------\n",
      "Filtered words:\n",
      "\n",
      "\t ['Exploring', 'vast', 'universe', 'knowledge', ',', 'researchers', 'delve', 'mysteries', 'science', '.', 'From', 'microscopic', 'world', 'cells', 'cosmic', 'dance', 'galaxies', ',', 'every', 'discovery', 'unveils', 'new', 'chapter', 'understanding', 'world', '.', 'The', 'pursuit', 'knowledge', 'journey', 'knows', 'bounds', '.', '”']\n",
      "====================================================================================================\n",
      "Length after Stemmer:\t 25\n",
      "----------------------------------------------------------------------------------------------------\n",
      "\n",
      " After Stemming- words are:\n",
      "\t ['explor', 'vast', 'univers', 'knowledg', ',', 'research', 'delv', 'mysteri', 'scienc', '.', 'from', 'microscop', 'world', 'cell', 'cosmic', 'danc', 'galaxi', ',', 'everi', 'discoveri', 'unveil', 'new', 'chapter', 'understand', 'world']\n",
      "Length of words:\t 34\n",
      "----------------------------------------------------------------------------------------------------\n",
      "Filtered words:\n",
      "\n",
      "\t ['Exploring', 'vast', 'universe', 'knowledge', ',', 'researchers', 'delve', 'mysteries', 'science', '.', 'From', 'microscopic', 'world', 'cells', 'cosmic', 'dance', 'galaxies', ',', 'every', 'discovery', 'unveils', 'new', 'chapter', 'understanding', 'world', '.', 'The', 'pursuit', 'knowledge', 'journey', 'knows', 'bounds', '.', '”']\n",
      "====================================================================================================\n",
      "Length after Stemmer:\t 26\n",
      "----------------------------------------------------------------------------------------------------\n",
      "\n",
      " After Stemming- words are:\n",
      "\t ['explor', 'vast', 'univers', 'knowledg', ',', 'research', 'delv', 'mysteri', 'scienc', '.', 'from', 'microscop', 'world', 'cell', 'cosmic', 'danc', 'galaxi', ',', 'everi', 'discoveri', 'unveil', 'new', 'chapter', 'understand', 'world', '.']\n",
      "Length of words:\t 34\n",
      "----------------------------------------------------------------------------------------------------\n",
      "Filtered words:\n",
      "\n",
      "\t ['Exploring', 'vast', 'universe', 'knowledge', ',', 'researchers', 'delve', 'mysteries', 'science', '.', 'From', 'microscopic', 'world', 'cells', 'cosmic', 'dance', 'galaxies', ',', 'every', 'discovery', 'unveils', 'new', 'chapter', 'understanding', 'world', '.', 'The', 'pursuit', 'knowledge', 'journey', 'knows', 'bounds', '.', '”']\n",
      "====================================================================================================\n",
      "Length after Stemmer:\t 27\n",
      "----------------------------------------------------------------------------------------------------\n",
      "\n",
      " After Stemming- words are:\n",
      "\t ['explor', 'vast', 'univers', 'knowledg', ',', 'research', 'delv', 'mysteri', 'scienc', '.', 'from', 'microscop', 'world', 'cell', 'cosmic', 'danc', 'galaxi', ',', 'everi', 'discoveri', 'unveil', 'new', 'chapter', 'understand', 'world', '.', 'the']\n",
      "Length of words:\t 34\n",
      "----------------------------------------------------------------------------------------------------\n",
      "Filtered words:\n",
      "\n",
      "\t ['Exploring', 'vast', 'universe', 'knowledge', ',', 'researchers', 'delve', 'mysteries', 'science', '.', 'From', 'microscopic', 'world', 'cells', 'cosmic', 'dance', 'galaxies', ',', 'every', 'discovery', 'unveils', 'new', 'chapter', 'understanding', 'world', '.', 'The', 'pursuit', 'knowledge', 'journey', 'knows', 'bounds', '.', '”']\n",
      "====================================================================================================\n",
      "Length after Stemmer:\t 28\n",
      "----------------------------------------------------------------------------------------------------\n",
      "\n",
      " After Stemming- words are:\n",
      "\t ['explor', 'vast', 'univers', 'knowledg', ',', 'research', 'delv', 'mysteri', 'scienc', '.', 'from', 'microscop', 'world', 'cell', 'cosmic', 'danc', 'galaxi', ',', 'everi', 'discoveri', 'unveil', 'new', 'chapter', 'understand', 'world', '.', 'the', 'pursuit']\n",
      "Length of words:\t 34\n",
      "----------------------------------------------------------------------------------------------------\n",
      "Filtered words:\n",
      "\n",
      "\t ['Exploring', 'vast', 'universe', 'knowledge', ',', 'researchers', 'delve', 'mysteries', 'science', '.', 'From', 'microscopic', 'world', 'cells', 'cosmic', 'dance', 'galaxies', ',', 'every', 'discovery', 'unveils', 'new', 'chapter', 'understanding', 'world', '.', 'The', 'pursuit', 'knowledge', 'journey', 'knows', 'bounds', '.', '”']\n",
      "====================================================================================================\n",
      "Length after Stemmer:\t 29\n",
      "----------------------------------------------------------------------------------------------------\n",
      "\n",
      " After Stemming- words are:\n",
      "\t ['explor', 'vast', 'univers', 'knowledg', ',', 'research', 'delv', 'mysteri', 'scienc', '.', 'from', 'microscop', 'world', 'cell', 'cosmic', 'danc', 'galaxi', ',', 'everi', 'discoveri', 'unveil', 'new', 'chapter', 'understand', 'world', '.', 'the', 'pursuit', 'knowledg']\n",
      "Length of words:\t 34\n",
      "----------------------------------------------------------------------------------------------------\n",
      "Filtered words:\n",
      "\n",
      "\t ['Exploring', 'vast', 'universe', 'knowledge', ',', 'researchers', 'delve', 'mysteries', 'science', '.', 'From', 'microscopic', 'world', 'cells', 'cosmic', 'dance', 'galaxies', ',', 'every', 'discovery', 'unveils', 'new', 'chapter', 'understanding', 'world', '.', 'The', 'pursuit', 'knowledge', 'journey', 'knows', 'bounds', '.', '”']\n",
      "====================================================================================================\n",
      "Length after Stemmer:\t 30\n",
      "----------------------------------------------------------------------------------------------------\n",
      "\n",
      " After Stemming- words are:\n",
      "\t ['explor', 'vast', 'univers', 'knowledg', ',', 'research', 'delv', 'mysteri', 'scienc', '.', 'from', 'microscop', 'world', 'cell', 'cosmic', 'danc', 'galaxi', ',', 'everi', 'discoveri', 'unveil', 'new', 'chapter', 'understand', 'world', '.', 'the', 'pursuit', 'knowledg', 'journey']\n",
      "Length of words:\t 34\n",
      "----------------------------------------------------------------------------------------------------\n",
      "Filtered words:\n",
      "\n",
      "\t ['Exploring', 'vast', 'universe', 'knowledge', ',', 'researchers', 'delve', 'mysteries', 'science', '.', 'From', 'microscopic', 'world', 'cells', 'cosmic', 'dance', 'galaxies', ',', 'every', 'discovery', 'unveils', 'new', 'chapter', 'understanding', 'world', '.', 'The', 'pursuit', 'knowledge', 'journey', 'knows', 'bounds', '.', '”']\n",
      "====================================================================================================\n",
      "Length after Stemmer:\t 31\n",
      "----------------------------------------------------------------------------------------------------\n",
      "\n",
      " After Stemming- words are:\n",
      "\t ['explor', 'vast', 'univers', 'knowledg', ',', 'research', 'delv', 'mysteri', 'scienc', '.', 'from', 'microscop', 'world', 'cell', 'cosmic', 'danc', 'galaxi', ',', 'everi', 'discoveri', 'unveil', 'new', 'chapter', 'understand', 'world', '.', 'the', 'pursuit', 'knowledg', 'journey', 'know']\n",
      "Length of words:\t 34\n",
      "----------------------------------------------------------------------------------------------------\n",
      "Filtered words:\n",
      "\n",
      "\t ['Exploring', 'vast', 'universe', 'knowledge', ',', 'researchers', 'delve', 'mysteries', 'science', '.', 'From', 'microscopic', 'world', 'cells', 'cosmic', 'dance', 'galaxies', ',', 'every', 'discovery', 'unveils', 'new', 'chapter', 'understanding', 'world', '.', 'The', 'pursuit', 'knowledge', 'journey', 'knows', 'bounds', '.', '”']\n",
      "====================================================================================================\n",
      "Length after Stemmer:\t 32\n",
      "----------------------------------------------------------------------------------------------------\n",
      "\n",
      " After Stemming- words are:\n",
      "\t ['explor', 'vast', 'univers', 'knowledg', ',', 'research', 'delv', 'mysteri', 'scienc', '.', 'from', 'microscop', 'world', 'cell', 'cosmic', 'danc', 'galaxi', ',', 'everi', 'discoveri', 'unveil', 'new', 'chapter', 'understand', 'world', '.', 'the', 'pursuit', 'knowledg', 'journey', 'know', 'bound']\n",
      "Length of words:\t 34\n",
      "----------------------------------------------------------------------------------------------------\n",
      "Filtered words:\n",
      "\n",
      "\t ['Exploring', 'vast', 'universe', 'knowledge', ',', 'researchers', 'delve', 'mysteries', 'science', '.', 'From', 'microscopic', 'world', 'cells', 'cosmic', 'dance', 'galaxies', ',', 'every', 'discovery', 'unveils', 'new', 'chapter', 'understanding', 'world', '.', 'The', 'pursuit', 'knowledge', 'journey', 'knows', 'bounds', '.', '”']\n",
      "====================================================================================================\n",
      "Length after Stemmer:\t 33\n",
      "----------------------------------------------------------------------------------------------------\n",
      "\n",
      " After Stemming- words are:\n",
      "\t ['explor', 'vast', 'univers', 'knowledg', ',', 'research', 'delv', 'mysteri', 'scienc', '.', 'from', 'microscop', 'world', 'cell', 'cosmic', 'danc', 'galaxi', ',', 'everi', 'discoveri', 'unveil', 'new', 'chapter', 'understand', 'world', '.', 'the', 'pursuit', 'knowledg', 'journey', 'know', 'bound', '.']\n",
      "Length of words:\t 34\n",
      "----------------------------------------------------------------------------------------------------\n",
      "Filtered words:\n",
      "\n",
      "\t ['Exploring', 'vast', 'universe', 'knowledge', ',', 'researchers', 'delve', 'mysteries', 'science', '.', 'From', 'microscopic', 'world', 'cells', 'cosmic', 'dance', 'galaxies', ',', 'every', 'discovery', 'unveils', 'new', 'chapter', 'understanding', 'world', '.', 'The', 'pursuit', 'knowledge', 'journey', 'knows', 'bounds', '.', '”']\n",
      "====================================================================================================\n",
      "Length after Stemmer:\t 34\n",
      "----------------------------------------------------------------------------------------------------\n",
      "\n",
      " After Stemming- words are:\n",
      "\t ['explor', 'vast', 'univers', 'knowledg', ',', 'research', 'delv', 'mysteri', 'scienc', '.', 'from', 'microscop', 'world', 'cell', 'cosmic', 'danc', 'galaxi', ',', 'everi', 'discoveri', 'unveil', 'new', 'chapter', 'understand', 'world', '.', 'the', 'pursuit', 'knowledg', 'journey', 'know', 'bound', '.', '”']\n"
     ]
    }
   ],
   "source": [
    "\n",
    "from nltk.stem import PorterStemmer\n",
    "\n",
    "ps=PorterStemmer()\n",
    "\n",
    "stemmed_words=[]\n",
    "for w in filtered_tokens:\n",
    "    stemmed_words.append(ps.stem(w))\n",
    " \n",
    "    print('Length of words:\\t',len(filtered_tokens))\n",
    "    print('-'*100)\n",
    "    print('Filtered words:\\n\\n\\t',filtered_tokens)\n",
    "    print('='*100)\n",
    "    print('Length after Stemmer:\\t',len(stemmed_words))\n",
    "    print('-'*100)\n",
    "    print('\\n After Stemming- words are:\\n\\t',stemmed_words)\n"
   ]
  },
  {
   "cell_type": "code",
   "execution_count": 12,
   "id": "a5722a5c",
   "metadata": {},
   "outputs": [
    {
     "name": "stdout",
     "output_type": "stream",
     "text": [
      "['likes', ',', 'likely', ',', 'liking']\n"
     ]
    }
   ],
   "source": [
    "st='likes,likely,liking'\n",
    "st_words=word_tokenize(st)\n",
    "print(st_words)"
   ]
  },
  {
   "cell_type": "code",
   "execution_count": 13,
   "id": "dbd23d47",
   "metadata": {},
   "outputs": [
    {
     "name": "stdout",
     "output_type": "stream",
     "text": [
      "Length of words:\t 5\n",
      "----------------------------------------------------------------------------------------------------\n",
      "Filtered words:\n",
      "\n",
      "\t ['likes', ',', 'likely', ',', 'liking']\n",
      "====================================================================================================\n",
      "Length after Stemmer:\t 5\n",
      "----------------------------------------------------------------------------------------------------\n",
      "\n",
      " After Stemming- words are:\n",
      "\t ['like', ',', 'like', ',', 'like']\n"
     ]
    }
   ],
   "source": [
    "from nltk.stem import PorterStemmer\n",
    "ps=PorterStemmer()\n",
    "stemmed_words=[]\n",
    "for w in st_words:\n",
    " stemmed_words.append(ps.stem(w))\n",
    " \n",
    "print('Length of words:\\t',len(st_words))\n",
    "print('-'*100)\n",
    "print('Filtered words:\\n\\n\\t',st_words)\n",
    "print('='*100)\n",
    "print('Length after Stemmer:\\t',len(stemmed_words))\n",
    "print('-'*100)\n",
    "print('\\n After Stemming- words are:\\n\\t',stemmed_words)\n"
   ]
  },
  {
   "cell_type": "code",
   "execution_count": null,
   "id": "d9d8a85f",
   "metadata": {},
   "outputs": [],
   "source": [
    "Lemmatization:"
   ]
  },
  {
   "cell_type": "code",
   "execution_count": 14,
   "id": "bb835cc3",
   "metadata": {},
   "outputs": [
    {
     "name": "stderr",
     "output_type": "stream",
     "text": [
      "[nltk_data] Downloading package wordnet to\n",
      "[nltk_data]     C:\\Users\\admin\\AppData\\Roaming\\nltk_data...\n",
      "[nltk_data]   Package wordnet is already up-to-date!\n"
     ]
    },
    {
     "data": {
      "text/plain": [
       "True"
      ]
     },
     "execution_count": 14,
     "metadata": {},
     "output_type": "execute_result"
    }
   ],
   "source": [
    "nltk.download('wordnet')"
   ]
  },
  {
   "cell_type": "code",
   "execution_count": 15,
   "id": "2238629d",
   "metadata": {},
   "outputs": [
    {
     "name": "stdout",
     "output_type": "stream",
     "text": [
      "Enter a sentences:\n",
      "\n",
      "\tworks changed programs retrieved studying\n",
      "====================================================================================================\n",
      "Tokens of word:\n",
      " ['works', 'changed', 'programs', 'retrieved', 'studying']\n",
      "Length: \t 5\n",
      "****************************************************************************************************\n",
      "----------------------------------------------------------------------------------------------------\n",
      "Original text:\n",
      " works changed programs retrieved studying\n",
      "====================================================================================================\n",
      "Lemmatized words:\n",
      " ['work', 'change', 'program', 'retrieve', 'study']\n"
     ]
    }
   ],
   "source": [
    "from nltk.stem import WordNetLemmatizer\n",
    "#Initialize the wordnet lemmatizer\n",
    "lemma=WordNetLemmatizer()\n",
    "#prompt to take input string\n",
    "text=input('Enter a sentences:\\n\\n\\t')\n",
    "#split as word tokens\n",
    "words=word_tokenize(text)\n",
    "print('='*100)\n",
    "print('Tokens of word:\\n',words)\n",
    "print('Length: \\t',len(words))\n",
    "print('*'*100)\n",
    "#Apply Lemmatization to each word\n",
    "lemma_words=[lemma.lemmatize(word,pos='v') for word in words ]\n",
    "print('-'*100)\n",
    "print('Original text:\\n',text)\n",
    "print('='*100)\n",
    "print('Lemmatized words:\\n',lemma_words)\n"
   ]
  },
  {
   "cell_type": "code",
   "execution_count": null,
   "id": "ab4f8f16",
   "metadata": {},
   "outputs": [],
   "source": []
  },
  {
   "cell_type": "code",
   "execution_count": null,
   "id": "802168c2",
   "metadata": {},
   "outputs": [],
   "source": [
    "4. Explain the concept of stop words and their role in text preprocessing. How do they impact \n",
    "NLP tasks?"
   ]
  },
  {
   "cell_type": "markdown",
   "id": "814361f0",
   "metadata": {},
   "source": [
    "Stop words are common words in a language that are often removed during the preprocessing of natural language \n",
    "text data before analysis. These words are typically high-frequency words that, while necessary for the structure of a \n",
    "language, do not contribute much to the overall meaning of a document. Examples of stop words in English include “the,” \n",
    "“and,” “is,” “of,” etc\n",
    "Role in Text NLP Tasks:\n",
    "1.Noise Reduction\n",
    "2.Efficiency:  \n",
    "3.Focus on Content Words\n",
    "Impact:\n",
    "1.Improved Precision: Removing stop words can improve the precision of models. Without the interference of common words, \n",
    "algorithms can concentrate on the essential terms that carry more weight in determining the meaning of a document.\n",
    "2.Reduced Dimensionality: Stop words often contribute to the high dimensionality of text data. Removing them reduces \n",
    "thenumber of features, making the data more manageable and potentially improving the performance of models.\n",
    "3.Enhanced Interpretability: The absence of stop words can make the processed text more interpretable. \n",
    "The remaining words are likely to be more meaningful, providing clearer insights into the content."
   ]
  },
  {
   "cell_type": "code",
   "execution_count": null,
   "id": "c0f62c90",
   "metadata": {},
   "outputs": [],
   "source": [
    "5. How does the process of removing punctuation contribute to text preprocessing in NLP? \n",
    "What are its benefits?\n"
   ]
  },
  {
   "cell_type": "markdown",
   "id": "b26e40a0",
   "metadata": {},
   "source": [
    "Removing punctuation in text preprocessing for NLP helps simplify the data by eliminating non-essential characters.\n",
    "This aids in creating a cleaner and more consistent input for models, as punctuation often doesn't carry significant \n",
    "semantic meaning and can introduce noise. The benefits include improved model efficiency, reduced dimensionality, and \n",
    "increased accuracy in tasks like sentiment analysis or text classification.\n"
   ]
  },
  {
   "cell_type": "code",
   "execution_count": null,
   "id": "fa2f3013",
   "metadata": {},
   "outputs": [],
   "source": [
    "parts of speech"
   ]
  },
  {
   "cell_type": "code",
   "execution_count": 16,
   "id": "72304e38",
   "metadata": {},
   "outputs": [
    {
     "name": "stderr",
     "output_type": "stream",
     "text": [
      "[nltk_data] Downloading package averaged_perceptron_tagger to\n",
      "[nltk_data]     C:\\Users\\admin\\AppData\\Roaming\\nltk_data...\n",
      "[nltk_data]   Unzipping taggers\\averaged_perceptron_tagger.zip.\n"
     ]
    },
    {
     "data": {
      "text/plain": [
       "True"
      ]
     },
     "execution_count": 16,
     "metadata": {},
     "output_type": "execute_result"
    }
   ],
   "source": [
    "nltk.download('averaged_perceptron_tagger')"
   ]
  },
  {
   "cell_type": "code",
   "execution_count": 17,
   "id": "0775e72d",
   "metadata": {},
   "outputs": [
    {
     "name": "stdout",
     "output_type": "stream",
     "text": [
      "Enter a sentences:\n",
      "\n",
      "\tif you are, going through hell,keep going,\n",
      "====================================================================================================\n",
      "Tokens of word:\n",
      " ['if', 'you', 'are', ',', 'going', 'through', 'hell', ',', 'keep', 'going', ',']\n",
      "Length: \t 11\n",
      "****************************************************************************************************\n",
      "----------------------------------------------------------------------------------------------------\n",
      "Original text:\n",
      " if you are, going through hell,keep going,\n",
      "====================================================================================================\n",
      "========================================\n",
      "POS Tagging ('if', 'IN')\n",
      "========================================\n",
      "========================================\n",
      "POS Tagging ('you', 'PRP')\n",
      "========================================\n",
      "========================================\n",
      "POS Tagging ('are', 'VBP')\n",
      "========================================\n",
      "========================================\n",
      "POS Tagging (',', ',')\n",
      "========================================\n",
      "========================================\n",
      "POS Tagging ('going', 'VBG')\n",
      "========================================\n",
      "========================================\n",
      "POS Tagging ('through', 'IN')\n",
      "========================================\n",
      "========================================\n",
      "POS Tagging ('hell', 'NN')\n",
      "========================================\n",
      "========================================\n",
      "POS Tagging (',', ',')\n",
      "========================================\n",
      "========================================\n",
      "POS Tagging ('keep', 'VB')\n",
      "========================================\n",
      "========================================\n",
      "POS Tagging ('going', 'VBG')\n",
      "========================================\n",
      "========================================\n",
      "POS Tagging (',', ',')\n",
      "========================================\n"
     ]
    }
   ],
   "source": [
    "import nltk\n",
    "from nltk import pos_tag\n",
    "#prompt to take input string\n",
    "text=input('Enter a sentences:\\n\\n\\t')\n",
    "#split as word tokens\n",
    "words=word_tokenize(text)\n",
    "print('='*100)\n",
    "print('Tokens of word:\\n',words)\n",
    "print('Length: \\t',len(words))\n",
    "print('*'*100)\n",
    "#Apply POS tag to each word\n",
    "pos_tags=pos_tag(words)\n",
    "print('-'*100)\n",
    "print('Original text:\\n',text)\n",
    "print('='*100)\n",
    "for w in pos_tags:\n",
    "    print('='*40)\n",
    "    print('POS Tagging',w)\n",
    "    print('='*40)\n",
    "#print('POS Tags:\\n',pos_tags)\n"
   ]
  },
  {
   "cell_type": "code",
   "execution_count": null,
   "id": "ab9ffdeb",
   "metadata": {},
   "outputs": [],
   "source": [
    "Filter out Punctuation"
   ]
  },
  {
   "cell_type": "code",
   "execution_count": 18,
   "id": "17bc2786",
   "metadata": {},
   "outputs": [
    {
     "name": "stdout",
     "output_type": "stream",
     "text": [
      "Enter a sentences:\n",
      "\n",
      "\tIf you want something said, ask a man; if you want something done, ask a woman.\n",
      "====================================================================================================\n",
      "Length: \t 20\n",
      "Tokens of word:\n",
      " ['If', 'you', 'want', 'something', 'said', ',', 'ask', 'a', 'man', ';', 'if', 'you', 'want', 'something', 'done', ',', 'ask', 'a', 'woman', '.']\n",
      "****************************************************************************************************\n",
      "----------------------------------------------------------------------------------------------------\n",
      "Original text:\n",
      " If you want something said, ask a man; if you want something done, ask a woman.\n",
      "====================================================================================================\n",
      "After Removing Punctuation:\n",
      "\n",
      "['If', 'you', 'want', 'something', 'said', 'ask', 'a', 'man', 'if', 'you', 'want', 'something', 'done', 'ask', 'a', 'woman'] 16\n"
     ]
    }
   ],
   "source": [
    "import nltk\n",
    "from nltk import pos_tag\n",
    "#prompt to take input string\n",
    "text=input('Enter a sentences:\\n\\n\\t')\n",
    "#split as word tokens\n",
    "tokens=word_tokenize(text)\n",
    "print('='*100)\n",
    "print('Length: \\t',len(tokens))\n",
    "print('Tokens of word:\\n',tokens)\n",
    "print('*'*100)\n",
    "#Remove all tokens that are not alphabetic\n",
    "words=[word for word in tokens if word.isalpha()]\n",
    "print('-'*100)\n",
    "print('Original text:\\n',text)\n",
    "print('='*100)\n",
    "print('After Removing Punctuation:\\n')\n",
    "print(words,len(words))\n"
   ]
  },
  {
   "cell_type": "code",
   "execution_count": null,
   "id": "ac839f74",
   "metadata": {},
   "outputs": [],
   "source": [
    "6. Discuss the importance of lowercase conversion in text preprocessing. Why is it a \n",
    "common step in NLP tasks?\n"
   ]
  },
  {
   "cell_type": "markdown",
   "id": "69ccba34",
   "metadata": {},
   "source": [
    "Lowercase conversion is a common step in text preprocessing for Natural Language Processing (NLP) tasks. \n",
    "It is a simple yet effective form of text preprocessing that can help improve the consistency of expected output and reduce the \n",
    "complexity of the problem at hand.\n",
    "\n",
    "The importance of lowercase conversion lies in the fact that it helps to maintain the consistency flow during NLP tasks and \n",
    "text mining .\n",
    "It is applicable to most text mining and NLP problems and can help in cases where the dataset is not very large .\n",
    "Lowercasing ALL text data is one of the simplest and most effective forms of text preprocessing .\n",
    "In conclusion, lowercase conversion is an important step in text preprocessing for NLP tasks. \n",
    "It helps to maintain consistency and reduce complexity, making it easier to analyze and extract meaningful information from \n",
    "text data."
   ]
  },
  {
   "cell_type": "code",
   "execution_count": null,
   "id": "9c29721b",
   "metadata": {},
   "outputs": [],
   "source": [
    "7.Explain the term \"vectorization\" concerning text data. How does techniques like \n",
    "CountVectorizer contribute to text preprocessing in NLP?"
   ]
  },
  {
   "cell_type": "markdown",
   "id": "db7691e0",
   "metadata": {},
   "source": [
    "Word Embeddings or Word vectorization is a methodology in NLP to map words or phrases from vocabulary to a corresponding vector \n",
    "of real numbers which used to find word predictions, word similarities/semantics. The process of converting words into numbers \n",
    "are called Vectorization.\n",
    "Techniques like CountVectorizer and TfidfVectorizer contribute to text preprocessing in NLP through the following:\n",
    "1.CountVectorizer\n",
    "2.TfidfVectorizer\n",
    "Contributions to Text Preprocessing:\n",
    "•Numerical Representation: These vectorization techniques transform the text into numerical representations, enabling the \n",
    "application of mathematical models.\n",
    "•Feature Extraction: They convert words into features, allowing models to operate on a structured set of inputs.\n",
    "•Dimensionality Reduction: Vectorization can help manage the high dimensionality of text data, making it suitable for machine \n",
    "learning algorithms.\n",
    "In summary, vectorization techniques like CountVectorizer and TfidfVectorizer play a pivotal role in text preprocessing for NLP,\n",
    "converting raw text data into a format suitable for machine learning models, allowing efficient analysis and extraction of \n",
    "meaningful patterns."
   ]
  },
  {
   "cell_type": "code",
   "execution_count": 19,
   "id": "b6fd89eb",
   "metadata": {},
   "outputs": [
    {
     "name": "stdout",
     "output_type": "stream",
     "text": [
      "Text paragraph please:\n",
      "\n",
      "\tChandrayaan-3 is a follow-on mission to Chandrayaan-2 to demonstrate end-to-end capability in safe landing and roving on the lunar surface. It consists of Lander and Rover configuration. It will be launched by LVM3 from SDSC SHAR, Sriharikota.20\n",
      "Sentences as tokens:\n",
      "Chandrayaan-3 is a follow-on mission to Chandrayaan-2 to demonstrate end-to-end capability in safe landing and roving on the lunar surface.\n",
      "It consists of Lander and Rover configuration.\n",
      "It will be launched by LVM3 from SDSC SHAR, Sriharikota.20\n",
      "Feature names:\n",
      " ['20' 'and' 'be' 'by' 'capability' 'chandrayaan' 'configuration'\n",
      " 'consists' 'demonstrate' 'end' 'follow' 'from' 'in' 'is' 'it' 'lander'\n",
      " 'landing' 'launched' 'lunar' 'lvm3' 'mission' 'of' 'on' 'rover' 'roving'\n",
      " 'safe' 'sdsc' 'shar' 'sriharikota' 'surface' 'the' 'to' 'will']\n",
      "====================================================================================================\n",
      "Token Counts Matrix:\n",
      "[[0 1 0 0 1 2 0 0 1 2 1 0 1 1 0 0 1 0 1 0 1 0 2 0 1 1 0 0 0 1 1 3 0]\n",
      " [0 1 0 0 0 0 1 1 0 0 0 0 0 0 1 1 0 0 0 0 0 1 0 1 0 0 0 0 0 0 0 0 0]\n",
      " [1 0 1 1 0 0 0 0 0 0 0 1 0 0 1 0 0 1 0 1 0 0 0 0 0 0 1 1 1 0 0 0 1]]\n"
     ]
    }
   ],
   "source": [
    "import numpy as np\n",
    "from sklearn.feature_extraction.text import CountVectorizer\n",
    "documents=input('Text paragraph please:\\n\\n\\t')\n",
    "sent_tokens=sent_tokenize(documents)\n",
    "print('Sentences as tokens:')\n",
    "for sent in sent_tokens:\n",
    " print(sent)\n",
    " \n",
    "#Initialize countvectorizer\n",
    "vector=CountVectorizer()\n",
    "#Fit and transform the documents\n",
    "x=vector.fit_transform(sent_tokens)\n",
    "#get the feature names (words)\n",
    "feature_names=vector.get_feature_names_out()\n",
    "#Display the matrix of token counts\n",
    "print('Feature names:\\n',feature_names)\n",
    "print('='*100)\n",
    "print('Token Counts Matrix:')\n",
    "print(x.toarray())\n"
   ]
  },
  {
   "cell_type": "code",
   "execution_count": null,
   "id": "5b06779a",
   "metadata": {},
   "outputs": [],
   "source": [
    "8. Describe the concept of normalization in NLP. Provide examples of normalization \n",
    "techniques used in text preprocessing."
   ]
  },
  {
   "cell_type": "markdown",
   "id": "a974d01a",
   "metadata": {},
   "source": [
    "In NLP, normalization refers to the process of standardizing text data to ensure uniformity and consistency. This helps in reducing variations and improving the effectiveness of downstream tasks. Some common normalization techniques include:\n",
    "\n",
    "1. *Lowercasing:*\n",
    "   - *Example:* Converting all letters to lowercase. \"Hello\" becomes \"hello.\"\n",
    "\n",
    "2. *Tokenization:*\n",
    "   - *Example:* Breaking text into individual words or tokens. \"Natural language processing\" becomes [\"Natural\", \"language\", \"processing\"].\n",
    "\n",
    "3. *Stemming:*\n",
    "   - *Example:* Reducing words to their root or base form. \"Running\" becomes \"run.\"\n",
    "\n",
    "4. *Lemmatization:*\n",
    "   - *Example:* Similar to stemming but considers the context to bring words to their base form. \"Better\" becomes \"good.\"\n",
    "\n",
    "5. *Removing Stop Words:*\n",
    "   - *Example:* Eliminating common words like \"the,\" \"and,\" or \"is\" that don't contribute much to the meaning.\n",
    "\n",
    "6. *Handling Contractions:*\n",
    "   - *Example:* Expanding contractions like \"can't\" to \"cannot.\"\n",
    "\n",
    "7. *Removing Special Characters and Numbers:*\n",
    "   - *Example:* Eliminating punctuation, symbols, and numerical characters.\n",
    "\n",
    "8. *Handling Acronyms and Abbreviations:*\n",
    "   - *Example:* Expanding or converting acronyms like \"NLP\" to \"Natural Language Processing.\"\n",
    "\n",
    "Normalization ensures that the text data is consistent, making it easier for models to learn patterns and relationships."
   ]
  },
  {
   "cell_type": "code",
   "execution_count": null,
   "id": "7da87e82",
   "metadata": {},
   "outputs": [],
   "source": []
  }
 ],
 "metadata": {
  "kernelspec": {
   "display_name": "Python 3 (ipykernel)",
   "language": "python",
   "name": "python3"
  },
  "language_info": {
   "codemirror_mode": {
    "name": "ipython",
    "version": 3
   },
   "file_extension": ".py",
   "mimetype": "text/x-python",
   "name": "python",
   "nbconvert_exporter": "python",
   "pygments_lexer": "ipython3",
   "version": "3.11.4"
  }
 },
 "nbformat": 4,
 "nbformat_minor": 5
}
