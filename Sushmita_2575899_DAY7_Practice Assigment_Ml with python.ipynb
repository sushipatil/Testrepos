{
 "cells": [
  {
   "cell_type": "code",
   "execution_count": 2,
   "id": "29d0d234",
   "metadata": {},
   "outputs": [],
   "source": [
    "import numpy as np \n",
    "import pandas as pd\n",
    "import matplotlib.pyplot as plt\n",
    "import seaborn as sns"
   ]
  },
  {
   "cell_type": "code",
   "execution_count": 5,
   "id": "cfe84b70",
   "metadata": {},
   "outputs": [
    {
     "data": {
      "text/html": [
       "<div>\n",
       "<style scoped>\n",
       "    .dataframe tbody tr th:only-of-type {\n",
       "        vertical-align: middle;\n",
       "    }\n",
       "\n",
       "    .dataframe tbody tr th {\n",
       "        vertical-align: top;\n",
       "    }\n",
       "\n",
       "    .dataframe thead th {\n",
       "        text-align: right;\n",
       "    }\n",
       "</style>\n",
       "<table border=\"1\" class=\"dataframe\">\n",
       "  <thead>\n",
       "    <tr style=\"text-align: right;\">\n",
       "      <th></th>\n",
       "      <th>Step</th>\n",
       "      <th>Amount</th>\n",
       "      <th>nameOrig</th>\n",
       "      <th>oldbalabce</th>\n",
       "      <th>newbalance</th>\n",
       "      <th>nameDest</th>\n",
       "      <th>oldbalanceDest</th>\n",
       "      <th>newbalanceDest</th>\n",
       "      <th>isFraud</th>\n",
       "    </tr>\n",
       "  </thead>\n",
       "  <tbody>\n",
       "    <tr>\n",
       "      <th>0</th>\n",
       "      <td>1</td>\n",
       "      <td>9839.64</td>\n",
       "      <td>1231006815</td>\n",
       "      <td>170136.0</td>\n",
       "      <td>160296.36</td>\n",
       "      <td>1979787155</td>\n",
       "      <td>0</td>\n",
       "      <td>0.0</td>\n",
       "      <td>0</td>\n",
       "    </tr>\n",
       "    <tr>\n",
       "      <th>1</th>\n",
       "      <td>1</td>\n",
       "      <td>1864.28</td>\n",
       "      <td>1666544295</td>\n",
       "      <td>21249.0</td>\n",
       "      <td>19384.72</td>\n",
       "      <td>2044282225</td>\n",
       "      <td>0</td>\n",
       "      <td>0.0</td>\n",
       "      <td>0</td>\n",
       "    </tr>\n",
       "    <tr>\n",
       "      <th>2</th>\n",
       "      <td>1</td>\n",
       "      <td>181.00</td>\n",
       "      <td>1305486145</td>\n",
       "      <td>181.0</td>\n",
       "      <td>0.00</td>\n",
       "      <td>553264065</td>\n",
       "      <td>0</td>\n",
       "      <td>0.0</td>\n",
       "      <td>1</td>\n",
       "    </tr>\n",
       "    <tr>\n",
       "      <th>3</th>\n",
       "      <td>1</td>\n",
       "      <td>181.00</td>\n",
       "      <td>840083671</td>\n",
       "      <td>181.0</td>\n",
       "      <td>0.00</td>\n",
       "      <td>38997010</td>\n",
       "      <td>21182</td>\n",
       "      <td>0.0</td>\n",
       "      <td>1</td>\n",
       "    </tr>\n",
       "    <tr>\n",
       "      <th>4</th>\n",
       "      <td>1</td>\n",
       "      <td>11668.14</td>\n",
       "      <td>2048537720</td>\n",
       "      <td>41554.0</td>\n",
       "      <td>29885.86</td>\n",
       "      <td>1230701703</td>\n",
       "      <td>0</td>\n",
       "      <td>0.0</td>\n",
       "      <td>0</td>\n",
       "    </tr>\n",
       "  </tbody>\n",
       "</table>\n",
       "</div>"
      ],
      "text/plain": [
       "   Step    Amount    nameOrig  oldbalabce  newbalance    nameDest  \\\n",
       "0     1   9839.64  1231006815    170136.0   160296.36  1979787155   \n",
       "1     1   1864.28  1666544295     21249.0    19384.72  2044282225   \n",
       "2     1    181.00  1305486145       181.0        0.00   553264065   \n",
       "3     1    181.00   840083671       181.0        0.00    38997010   \n",
       "4     1  11668.14  2048537720     41554.0    29885.86  1230701703   \n",
       "\n",
       "   oldbalanceDest  newbalanceDest  isFraud  \n",
       "0               0             0.0        0  \n",
       "1               0             0.0        0  \n",
       "2               0             0.0        1  \n",
       "3           21182             0.0        1  \n",
       "4               0             0.0        0  "
      ]
     },
     "execution_count": 5,
     "metadata": {},
     "output_type": "execute_result"
    }
   ],
   "source": [
    "#Load the dataset\n",
    "data=pd.read_csv('Online Fraud.csv')\n",
    "data.head()"
   ]
  },
  {
   "cell_type": "code",
   "execution_count": 6,
   "id": "d8ecc13d",
   "metadata": {},
   "outputs": [
    {
     "data": {
      "text/plain": [
       "Step              0\n",
       "Amount            0\n",
       "nameOrig          0\n",
       "oldbalabce        0\n",
       "newbalance        0\n",
       "nameDest          0\n",
       "oldbalanceDest    0\n",
       "newbalanceDest    0\n",
       "isFraud           0\n",
       "dtype: int64"
      ]
     },
     "execution_count": 6,
     "metadata": {},
     "output_type": "execute_result"
    }
   ],
   "source": [
    "# Checking for missing values 2\n",
    "\n",
    "data.isna().sum()"
   ]
  },
  {
   "cell_type": "code",
   "execution_count": 7,
   "id": "1bb3887e",
   "metadata": {},
   "outputs": [
    {
     "name": "stdout",
     "output_type": "stream",
     "text": [
      "<class 'pandas.core.frame.DataFrame'>\n",
      "RangeIndex: 20 entries, 0 to 19\n",
      "Data columns (total 9 columns):\n",
      " #   Column          Non-Null Count  Dtype  \n",
      "---  ------          --------------  -----  \n",
      " 0   Step            20 non-null     int64  \n",
      " 1   Amount          20 non-null     float64\n",
      " 2   nameOrig        20 non-null     int64  \n",
      " 3   oldbalabce      20 non-null     float64\n",
      " 4   newbalance      20 non-null     float64\n",
      " 5   nameDest        20 non-null     int64  \n",
      " 6   oldbalanceDest  20 non-null     int64  \n",
      " 7   newbalanceDest  20 non-null     float64\n",
      " 8   isFraud         20 non-null     int64  \n",
      "dtypes: float64(4), int64(5)\n",
      "memory usage: 1.5 KB\n"
     ]
    }
   ],
   "source": [
    "data.info()"
   ]
  },
  {
   "cell_type": "code",
   "execution_count": 8,
   "id": "18c66ed7",
   "metadata": {},
   "outputs": [
    {
     "data": {
      "text/html": [
       "<div>\n",
       "<style scoped>\n",
       "    .dataframe tbody tr th:only-of-type {\n",
       "        vertical-align: middle;\n",
       "    }\n",
       "\n",
       "    .dataframe tbody tr th {\n",
       "        vertical-align: top;\n",
       "    }\n",
       "\n",
       "    .dataframe thead th {\n",
       "        text-align: right;\n",
       "    }\n",
       "</style>\n",
       "<table border=\"1\" class=\"dataframe\">\n",
       "  <thead>\n",
       "    <tr style=\"text-align: right;\">\n",
       "      <th></th>\n",
       "      <th>Step</th>\n",
       "      <th>Amount</th>\n",
       "      <th>nameOrig</th>\n",
       "      <th>oldbalabce</th>\n",
       "      <th>newbalance</th>\n",
       "      <th>nameDest</th>\n",
       "      <th>oldbalanceDest</th>\n",
       "      <th>newbalanceDest</th>\n",
       "      <th>isFraud</th>\n",
       "    </tr>\n",
       "  </thead>\n",
       "  <tbody>\n",
       "    <tr>\n",
       "      <th>count</th>\n",
       "      <td>20.0</td>\n",
       "      <td>20.000000</td>\n",
       "      <td>2.000000e+01</td>\n",
       "      <td>20.000000</td>\n",
       "      <td>20.000000</td>\n",
       "      <td>2.000000e+01</td>\n",
       "      <td>20.000000</td>\n",
       "      <td>20.00000</td>\n",
       "      <td>20.000000</td>\n",
       "    </tr>\n",
       "    <tr>\n",
       "      <th>mean</th>\n",
       "      <td>1.0</td>\n",
       "      <td>26737.953000</td>\n",
       "      <td>1.218864e+09</td>\n",
       "      <td>64364.511500</td>\n",
       "      <td>59504.964500</td>\n",
       "      <td>1.049829e+09</td>\n",
       "      <td>5071.650000</td>\n",
       "      <td>12492.21750</td>\n",
       "      <td>0.100000</td>\n",
       "    </tr>\n",
       "    <tr>\n",
       "      <th>std</th>\n",
       "      <td>0.0</td>\n",
       "      <td>66996.753081</td>\n",
       "      <td>6.171345e+08</td>\n",
       "      <td>119703.714704</td>\n",
       "      <td>118984.830038</td>\n",
       "      <td>6.502767e+08</td>\n",
       "      <td>11088.207089</td>\n",
       "      <td>37076.66285</td>\n",
       "      <td>0.307794</td>\n",
       "    </tr>\n",
       "    <tr>\n",
       "      <th>min</th>\n",
       "      <td>1.0</td>\n",
       "      <td>181.000000</td>\n",
       "      <td>9.004564e+07</td>\n",
       "      <td>181.000000</td>\n",
       "      <td>0.000000</td>\n",
       "      <td>3.899701e+07</td>\n",
       "      <td>0.000000</td>\n",
       "      <td>0.00000</td>\n",
       "      <td>0.000000</td>\n",
       "    </tr>\n",
       "    <tr>\n",
       "      <th>25%</th>\n",
       "      <td>1.0</td>\n",
       "      <td>1789.165000</td>\n",
       "      <td>8.205004e+08</td>\n",
       "      <td>4016.500000</td>\n",
       "      <td>0.000000</td>\n",
       "      <td>5.340486e+08</td>\n",
       "      <td>0.000000</td>\n",
       "      <td>0.00000</td>\n",
       "      <td>0.000000</td>\n",
       "    </tr>\n",
       "    <tr>\n",
       "      <th>50%</th>\n",
       "      <td>1.0</td>\n",
       "      <td>4718.275000</td>\n",
       "      <td>1.251388e+09</td>\n",
       "      <td>18048.000000</td>\n",
       "      <td>16061.195000</td>\n",
       "      <td>9.852368e+08</td>\n",
       "      <td>0.000000</td>\n",
       "      <td>0.00000</td>\n",
       "      <td>0.000000</td>\n",
       "    </tr>\n",
       "    <tr>\n",
       "      <th>75%</th>\n",
       "      <td>1.0</td>\n",
       "      <td>9693.615000</td>\n",
       "      <td>1.682478e+09</td>\n",
       "      <td>44755.000000</td>\n",
       "      <td>38797.245000</td>\n",
       "      <td>1.659338e+09</td>\n",
       "      <td>1270.750000</td>\n",
       "      <td>0.00000</td>\n",
       "      <td>0.000000</td>\n",
       "    </tr>\n",
       "    <tr>\n",
       "      <th>max</th>\n",
       "      <td>1.0</td>\n",
       "      <td>229133.940000</td>\n",
       "      <td>2.048538e+09</td>\n",
       "      <td>503264.000000</td>\n",
       "      <td>499165.220000</td>\n",
       "      <td>2.096539e+09</td>\n",
       "      <td>41898.000000</td>\n",
       "      <td>157982.12000</td>\n",
       "      <td>1.000000</td>\n",
       "    </tr>\n",
       "  </tbody>\n",
       "</table>\n",
       "</div>"
      ],
      "text/plain": [
       "       Step         Amount      nameOrig     oldbalabce     newbalance  \\\n",
       "count  20.0      20.000000  2.000000e+01      20.000000      20.000000   \n",
       "mean    1.0   26737.953000  1.218864e+09   64364.511500   59504.964500   \n",
       "std     0.0   66996.753081  6.171345e+08  119703.714704  118984.830038   \n",
       "min     1.0     181.000000  9.004564e+07     181.000000       0.000000   \n",
       "25%     1.0    1789.165000  8.205004e+08    4016.500000       0.000000   \n",
       "50%     1.0    4718.275000  1.251388e+09   18048.000000   16061.195000   \n",
       "75%     1.0    9693.615000  1.682478e+09   44755.000000   38797.245000   \n",
       "max     1.0  229133.940000  2.048538e+09  503264.000000  499165.220000   \n",
       "\n",
       "           nameDest  oldbalanceDest  newbalanceDest    isFraud  \n",
       "count  2.000000e+01       20.000000        20.00000  20.000000  \n",
       "mean   1.049829e+09     5071.650000     12492.21750   0.100000  \n",
       "std    6.502767e+08    11088.207089     37076.66285   0.307794  \n",
       "min    3.899701e+07        0.000000         0.00000   0.000000  \n",
       "25%    5.340486e+08        0.000000         0.00000   0.000000  \n",
       "50%    9.852368e+08        0.000000         0.00000   0.000000  \n",
       "75%    1.659338e+09     1270.750000         0.00000   0.000000  \n",
       "max    2.096539e+09    41898.000000    157982.12000   1.000000  "
      ]
     },
     "execution_count": 8,
     "metadata": {},
     "output_type": "execute_result"
    }
   ],
   "source": [
    "data.describe()"
   ]
  },
  {
   "cell_type": "code",
   "execution_count": 9,
   "id": "0f322a17",
   "metadata": {},
   "outputs": [
    {
     "data": {
      "text/plain": [
       "Step                int64\n",
       "Amount            float64\n",
       "nameOrig            int64\n",
       "oldbalabce        float64\n",
       "newbalance        float64\n",
       "nameDest            int64\n",
       "oldbalanceDest      int64\n",
       "newbalanceDest    float64\n",
       "isFraud             int64\n",
       "dtype: object"
      ]
     },
     "execution_count": 9,
     "metadata": {},
     "output_type": "execute_result"
    }
   ],
   "source": [
    "data.dtypes"
   ]
  },
  {
   "cell_type": "code",
   "execution_count": 7,
   "id": "0903f74c",
   "metadata": {},
   "outputs": [
    {
     "data": {
      "text/plain": [
       "(316800, 19)"
      ]
     },
     "execution_count": 7,
     "metadata": {},
     "output_type": "execute_result"
    }
   ],
   "source": [
    "data.shape"
   ]
  },
  {
   "cell_type": "code",
   "execution_count": 10,
   "id": "900d7d69",
   "metadata": {},
   "outputs": [
    {
     "data": {
      "text/html": [
       "<div>\n",
       "<style scoped>\n",
       "    .dataframe tbody tr th:only-of-type {\n",
       "        vertical-align: middle;\n",
       "    }\n",
       "\n",
       "    .dataframe tbody tr th {\n",
       "        vertical-align: top;\n",
       "    }\n",
       "\n",
       "    .dataframe thead th {\n",
       "        text-align: right;\n",
       "    }\n",
       "</style>\n",
       "<table border=\"1\" class=\"dataframe\">\n",
       "  <thead>\n",
       "    <tr style=\"text-align: right;\">\n",
       "      <th></th>\n",
       "      <th>Step</th>\n",
       "      <th>Amount</th>\n",
       "      <th>nameOrig</th>\n",
       "      <th>oldbalabce</th>\n",
       "      <th>newbalance</th>\n",
       "      <th>nameDest</th>\n",
       "      <th>oldbalanceDest</th>\n",
       "      <th>newbalanceDest</th>\n",
       "      <th>isFraud</th>\n",
       "    </tr>\n",
       "  </thead>\n",
       "  <tbody>\n",
       "    <tr>\n",
       "      <th>0</th>\n",
       "      <td>1</td>\n",
       "      <td>9839.64</td>\n",
       "      <td>1231006815</td>\n",
       "      <td>170136.00</td>\n",
       "      <td>160296.36</td>\n",
       "      <td>1979787155</td>\n",
       "      <td>0</td>\n",
       "      <td>0.00</td>\n",
       "      <td>0</td>\n",
       "    </tr>\n",
       "    <tr>\n",
       "      <th>1</th>\n",
       "      <td>1</td>\n",
       "      <td>1864.28</td>\n",
       "      <td>1666544295</td>\n",
       "      <td>21249.00</td>\n",
       "      <td>19384.72</td>\n",
       "      <td>2044282225</td>\n",
       "      <td>0</td>\n",
       "      <td>0.00</td>\n",
       "      <td>0</td>\n",
       "    </tr>\n",
       "    <tr>\n",
       "      <th>2</th>\n",
       "      <td>1</td>\n",
       "      <td>181.00</td>\n",
       "      <td>1305486145</td>\n",
       "      <td>181.00</td>\n",
       "      <td>0.00</td>\n",
       "      <td>553264065</td>\n",
       "      <td>0</td>\n",
       "      <td>0.00</td>\n",
       "      <td>1</td>\n",
       "    </tr>\n",
       "    <tr>\n",
       "      <th>3</th>\n",
       "      <td>1</td>\n",
       "      <td>181.00</td>\n",
       "      <td>840083671</td>\n",
       "      <td>181.00</td>\n",
       "      <td>0.00</td>\n",
       "      <td>38997010</td>\n",
       "      <td>21182</td>\n",
       "      <td>0.00</td>\n",
       "      <td>1</td>\n",
       "    </tr>\n",
       "    <tr>\n",
       "      <th>4</th>\n",
       "      <td>1</td>\n",
       "      <td>11668.14</td>\n",
       "      <td>2048537720</td>\n",
       "      <td>41554.00</td>\n",
       "      <td>29885.86</td>\n",
       "      <td>1230701703</td>\n",
       "      <td>0</td>\n",
       "      <td>0.00</td>\n",
       "      <td>0</td>\n",
       "    </tr>\n",
       "    <tr>\n",
       "      <th>5</th>\n",
       "      <td>1</td>\n",
       "      <td>7817.71</td>\n",
       "      <td>90045638</td>\n",
       "      <td>53860.00</td>\n",
       "      <td>46042.29</td>\n",
       "      <td>573487274</td>\n",
       "      <td>0</td>\n",
       "      <td>0.00</td>\n",
       "      <td>0</td>\n",
       "    </tr>\n",
       "    <tr>\n",
       "      <th>6</th>\n",
       "      <td>1</td>\n",
       "      <td>7107.77</td>\n",
       "      <td>154988899</td>\n",
       "      <td>183195.00</td>\n",
       "      <td>176087.23</td>\n",
       "      <td>408069119</td>\n",
       "      <td>0</td>\n",
       "      <td>0.00</td>\n",
       "      <td>0</td>\n",
       "    </tr>\n",
       "    <tr>\n",
       "      <th>7</th>\n",
       "      <td>1</td>\n",
       "      <td>7861.64</td>\n",
       "      <td>1912850431</td>\n",
       "      <td>176087.23</td>\n",
       "      <td>168225.59</td>\n",
       "      <td>633326333</td>\n",
       "      <td>0</td>\n",
       "      <td>0.00</td>\n",
       "      <td>0</td>\n",
       "    </tr>\n",
       "    <tr>\n",
       "      <th>8</th>\n",
       "      <td>1</td>\n",
       "      <td>4024.36</td>\n",
       "      <td>1265012928</td>\n",
       "      <td>2671.00</td>\n",
       "      <td>0.00</td>\n",
       "      <td>1176932104</td>\n",
       "      <td>0</td>\n",
       "      <td>0.00</td>\n",
       "      <td>0</td>\n",
       "    </tr>\n",
       "    <tr>\n",
       "      <th>9</th>\n",
       "      <td>1</td>\n",
       "      <td>5337.77</td>\n",
       "      <td>712410124</td>\n",
       "      <td>41720.00</td>\n",
       "      <td>36382.23</td>\n",
       "      <td>195600860</td>\n",
       "      <td>41898</td>\n",
       "      <td>40348.79</td>\n",
       "      <td>0</td>\n",
       "    </tr>\n",
       "    <tr>\n",
       "      <th>10</th>\n",
       "      <td>1</td>\n",
       "      <td>9644.94</td>\n",
       "      <td>1900366749</td>\n",
       "      <td>4465.00</td>\n",
       "      <td>0.00</td>\n",
       "      <td>997608398</td>\n",
       "      <td>10845</td>\n",
       "      <td>157982.12</td>\n",
       "      <td>0</td>\n",
       "    </tr>\n",
       "    <tr>\n",
       "      <th>11</th>\n",
       "      <td>1</td>\n",
       "      <td>3099.97</td>\n",
       "      <td>249177573</td>\n",
       "      <td>20771.00</td>\n",
       "      <td>17671.03</td>\n",
       "      <td>2096539129</td>\n",
       "      <td>0</td>\n",
       "      <td>0.00</td>\n",
       "      <td>0</td>\n",
       "    </tr>\n",
       "    <tr>\n",
       "      <th>12</th>\n",
       "      <td>1</td>\n",
       "      <td>2560.74</td>\n",
       "      <td>1648232591</td>\n",
       "      <td>5070.00</td>\n",
       "      <td>2509.26</td>\n",
       "      <td>972865270</td>\n",
       "      <td>0</td>\n",
       "      <td>0.00</td>\n",
       "      <td>0</td>\n",
       "    </tr>\n",
       "    <tr>\n",
       "      <th>13</th>\n",
       "      <td>1</td>\n",
       "      <td>11633.76</td>\n",
       "      <td>1716932897</td>\n",
       "      <td>10127.00</td>\n",
       "      <td>0.00</td>\n",
       "      <td>801569151</td>\n",
       "      <td>0</td>\n",
       "      <td>0.00</td>\n",
       "      <td>0</td>\n",
       "    </tr>\n",
       "    <tr>\n",
       "      <th>14</th>\n",
       "      <td>1</td>\n",
       "      <td>4098.78</td>\n",
       "      <td>1026483832</td>\n",
       "      <td>503264.00</td>\n",
       "      <td>499165.22</td>\n",
       "      <td>1635378213</td>\n",
       "      <td>0</td>\n",
       "      <td>0.00</td>\n",
       "      <td>0</td>\n",
       "    </tr>\n",
       "    <tr>\n",
       "      <th>15</th>\n",
       "      <td>1</td>\n",
       "      <td>229133.94</td>\n",
       "      <td>905080434</td>\n",
       "      <td>15325.00</td>\n",
       "      <td>0.00</td>\n",
       "      <td>476402209</td>\n",
       "      <td>5083</td>\n",
       "      <td>51513.44</td>\n",
       "      <td>0</td>\n",
       "    </tr>\n",
       "    <tr>\n",
       "      <th>16</th>\n",
       "      <td>1</td>\n",
       "      <td>1563.82</td>\n",
       "      <td>761750706</td>\n",
       "      <td>450.00</td>\n",
       "      <td>0.00</td>\n",
       "      <td>1731217984</td>\n",
       "      <td>0</td>\n",
       "      <td>0.00</td>\n",
       "      <td>0</td>\n",
       "    </tr>\n",
       "    <tr>\n",
       "      <th>17</th>\n",
       "      <td>1</td>\n",
       "      <td>1157.86</td>\n",
       "      <td>1237762639</td>\n",
       "      <td>21156.00</td>\n",
       "      <td>19998.14</td>\n",
       "      <td>1877062907</td>\n",
       "      <td>0</td>\n",
       "      <td>0.00</td>\n",
       "      <td>0</td>\n",
       "    </tr>\n",
       "    <tr>\n",
       "      <th>18</th>\n",
       "      <td>1</td>\n",
       "      <td>671.64</td>\n",
       "      <td>2033524545</td>\n",
       "      <td>15123.00</td>\n",
       "      <td>14451.36</td>\n",
       "      <td>473053293</td>\n",
       "      <td>0</td>\n",
       "      <td>0.00</td>\n",
       "      <td>0</td>\n",
       "    </tr>\n",
       "    <tr>\n",
       "      <th>19</th>\n",
       "      <td>1</td>\n",
       "      <td>215310.30</td>\n",
       "      <td>1670993182</td>\n",
       "      <td>705.00</td>\n",
       "      <td>0.00</td>\n",
       "      <td>1100439041</td>\n",
       "      <td>22425</td>\n",
       "      <td>0.00</td>\n",
       "      <td>0</td>\n",
       "    </tr>\n",
       "  </tbody>\n",
       "</table>\n",
       "</div>"
      ],
      "text/plain": [
       "    Step     Amount    nameOrig  oldbalabce  newbalance    nameDest  \\\n",
       "0      1    9839.64  1231006815   170136.00   160296.36  1979787155   \n",
       "1      1    1864.28  1666544295    21249.00    19384.72  2044282225   \n",
       "2      1     181.00  1305486145      181.00        0.00   553264065   \n",
       "3      1     181.00   840083671      181.00        0.00    38997010   \n",
       "4      1   11668.14  2048537720    41554.00    29885.86  1230701703   \n",
       "5      1    7817.71    90045638    53860.00    46042.29   573487274   \n",
       "6      1    7107.77   154988899   183195.00   176087.23   408069119   \n",
       "7      1    7861.64  1912850431   176087.23   168225.59   633326333   \n",
       "8      1    4024.36  1265012928     2671.00        0.00  1176932104   \n",
       "9      1    5337.77   712410124    41720.00    36382.23   195600860   \n",
       "10     1    9644.94  1900366749     4465.00        0.00   997608398   \n",
       "11     1    3099.97   249177573    20771.00    17671.03  2096539129   \n",
       "12     1    2560.74  1648232591     5070.00     2509.26   972865270   \n",
       "13     1   11633.76  1716932897    10127.00        0.00   801569151   \n",
       "14     1    4098.78  1026483832   503264.00   499165.22  1635378213   \n",
       "15     1  229133.94   905080434    15325.00        0.00   476402209   \n",
       "16     1    1563.82   761750706      450.00        0.00  1731217984   \n",
       "17     1    1157.86  1237762639    21156.00    19998.14  1877062907   \n",
       "18     1     671.64  2033524545    15123.00    14451.36   473053293   \n",
       "19     1  215310.30  1670993182      705.00        0.00  1100439041   \n",
       "\n",
       "    oldbalanceDest  newbalanceDest  isFraud  \n",
       "0                0            0.00        0  \n",
       "1                0            0.00        0  \n",
       "2                0            0.00        1  \n",
       "3            21182            0.00        1  \n",
       "4                0            0.00        0  \n",
       "5                0            0.00        0  \n",
       "6                0            0.00        0  \n",
       "7                0            0.00        0  \n",
       "8                0            0.00        0  \n",
       "9            41898        40348.79        0  \n",
       "10           10845       157982.12        0  \n",
       "11               0            0.00        0  \n",
       "12               0            0.00        0  \n",
       "13               0            0.00        0  \n",
       "14               0            0.00        0  \n",
       "15            5083        51513.44        0  \n",
       "16               0            0.00        0  \n",
       "17               0            0.00        0  \n",
       "18               0            0.00        0  \n",
       "19           22425            0.00        0  "
      ]
     },
     "execution_count": 10,
     "metadata": {},
     "output_type": "execute_result"
    }
   ],
   "source": [
    "# Lable Encoding\n",
    "\n",
    "from sklearn. preprocessing import LabelEncoder\n",
    "le= LabelEncoder()\n",
    "data['isFraud'] = le.fit_transform(data['isFraud'])\n",
    "data"
   ]
  },
  {
   "cell_type": "code",
   "execution_count": 11,
   "id": "853feff6",
   "metadata": {},
   "outputs": [
    {
     "data": {
      "text/plain": [
       "<bound method Series.unique of 0     0\n",
       "1     0\n",
       "2     1\n",
       "3     1\n",
       "4     0\n",
       "5     0\n",
       "6     0\n",
       "7     0\n",
       "8     0\n",
       "9     0\n",
       "10    0\n",
       "11    0\n",
       "12    0\n",
       "13    0\n",
       "14    0\n",
       "15    0\n",
       "16    0\n",
       "17    0\n",
       "18    0\n",
       "19    0\n",
       "Name: isFraud, dtype: int64>"
      ]
     },
     "execution_count": 11,
     "metadata": {},
     "output_type": "execute_result"
    }
   ],
   "source": [
    "data['isFraud'].unique"
   ]
  },
  {
   "cell_type": "code",
   "execution_count": 12,
   "id": "ed0b53e9",
   "metadata": {},
   "outputs": [
    {
     "data": {
      "text/plain": [
       "<Axes: xlabel='isFraud', ylabel='count'>"
      ]
     },
     "execution_count": 12,
     "metadata": {},
     "output_type": "execute_result"
    },
    {
     "data": {
      "image/png": "[encoded data removed]",
      "text/plain": [
       "<Figure size 640x480 with 1 Axes>"
      ]
     },
     "metadata": {},
     "output_type": "display_data"
    }
   ],
   "source": [
    "sns.countplot(data,x='isFraud')"
   ]
  },
  {
   "cell_type": "code",
   "execution_count": 13,
   "id": "ec4ee720",
   "metadata": {},
   "outputs": [
    {
     "data": {
      "text/plain": [
       "<seaborn.axisgrid.PairGrid at 0x1fa497532d0>"
      ]
     },
     "execution_count": 13,
     "metadata": {},
     "output_type": "execute_result"
    },
    {
     "data": {
      "image/png": "[encoded data removed]",
      "text/plain": [
       "<Figure size 2250x2250 with 90 Axes>"
      ]
     },
     "metadata": {},
     "output_type": "display_data"
    }
   ],
   "source": [
    "sns.pairplot(data)"
   ]
  },
  {
   "cell_type": "code",
   "execution_count": 14,
   "id": "334812a0",
   "metadata": {},
   "outputs": [
    {
     "data": {
      "text/html": [
       "<div>\n",
       "<style scoped>\n",
       "    .dataframe tbody tr th:only-of-type {\n",
       "        vertical-align: middle;\n",
       "    }\n",
       "\n",
       "    .dataframe tbody tr th {\n",
       "        vertical-align: top;\n",
       "    }\n",
       "\n",
       "    .dataframe thead th {\n",
       "        text-align: right;\n",
       "    }\n",
       "</style>\n",
       "<table border=\"1\" class=\"dataframe\">\n",
       "  <thead>\n",
       "    <tr style=\"text-align: right;\">\n",
       "      <th></th>\n",
       "      <th>Step</th>\n",
       "      <th>Amount</th>\n",
       "      <th>nameOrig</th>\n",
       "      <th>oldbalabce</th>\n",
       "      <th>newbalance</th>\n",
       "      <th>nameDest</th>\n",
       "      <th>oldbalanceDest</th>\n",
       "      <th>newbalanceDest</th>\n",
       "      <th>isFraud</th>\n",
       "    </tr>\n",
       "  </thead>\n",
       "  <tbody>\n",
       "    <tr>\n",
       "      <th>Step</th>\n",
       "      <td>NaN</td>\n",
       "      <td>NaN</td>\n",
       "      <td>NaN</td>\n",
       "      <td>NaN</td>\n",
       "      <td>NaN</td>\n",
       "      <td>NaN</td>\n",
       "      <td>NaN</td>\n",
       "      <td>NaN</td>\n",
       "      <td>NaN</td>\n",
       "    </tr>\n",
       "    <tr>\n",
       "      <th>Amount</th>\n",
       "      <td>NaN</td>\n",
       "      <td>1.000000</td>\n",
       "      <td>0.040875</td>\n",
       "      <td>-0.150157</td>\n",
       "      <td>-0.162355</td>\n",
       "      <td>-0.144448</td>\n",
       "      <td>0.255975</td>\n",
       "      <td>0.145398</td>\n",
       "      <td>-0.135563</td>\n",
       "    </tr>\n",
       "    <tr>\n",
       "      <th>nameOrig</th>\n",
       "      <td>NaN</td>\n",
       "      <td>0.040875</td>\n",
       "      <td>1.000000</td>\n",
       "      <td>-0.147598</td>\n",
       "      <td>-0.147297</td>\n",
       "      <td>0.056855</td>\n",
       "      <td>-0.102355</td>\n",
       "      <td>0.163467</td>\n",
       "      <td>-0.080951</td>\n",
       "    </tr>\n",
       "    <tr>\n",
       "      <th>oldbalabce</th>\n",
       "      <td>NaN</td>\n",
       "      <td>-0.150157</td>\n",
       "      <td>-0.147598</td>\n",
       "      <td>1.000000</td>\n",
       "      <td>0.999342</td>\n",
       "      <td>0.167923</td>\n",
       "      <td>-0.183782</td>\n",
       "      <td>-0.153012</td>\n",
       "      <td>-0.183372</td>\n",
       "    </tr>\n",
       "    <tr>\n",
       "      <th>newbalance</th>\n",
       "      <td>NaN</td>\n",
       "      <td>-0.162355</td>\n",
       "      <td>-0.147297</td>\n",
       "      <td>0.999342</td>\n",
       "      <td>1.000000</td>\n",
       "      <td>0.174456</td>\n",
       "      <td>-0.179973</td>\n",
       "      <td>-0.159855</td>\n",
       "      <td>-0.171032</td>\n",
       "    </tr>\n",
       "    <tr>\n",
       "      <th>nameDest</th>\n",
       "      <td>NaN</td>\n",
       "      <td>-0.144448</td>\n",
       "      <td>0.056855</td>\n",
       "      <td>0.167923</td>\n",
       "      <td>0.174456</td>\n",
       "      <td>1.000000</td>\n",
       "      <td>-0.434665</td>\n",
       "      <td>-0.157733</td>\n",
       "      <td>-0.396384</td>\n",
       "    </tr>\n",
       "    <tr>\n",
       "      <th>oldbalanceDest</th>\n",
       "      <td>NaN</td>\n",
       "      <td>0.255975</td>\n",
       "      <td>-0.102355</td>\n",
       "      <td>-0.183782</td>\n",
       "      <td>-0.179973</td>\n",
       "      <td>-0.434665</td>\n",
       "      <td>1.000000</td>\n",
       "      <td>0.307070</td>\n",
       "      <td>0.170233</td>\n",
       "    </tr>\n",
       "    <tr>\n",
       "      <th>newbalanceDest</th>\n",
       "      <td>NaN</td>\n",
       "      <td>0.145398</td>\n",
       "      <td>0.163467</td>\n",
       "      <td>-0.153012</td>\n",
       "      <td>-0.159855</td>\n",
       "      <td>-0.157733</td>\n",
       "      <td>0.307070</td>\n",
       "      <td>1.000000</td>\n",
       "      <td>-0.115227</td>\n",
       "    </tr>\n",
       "    <tr>\n",
       "      <th>isFraud</th>\n",
       "      <td>NaN</td>\n",
       "      <td>-0.135563</td>\n",
       "      <td>-0.080951</td>\n",
       "      <td>-0.183372</td>\n",
       "      <td>-0.171032</td>\n",
       "      <td>-0.396384</td>\n",
       "      <td>0.170233</td>\n",
       "      <td>-0.115227</td>\n",
       "      <td>1.000000</td>\n",
       "    </tr>\n",
       "  </tbody>\n",
       "</table>\n",
       "</div>"
      ],
      "text/plain": [
       "                Step    Amount  nameOrig  oldbalabce  newbalance  nameDest  \\\n",
       "Step             NaN       NaN       NaN         NaN         NaN       NaN   \n",
       "Amount           NaN  1.000000  0.040875   -0.150157   -0.162355 -0.144448   \n",
       "nameOrig         NaN  0.040875  1.000000   -0.147598   -0.147297  0.056855   \n",
       "oldbalabce       NaN -0.150157 -0.147598    1.000000    0.999342  0.167923   \n",
       "newbalance       NaN -0.162355 -0.147297    0.999342    1.000000  0.174456   \n",
       "nameDest         NaN -0.144448  0.056855    0.167923    0.174456  1.000000   \n",
       "oldbalanceDest   NaN  0.255975 -0.102355   -0.183782   -0.179973 -0.434665   \n",
       "newbalanceDest   NaN  0.145398  0.163467   -0.153012   -0.159855 -0.157733   \n",
       "isFraud          NaN -0.135563 -0.080951   -0.183372   -0.171032 -0.396384   \n",
       "\n",
       "                oldbalanceDest  newbalanceDest   isFraud  \n",
       "Step                       NaN             NaN       NaN  \n",
       "Amount                0.255975        0.145398 -0.135563  \n",
       "nameOrig             -0.102355        0.163467 -0.080951  \n",
       "oldbalabce           -0.183782       -0.153012 -0.183372  \n",
       "newbalance           -0.179973       -0.159855 -0.171032  \n",
       "nameDest             -0.434665       -0.157733 -0.396384  \n",
       "oldbalanceDest        1.000000        0.307070  0.170233  \n",
       "newbalanceDest        0.307070        1.000000 -0.115227  \n",
       "isFraud               0.170233       -0.115227  1.000000  "
      ]
     },
     "execution_count": 14,
     "metadata": {},
     "output_type": "execute_result"
    }
   ],
   "source": [
    "data.corr()"
   ]
  },
  {
   "cell_type": "code",
   "execution_count": 26,
   "id": "b86eb2b0",
   "metadata": {},
   "outputs": [
    {
     "data": {
      "text/plain": [
       "<Axes: >"
      ]
     },
     "execution_count": 26,
     "metadata": {},
     "output_type": "execute_result"
    },
    {
     "data": {
      "image/png": "[encoded data removed]",
      "text/plain": [
       "<Figure size 1200x800 with 2 Axes>"
      ]
     },
     "metadata": {},
     "output_type": "display_data"
    }
   ],
   "source": [
    "fig=plt.figure(figsize=(12,8))\n",
    "sns.heatmap(data.corr(),annot=True)"
   ]
  },
  {
   "cell_type": "code",
   "execution_count": 16,
   "id": "3350f1d7",
   "metadata": {},
   "outputs": [
    {
     "data": {
      "text/plain": [
       "<Axes: >"
      ]
     },
     "execution_count": 16,
     "metadata": {},
     "output_type": "execute_result"
    },
    {
     "data": {
      "image/png": "[encoded data removed]",
      "text/plain": [
       "<Figure size 2000x800 with 1 Axes>"
      ]
     },
     "metadata": {},
     "output_type": "display_data"
    }
   ],
   "source": [
    "data.boxplot(figsize=(20,8))"
   ]
  },
  {
   "cell_type": "markdown",
   "id": "cea4b091",
   "metadata": {},
   "source": [
    "# Assign x&y"
   ]
  },
  {
   "cell_type": "code",
   "execution_count": 24,
   "id": "582dae3a",
   "metadata": {},
   "outputs": [
    {
     "data": {
      "text/html": [
       "<div>\n",
       "<style scoped>\n",
       "    .dataframe tbody tr th:only-of-type {\n",
       "        vertical-align: middle;\n",
       "    }\n",
       "\n",
       "    .dataframe tbody tr th {\n",
       "        vertical-align: top;\n",
       "    }\n",
       "\n",
       "    .dataframe thead th {\n",
       "        text-align: right;\n",
       "    }\n",
       "</style>\n",
       "<table border=\"1\" class=\"dataframe\">\n",
       "  <thead>\n",
       "    <tr style=\"text-align: right;\">\n",
       "      <th></th>\n",
       "      <th>Step</th>\n",
       "      <th>Amount</th>\n",
       "      <th>nameOrig</th>\n",
       "      <th>oldbalabce</th>\n",
       "      <th>newbalance</th>\n",
       "      <th>nameDest</th>\n",
       "      <th>oldbalanceDest</th>\n",
       "      <th>newbalanceDest</th>\n",
       "      <th>isFraud</th>\n",
       "    </tr>\n",
       "  </thead>\n",
       "  <tbody>\n",
       "    <tr>\n",
       "      <th>0</th>\n",
       "      <td>1</td>\n",
       "      <td>9839.64</td>\n",
       "      <td>1231006815</td>\n",
       "      <td>170136.0</td>\n",
       "      <td>160296.36</td>\n",
       "      <td>1979787155</td>\n",
       "      <td>0</td>\n",
       "      <td>0.0</td>\n",
       "      <td>0</td>\n",
       "    </tr>\n",
       "    <tr>\n",
       "      <th>1</th>\n",
       "      <td>1</td>\n",
       "      <td>1864.28</td>\n",
       "      <td>1666544295</td>\n",
       "      <td>21249.0</td>\n",
       "      <td>19384.72</td>\n",
       "      <td>2044282225</td>\n",
       "      <td>0</td>\n",
       "      <td>0.0</td>\n",
       "      <td>0</td>\n",
       "    </tr>\n",
       "  </tbody>\n",
       "</table>\n",
       "</div>"
      ],
      "text/plain": [
       "   Step   Amount    nameOrig  oldbalabce  newbalance    nameDest  \\\n",
       "0     1  9839.64  1231006815    170136.0   160296.36  1979787155   \n",
       "1     1  1864.28  1666544295     21249.0    19384.72  2044282225   \n",
       "\n",
       "   oldbalanceDest  newbalanceDest  isFraud  \n",
       "0               0             0.0        0  \n",
       "1               0             0.0        0  "
      ]
     },
     "execution_count": 24,
     "metadata": {},
     "output_type": "execute_result"
    }
   ],
   "source": [
    "data.head(2)"
   ]
  },
  {
   "cell_type": "code",
   "execution_count": 18,
   "id": "6a9f1ed4",
   "metadata": {},
   "outputs": [
    {
     "data": {
      "text/html": [
       "<div>\n",
       "<style scoped>\n",
       "    .dataframe tbody tr th:only-of-type {\n",
       "        vertical-align: middle;\n",
       "    }\n",
       "\n",
       "    .dataframe tbody tr th {\n",
       "        vertical-align: top;\n",
       "    }\n",
       "\n",
       "    .dataframe thead th {\n",
       "        text-align: right;\n",
       "    }\n",
       "</style>\n",
       "<table border=\"1\" class=\"dataframe\">\n",
       "  <thead>\n",
       "    <tr style=\"text-align: right;\">\n",
       "      <th></th>\n",
       "      <th>Step</th>\n",
       "      <th>Amount</th>\n",
       "      <th>nameOrig</th>\n",
       "      <th>oldbalabce</th>\n",
       "      <th>newbalance</th>\n",
       "      <th>nameDest</th>\n",
       "      <th>oldbalanceDest</th>\n",
       "      <th>newbalanceDest</th>\n",
       "    </tr>\n",
       "  </thead>\n",
       "  <tbody>\n",
       "    <tr>\n",
       "      <th>0</th>\n",
       "      <td>1</td>\n",
       "      <td>9839.64</td>\n",
       "      <td>1231006815</td>\n",
       "      <td>170136.0</td>\n",
       "      <td>160296.36</td>\n",
       "      <td>1979787155</td>\n",
       "      <td>0</td>\n",
       "      <td>0.0</td>\n",
       "    </tr>\n",
       "    <tr>\n",
       "      <th>1</th>\n",
       "      <td>1</td>\n",
       "      <td>1864.28</td>\n",
       "      <td>1666544295</td>\n",
       "      <td>21249.0</td>\n",
       "      <td>19384.72</td>\n",
       "      <td>2044282225</td>\n",
       "      <td>0</td>\n",
       "      <td>0.0</td>\n",
       "    </tr>\n",
       "  </tbody>\n",
       "</table>\n",
       "</div>"
      ],
      "text/plain": [
       "   Step   Amount    nameOrig  oldbalabce  newbalance    nameDest  \\\n",
       "0     1  9839.64  1231006815    170136.0   160296.36  1979787155   \n",
       "1     1  1864.28  1666544295     21249.0    19384.72  2044282225   \n",
       "\n",
       "   oldbalanceDest  newbalanceDest  \n",
       "0               0             0.0  \n",
       "1               0             0.0  "
      ]
     },
     "execution_count": 18,
     "metadata": {},
     "output_type": "execute_result"
    }
   ],
   "source": [
    "x=data.iloc[:,:-1]\n",
    "x.head(2)"
   ]
  },
  {
   "cell_type": "code",
   "execution_count": 19,
   "id": "3b7223be",
   "metadata": {},
   "outputs": [
    {
     "data": {
      "text/html": [
       "<div>\n",
       "<style scoped>\n",
       "    .dataframe tbody tr th:only-of-type {\n",
       "        vertical-align: middle;\n",
       "    }\n",
       "\n",
       "    .dataframe tbody tr th {\n",
       "        vertical-align: top;\n",
       "    }\n",
       "\n",
       "    .dataframe thead th {\n",
       "        text-align: right;\n",
       "    }\n",
       "</style>\n",
       "<table border=\"1\" class=\"dataframe\">\n",
       "  <thead>\n",
       "    <tr style=\"text-align: right;\">\n",
       "      <th></th>\n",
       "      <th>isFraud</th>\n",
       "    </tr>\n",
       "  </thead>\n",
       "  <tbody>\n",
       "    <tr>\n",
       "      <th>0</th>\n",
       "      <td>0</td>\n",
       "    </tr>\n",
       "    <tr>\n",
       "      <th>1</th>\n",
       "      <td>0</td>\n",
       "    </tr>\n",
       "  </tbody>\n",
       "</table>\n",
       "</div>"
      ],
      "text/plain": [
       "   isFraud\n",
       "0        0\n",
       "1        0"
      ]
     },
     "execution_count": 19,
     "metadata": {},
     "output_type": "execute_result"
    }
   ],
   "source": [
    "y=data.iloc[:,-1:]\n",
    "y.head(2)"
   ]
  },
  {
   "cell_type": "markdown",
   "id": "4825cc27",
   "metadata": {},
   "source": [
    "# Splitting the data between test and training"
   ]
  },
  {
   "cell_type": "code",
   "execution_count": 21,
   "id": "572ae259",
   "metadata": {},
   "outputs": [],
   "source": [
    "from sklearn.model_selection import train_test_split \n",
    "xtrain, xtest,ytrain,ytest=train_test_split(x,y,test_size=.2,random_state=2)"
   ]
  },
  {
   "cell_type": "code",
   "execution_count": 22,
   "id": "72900d72",
   "metadata": {},
   "outputs": [
    {
     "data": {
      "text/plain": [
       "(16, 8)"
      ]
     },
     "execution_count": 22,
     "metadata": {},
     "output_type": "execute_result"
    }
   ],
   "source": [
    "xtrain. shape"
   ]
  },
  {
   "cell_type": "code",
   "execution_count": 23,
   "id": "32c241bd",
   "metadata": {},
   "outputs": [
    {
     "data": {
      "text/plain": [
       "(16, 1)"
      ]
     },
     "execution_count": 23,
     "metadata": {},
     "output_type": "execute_result"
    }
   ],
   "source": [
    "ytrain.shape"
   ]
  },
  {
   "cell_type": "markdown",
   "id": "0b5620d9",
   "metadata": {},
   "source": [
    "# Build NB - Gaussian Mode"
   ]
  },
  {
   "cell_type": "code",
   "execution_count": 27,
   "id": "455f4dbe",
   "metadata": {},
   "outputs": [
    {
     "name": "stdout",
     "output_type": "stream",
     "text": [
      "Training Completed\n",
      "\n",
      "Predicted value is: \t [1 0 0 0]\n",
      "\n",
      "Testing completed\n",
      "===========================================================================\n",
      "***************Performance Measures on Gaussian Navie Bayes****************\n",
      "Accuracy score:\t\n",
      " 0.75\n",
      "\n",
      "===========================================================================\n",
      "\n",
      "Confusion matrix:\t\n",
      " [[3 1]\n",
      " [0 0]]\n",
      "\n",
      "===========================================================================\n",
      "\n",
      "Classification report is:\t\n",
      "               precision    recall  f1-score   support\n",
      "\n",
      "           0       1.00      0.75      0.86         4\n",
      "           1       0.00      0.00      0.00         0\n",
      "\n",
      "    accuracy                           0.75         4\n",
      "   macro avg       0.50      0.38      0.43         4\n",
      "weighted avg       1.00      0.75      0.86         4\n",
      "\n",
      "\n",
      "===========================================================================\n"
     ]
    },
    {
     "name": "stderr",
     "output_type": "stream",
     "text": [
      "C:\\Users\\admin\\anaconda3\\Lib\\site-packages\\sklearn\\utils\\validation.py:1184: DataConversionWarning: A column-vector y was passed when a 1d array was expected. Please change the shape of y to (n_samples, ), for example using ravel().\n",
      "  y = column_or_1d(y, warn=True)\n",
      "C:\\Users\\admin\\anaconda3\\Lib\\site-packages\\sklearn\\metrics\\_classification.py:1469: UndefinedMetricWarning: Recall and F-score are ill-defined and being set to 0.0 in labels with no true samples. Use `zero_division` parameter to control this behavior.\n",
      "  _warn_prf(average, modifier, msg_start, len(result))\n",
      "C:\\Users\\admin\\anaconda3\\Lib\\site-packages\\sklearn\\metrics\\_classification.py:1469: UndefinedMetricWarning: Recall and F-score are ill-defined and being set to 0.0 in labels with no true samples. Use `zero_division` parameter to control this behavior.\n",
      "  _warn_prf(average, modifier, msg_start, len(result))\n",
      "C:\\Users\\admin\\anaconda3\\Lib\\site-packages\\sklearn\\metrics\\_classification.py:1469: UndefinedMetricWarning: Recall and F-score are ill-defined and being set to 0.0 in labels with no true samples. Use `zero_division` parameter to control this behavior.\n",
      "  _warn_prf(average, modifier, msg_start, len(result))\n"
     ]
    }
   ],
   "source": [
    "from sklearn.naive_bayes import GaussianNB\n",
    "gauss_nb = GaussianNB()\n",
    "gauss_nb.fit(xtrain,ytrain)\n",
    "print('Training Completed')\n",
    "print()\n",
    "ypred_gauss = gauss_nb.predict(xtest)\n",
    "print('Predicted value is: \\t',ypred_gauss)\n",
    "print()\n",
    "print('Testing completed')\n",
    "print('='*75)\n",
    "# Performance Measure\n",
    "from sklearn.metrics import accuracy_score\n",
    "from sklearn.metrics import confusion_matrix\n",
    "from sklearn.metrics import classification_report\n",
    "accuracy_gauss=accuracy_score(ytest,ypred_gauss)\n",
    "print('*'*15 + 'Performance Measures on Gaussian Navie Bayes' + '*'*16)\n",
    "print('Accuracy score:\\t\\n',accuracy_score(ytest,ypred_gauss))\n",
    "print()\n",
    "print('='*75)\n",
    "print()\n",
    "print('Confusion matrix:\\t\\n',confusion_matrix(ytest,ypred_gauss))\n",
    "print()\n",
    "print('='*75)\n",
    "print()\n",
    "print('Classification report is:\\t\\n',classification_report(ytest,ypred_gauss))\n",
    "print()\n",
    "print('='*75)"
   ]
  },
  {
   "cell_type": "markdown",
   "id": "8770a0d6",
   "metadata": {},
   "source": [
    "# Build NB - Multinomial Model"
   ]
  },
  {
   "cell_type": "code",
   "execution_count": 120,
   "id": "cc8f3226",
   "metadata": {},
   "outputs": [
    {
     "name": "stdout",
     "output_type": "stream",
     "text": [
      "Training Completed\n",
      "\n",
      "Predicted value is: \t [0 0 1 0]\n",
      "\n",
      "Testing completed\n",
      "===========================================================================\n",
      "**************Performance Measures on Multinomial Navie Bayes**************\n",
      "Accuracy score:\t\n",
      " 0.75\n",
      "\n",
      "===========================================================================\n",
      "\n",
      "Confusion matrix:\t\n",
      " [[3 1]\n",
      " [0 0]]\n",
      "\n",
      "===========================================================================\n",
      "\n",
      "Classification report is:\t\n",
      "               precision    recall  f1-score   support\n",
      "\n",
      "           0       1.00      0.75      0.86         4\n",
      "           1       0.00      0.00      0.00         0\n",
      "\n",
      "    accuracy                           0.75         4\n",
      "   macro avg       0.50      0.38      0.43         4\n",
      "weighted avg       1.00      0.75      0.86         4\n",
      "\n",
      "\n",
      "===========================================================================\n"
     ]
    },
    {
     "name": "stderr",
     "output_type": "stream",
     "text": [
      "C:\\Users\\admin\\anaconda3\\Lib\\site-packages\\sklearn\\utils\\validation.py:1184: DataConversionWarning: A column-vector y was passed when a 1d array was expected. Please change the shape of y to (n_samples, ), for example using ravel().\n",
      "  y = column_or_1d(y, warn=True)\n",
      "C:\\Users\\admin\\anaconda3\\Lib\\site-packages\\sklearn\\metrics\\_classification.py:1469: UndefinedMetricWarning: Recall and F-score are ill-defined and being set to 0.0 in labels with no true samples. Use `zero_division` parameter to control this behavior.\n",
      "  _warn_prf(average, modifier, msg_start, len(result))\n",
      "C:\\Users\\admin\\anaconda3\\Lib\\site-packages\\sklearn\\metrics\\_classification.py:1469: UndefinedMetricWarning: Recall and F-score are ill-defined and being set to 0.0 in labels with no true samples. Use `zero_division` parameter to control this behavior.\n",
      "  _warn_prf(average, modifier, msg_start, len(result))\n",
      "C:\\Users\\admin\\anaconda3\\Lib\\site-packages\\sklearn\\metrics\\_classification.py:1469: UndefinedMetricWarning: Recall and F-score are ill-defined and being set to 0.0 in labels with no true samples. Use `zero_division` parameter to control this behavior.\n",
      "  _warn_prf(average, modifier, msg_start, len(result))\n"
     ]
    }
   ],
   "source": [
    "from sklearn.naive_bayes import MultinomialNB\n",
    "mul_nb = MultinomialNB()\n",
    "mul_nb.fit(xtrain,ytrain)\n",
    "print('Training Completed')\n",
    "print()\n",
    "ypred_mul_nb = mul_nb.predict(xtest)\n",
    "print('Predicted value is: \\t',ypred_mul_nb)\n",
    "print()\n",
    "print('Testing completed')\n",
    "print('='*75)\n",
    "\n",
    "#Performance Measure\n",
    "accuracy_mul_nb=accuracy_score(ytest,ypred_mul_nb)\n",
    "print('*'*14 + 'Performance Measures on Multinomial Navie Bayes' + '*'*14)\n",
    "print('Accuracy score:\\t\\n',accuracy_score(ytest,ypred_mul_nb))\n",
    "print()\n",
    "print('='*75)\n",
    "print()\n",
    "print('Confusion matrix:\\t\\n',confusion_matrix(ytest,ypred_mul_nb))\n",
    "print()\n",
    "print('='*75)\n",
    "print()\n",
    "print('Classification report is:\\t\\n',classification_report(ytest,ypred_mul_nb))\n",
    "print()\n",
    "print('='*75)"
   ]
  },
  {
   "cell_type": "markdown",
   "id": "a2095953",
   "metadata": {},
   "source": [
    "# Build NB - Bernoulli Model"
   ]
  },
  {
   "cell_type": "code",
   "execution_count": 121,
   "id": "0f7a90d2",
   "metadata": {},
   "outputs": [
    {
     "name": "stdout",
     "output_type": "stream",
     "text": [
      "Training Completed\n",
      "\n",
      "Predicted value is: \t [0 0 0 0]\n",
      "\n",
      "Testing completed\n",
      "===========================================================================\n",
      "***************Performance Measures on Bernoulli Navie Bayes***************\n",
      "Accuracy score:\t\n",
      " 1.0\n",
      "\n",
      "===========================================================================\n",
      "\n",
      "Confusion matrix:\t\n",
      " [[4]]\n",
      "\n",
      "===========================================================================\n",
      "\n",
      "Classification report is:\t\n",
      "               precision    recall  f1-score   support\n",
      "\n",
      "           0       1.00      1.00      1.00         4\n",
      "\n",
      "    accuracy                           1.00         4\n",
      "   macro avg       1.00      1.00      1.00         4\n",
      "weighted avg       1.00      1.00      1.00         4\n",
      "\n",
      "\n",
      "===========================================================================\n"
     ]
    },
    {
     "name": "stderr",
     "output_type": "stream",
     "text": [
      "C:\\Users\\admin\\anaconda3\\Lib\\site-packages\\sklearn\\utils\\validation.py:1184: DataConversionWarning: A column-vector y was passed when a 1d array was expected. Please change the shape of y to (n_samples, ), for example using ravel().\n",
      "  y = column_or_1d(y, warn=True)\n"
     ]
    }
   ],
   "source": [
    "from sklearn.naive_bayes import BernoulliNB\n",
    "ber_nb = BernoulliNB()\n",
    "ber_nb.fit(xtrain,ytrain)\n",
    "print('Training Completed')\n",
    "print()\n",
    "ypred_ber_nb = ber_nb.predict(xtest)\n",
    "print('Predicted value is: \\t',ypred_ber_nb)\n",
    "print()\n",
    "print('Testing completed')\n",
    "print('='*75)\n",
    "#Performace Measure\n",
    "accuracy_ber_nb=accuracy_score(ytest,ypred_ber_nb)\n",
    "print('*'*15 + 'Performance Measures on Bernoulli Navie Bayes' + '*'*15)\n",
    "print('Accuracy score:\\t\\n',accuracy_score(ytest,ypred_ber_nb))\n",
    "print()\n",
    "print('='*75)\n",
    "print()\n",
    "print('Confusion matrix:\\t\\n',confusion_matrix(ytest,ypred_ber_nb))\n",
    "print()\n",
    "print('='*75)\n",
    "print()\n",
    "print('Classification report is:\\t\\n',classification_report(ytest,ypred_ber_nb))\n",
    "print()\n",
    "print('='*75)"
   ]
  },
  {
   "cell_type": "code",
   "execution_count": 122,
   "id": "f229edd8",
   "metadata": {},
   "outputs": [
    {
     "name": "stdout",
     "output_type": "stream",
     "text": [
      "GaussianNB() = 0.75\n",
      "MultinomialNB() = 0.75\n",
      "BernoulliNB() = 1.0\n"
     ]
    }
   ],
   "source": [
    "print(gauss_nb,'=',accuracy_gauss)\n",
    "print(mul_nb,'=',accuracy_mul_nb)\n",
    "print(ber_nb,'=',accuracy_ber_nb)"
   ]
  },
  {
   "cell_type": "code",
   "execution_count": 123,
   "id": "b270251f",
   "metadata": {},
   "outputs": [
    {
     "data": {
      "text/plain": [
       "(20, 8)"
      ]
     },
     "execution_count": 123,
     "metadata": {},
     "output_type": "execute_result"
    }
   ],
   "source": [
    "x.shape"
   ]
  },
  {
   "cell_type": "markdown",
   "id": "46b6a759",
   "metadata": {},
   "source": [
    "# Ensemble Model :\n",
    "\n",
    "        "
   ]
  },
  {
   "cell_type": "markdown",
   "id": "f9ff5e02",
   "metadata": {},
   "source": [
    "# 1.BaggingClassifier"
   ]
  },
  {
   "cell_type": "code",
   "execution_count": 155,
   "id": "e5f364ba",
   "metadata": {},
   "outputs": [
    {
     "name": "stdout",
     "output_type": "stream",
     "text": [
      "****************************************************************************************************\n",
      "Confusion Matrix:\n",
      " [[5]]\n",
      "----------------------------------------------------------------------------------------------------\n",
      "Accuracy Score:\t 1.0\n",
      "----------------------------------------------------------------------------------------------------\n",
      "Classification Report:\n",
      "               precision    recall  f1-score   support\n",
      "\n",
      "           0       1.00      1.00      1.00         5\n",
      "\n",
      "    accuracy                           1.00         5\n",
      "   macro avg       1.00      1.00      1.00         5\n",
      "weighted avg       1.00      1.00      1.00         5\n",
      "\n",
      "====================================================================================================\n"
     ]
    },
    {
     "name": "stderr",
     "output_type": "stream",
     "text": [
      "C:\\Users\\admin\\anaconda3\\Lib\\site-packages\\sklearn\\ensemble\\_base.py:156: FutureWarning: `base_estimator` was renamed to `estimator` in version 1.2 and will be removed in 1.4.\n",
      "  warnings.warn(\n"
     ]
    }
   ],
   "source": [
    "\n",
    "from sklearn.ensemble import BaggingClassifier\n",
    "bagc=BaggingClassifier(base_estimator=mul_nb,n_estimators=3,random_state=40)\n",
    "bagc.fit(xtrain,ytrain)#train the model\n",
    "#test the model\n",
    "ypred_bagc=bagc.predict(xtest)\n",
    "print('*'*100)\n",
    "print('Confusion Matrix:\\n',confusion_matrix(ytest,ypred_bagc))\n",
    "print('-'*100)\n",
    "accuracy_bagc=accuracy_score(ytest,ypred_bagc)\n",
    "print('Accuracy Score:\\t',accuracy_bagc)\n",
    "print('-'*100)\n",
    "print('Classification Report:\\n',classification_report(ytest,ypred_bagc))\n",
    "print('='*100)"
   ]
  },
  {
   "cell_type": "markdown",
   "id": "9552a311",
   "metadata": {},
   "source": [
    "# 2. RandomForestClassifier model"
   ]
  },
  {
   "cell_type": "code",
   "execution_count": 129,
   "id": "12b200d6",
   "metadata": {},
   "outputs": [
    {
     "name": "stdout",
     "output_type": "stream",
     "text": [
      "****************************************************************************************************\n",
      "Confusion Matrix:\n",
      " [[4]]\n",
      "----------------------------------------------------------------------------------------------------\n",
      "Accuracy Score:\t 1.0\n",
      "----------------------------------------------------------------------------------------------------\n",
      "Classification Report:\n",
      "               precision    recall  f1-score   support\n",
      "\n",
      "           0       1.00      1.00      1.00         4\n",
      "\n",
      "    accuracy                           1.00         4\n",
      "   macro avg       1.00      1.00      1.00         4\n",
      "weighted avg       1.00      1.00      1.00         4\n",
      "\n",
      "====================================================================================================\n"
     ]
    },
    {
     "name": "stderr",
     "output_type": "stream",
     "text": [
      "C:\\Users\\admin\\anaconda3\\Lib\\site-packages\\sklearn\\base.py:1151: DataConversionWarning: A column-vector y was passed when a 1d array was expected. Please change the shape of y to (n_samples,), for example using ravel().\n",
      "  return fit_method(estimator, *args, **kwargs)\n"
     ]
    }
   ],
   "source": [
    "#RandomForestClassifier\n",
    "from sklearn.ensemble import RandomForestClassifier\n",
    "rand_for=RandomForestClassifier(n_estimators=10,random_state=1)\n",
    "rand_for.fit(xtrain,ytrain)#train the model\n",
    "#test the model\n",
    "ypred_rand=rand_for.predict(xtest)\n",
    "print('*'*100)\n",
    "print('Confusion Matrix:\\n',confusion_matrix(ytest,ypred_rand))\n",
    "print('-'*100)\n",
    "accuracy_rand=accuracy_score(ytest,ypred_rand)\n",
    "print('Accuracy Score:\\t',accuracy_rand)\n",
    "print('-'*100)\n",
    "print('Classification Report:\\n',classification_report(ytest,ypred_rand))\n",
    "print('='*100)"
   ]
  },
  {
   "cell_type": "markdown",
   "id": "9f4b459d",
   "metadata": {},
   "source": [
    "# 3. ExtraTrees model"
   ]
  },
  {
   "cell_type": "code",
   "execution_count": 130,
   "id": "668edf26",
   "metadata": {},
   "outputs": [
    {
     "name": "stdout",
     "output_type": "stream",
     "text": [
      "building tree 1 of 10\n",
      "building tree 2 of 10\n",
      "building tree 3 of 10\n",
      "building tree 4 of 10\n",
      "building tree 5 of 10\n",
      "building tree 6 of 10\n",
      "building tree 7 of 10\n",
      "building tree 8 of 10\n",
      "building tree 9 of 10\n",
      "building tree 10 of 10\n",
      "****************************************************************************************************\n",
      "Confusion Matrix:\n",
      " [[4]]\n",
      "----------------------------------------------------------------------------------------------------\n",
      "Accuracy Score:\t 1.0\n",
      "----------------------------------------------------------------------------------------------------\n",
      "Classification Report:\n",
      "               precision    recall  f1-score   support\n",
      "\n",
      "           0       1.00      1.00      1.00         4\n",
      "\n",
      "    accuracy                           1.00         4\n",
      "   macro avg       1.00      1.00      1.00         4\n",
      "weighted avg       1.00      1.00      1.00         4\n",
      "\n",
      "====================================================================================================\n"
     ]
    },
    {
     "name": "stderr",
     "output_type": "stream",
     "text": [
      "C:\\Users\\admin\\anaconda3\\Lib\\site-packages\\sklearn\\base.py:1151: DataConversionWarning: A column-vector y was passed when a 1d array was expected. Please change the shape of y to (n_samples,), for example using ravel().\n",
      "  return fit_method(estimator, *args, **kwargs)\n",
      "[Parallel(n_jobs=1)]: Using backend SequentialBackend with 1 concurrent workers.\n",
      "[Parallel(n_jobs=1)]: Done   1 out of   1 | elapsed:    0.0s remaining:    0.0s\n",
      "[Parallel(n_jobs=1)]: Done  10 out of  10 | elapsed:    0.0s finished\n",
      "[Parallel(n_jobs=1)]: Using backend SequentialBackend with 1 concurrent workers.\n",
      "[Parallel(n_jobs=1)]: Done   1 out of   1 | elapsed:    0.0s remaining:    0.0s\n",
      "[Parallel(n_jobs=1)]: Done  10 out of  10 | elapsed:    0.0s finished\n"
     ]
    }
   ],
   "source": [
    "from sklearn.ensemble import ExtraTreesClassifier\n",
    "extra_tree=ExtraTreesClassifier(n_estimators=10,bootstrap=True,verbose=2)\n",
    "extra_tree.fit(xtrain,ytrain)#train the model\n",
    "#test the model\n",
    "ypred_extra=extra_tree.predict(xtest)\n",
    "print('*'*100)\n",
    "print('Confusion Matrix:\\n',confusion_matrix(ytest,ypred_extra))\n",
    "print('-'*100)\n",
    "accuracy_extra=accuracy_score(ytest,ypred_extra)\n",
    "print('Accuracy Score:\\t',accuracy_extra)\n",
    "print('-'*100)\n",
    "print('Classification Report:\\n',classification_report(ytest,ypred_extra))\n",
    "print('='*100)"
   ]
  },
  {
   "cell_type": "markdown",
   "id": "5d500bf3",
   "metadata": {},
   "source": [
    "# Model with Accuracy scores"
   ]
  },
  {
   "cell_type": "code",
   "execution_count": 133,
   "id": "f76af0b3",
   "metadata": {},
   "outputs": [
    {
     "name": "stdout",
     "output_type": "stream",
     "text": [
      "                                  Model  Accuracy_score\n",
      "2                          Bernoulli_NB            1.00\n",
      "3                    Bagging_classifier            1.00\n",
      "4               RandomForest Classifier            1.00\n",
      "5  RandomForest Classifier with pruning            1.00\n",
      "6                 ExtraTrees Classifier            1.00\n",
      "0                           Gaussian_NB            0.75\n",
      "1                        Multinomial_NB            0.75\n"
     ]
    }
   ],
   "source": [
    "scores=[('Gaussian_NB',accuracy_gauss),\n",
    "        ('Multinomial_NB',accuracy_mul_nb),\n",
    "        ('Bernoulli_NB',accuracy_ber_nb),\n",
    "        ('Bagging_classifier',accuracy_bagc),\n",
    "        ('RandomForest Classifier',accuracy_rand),\n",
    "        ('RandomForest Classifier with pruning',accuracy_rand),\n",
    "        ('ExtraTrees Classifier',accuracy_extra)\n",
    "               \n",
    "       ]\n",
    "Acc_scores=pd.DataFrame(scores,columns=['Model','Accuracy_score'])\n",
    " \n",
    "print(Acc_scores.sort_values(by='Accuracy_score',ascending=False))"
   ]
  },
  {
   "cell_type": "code",
   "execution_count": 136,
   "id": "f9fab367",
   "metadata": {},
   "outputs": [
    {
     "data": {
      "text/plain": [
       "([0, 1, 2, 3, 4, 5, 6],\n",
       " [Text(0, 0, 'Gaussian_NB'),\n",
       "  Text(1, 0, 'Multinomial_NB'),\n",
       "  Text(2, 0, 'Bernoulli_NB'),\n",
       "  Text(3, 0, 'Bagging_classifier'),\n",
       "  Text(4, 0, 'RandomForest Classifier'),\n",
       "  Text(5, 0, 'RandomForest Classifier with pruning'),\n",
       "  Text(6, 0, 'ExtraTrees Classifier')])"
      ]
     },
     "execution_count": 136,
     "metadata": {},
     "output_type": "execute_result"
    },
    {
     "data": {
      "image/png": "[encoded data removed]",
      "text/plain": [
       "<Figure size 640x480 with 1 Axes>"
      ]
     },
     "metadata": {},
     "output_type": "display_data"
    }
   ],
   "source": [
    "sns.lineplot(x=Acc_scores['Model'],y=Acc_scores['Accuracy_score'],data=Acc_scores)\n",
    "plt.xticks(rotation=90)"
   ]
  },
  {
   "cell_type": "markdown",
   "id": "7aa85d26",
   "metadata": {},
   "source": [
    "# Ensemble - Bagging Implementation "
   ]
  },
  {
   "cell_type": "markdown",
   "id": "bcb56b57",
   "metadata": {},
   "source": [
    "# Building the Base Regression Model"
   ]
  },
  {
   "cell_type": "code",
   "execution_count": 137,
   "id": "0004db95",
   "metadata": {},
   "outputs": [],
   "source": [
    "import numpy as np\n",
    "import pandas as pd\n",
    "import matplotlib.pyplot as plt\n",
    "import seaborn as sns"
   ]
  },
  {
   "cell_type": "code",
   "execution_count": 138,
   "id": "0c97da57",
   "metadata": {},
   "outputs": [
    {
     "data": {
      "text/html": [
       "<div>\n",
       "<style scoped>\n",
       "    .dataframe tbody tr th:only-of-type {\n",
       "        vertical-align: middle;\n",
       "    }\n",
       "\n",
       "    .dataframe tbody tr th {\n",
       "        vertical-align: top;\n",
       "    }\n",
       "\n",
       "    .dataframe thead th {\n",
       "        text-align: right;\n",
       "    }\n",
       "</style>\n",
       "<table border=\"1\" class=\"dataframe\">\n",
       "  <thead>\n",
       "    <tr style=\"text-align: right;\">\n",
       "      <th></th>\n",
       "      <th>Step</th>\n",
       "      <th>Amount</th>\n",
       "      <th>nameOrig</th>\n",
       "      <th>oldbalabce</th>\n",
       "      <th>newbalance</th>\n",
       "      <th>nameDest</th>\n",
       "      <th>oldbalanceDest</th>\n",
       "      <th>newbalanceDest</th>\n",
       "      <th>isFraud</th>\n",
       "    </tr>\n",
       "  </thead>\n",
       "  <tbody>\n",
       "    <tr>\n",
       "      <th>0</th>\n",
       "      <td>1</td>\n",
       "      <td>9839.64</td>\n",
       "      <td>1231006815</td>\n",
       "      <td>170136.0</td>\n",
       "      <td>160296.36</td>\n",
       "      <td>1979787155</td>\n",
       "      <td>0</td>\n",
       "      <td>0.0</td>\n",
       "      <td>0</td>\n",
       "    </tr>\n",
       "    <tr>\n",
       "      <th>1</th>\n",
       "      <td>1</td>\n",
       "      <td>1864.28</td>\n",
       "      <td>1666544295</td>\n",
       "      <td>21249.0</td>\n",
       "      <td>19384.72</td>\n",
       "      <td>2044282225</td>\n",
       "      <td>0</td>\n",
       "      <td>0.0</td>\n",
       "      <td>0</td>\n",
       "    </tr>\n",
       "  </tbody>\n",
       "</table>\n",
       "</div>"
      ],
      "text/plain": [
       "   Step   Amount    nameOrig  oldbalabce  newbalance    nameDest  \\\n",
       "0     1  9839.64  1231006815    170136.0   160296.36  1979787155   \n",
       "1     1  1864.28  1666544295     21249.0    19384.72  2044282225   \n",
       "\n",
       "   oldbalanceDest  newbalanceDest  isFraud  \n",
       "0               0             0.0        0  \n",
       "1               0             0.0        0  "
      ]
     },
     "execution_count": 138,
     "metadata": {},
     "output_type": "execute_result"
    }
   ],
   "source": [
    "data=pd.read_csv('Online Fraud.csv')\n",
    "data.head(2)"
   ]
  },
  {
   "cell_type": "code",
   "execution_count": 140,
   "id": "2ef0fa8a",
   "metadata": {},
   "outputs": [
    {
     "name": "stderr",
     "output_type": "stream",
     "text": [
      "C:\\Users\\admin\\AppData\\Local\\Temp\\ipykernel_21276\\362142045.py:1: UserWarning: \n",
      "\n",
      "`distplot` is a deprecated function and will be removed in seaborn v0.14.0.\n",
      "\n",
      "Please adapt your code to use either `displot` (a figure-level function with\n",
      "similar flexibility) or `histplot` (an axes-level function for histograms).\n",
      "\n",
      "For a guide to updating your code to use the new functions, please see\n",
      "https://gist.github.com/mwaskom/de44147ed2974457ad6372750bbe5751\n",
      "\n",
      "  sns.distplot(data['isFraud'])\n"
     ]
    },
    {
     "data": {
      "text/plain": [
       "<Axes: xlabel='isFraud', ylabel='Density'>"
      ]
     },
     "execution_count": 140,
     "metadata": {},
     "output_type": "execute_result"
    },
    {
     "data": {
      "image/png": "[encoded data removed]",
      "text/plain": [
       "<Figure size 640x480 with 1 Axes>"
      ]
     },
     "metadata": {},
     "output_type": "display_data"
    }
   ],
   "source": [
    " sns.distplot(data['isFraud'])"
   ]
  },
  {
   "cell_type": "code",
   "execution_count": 141,
   "id": "90c60e1b",
   "metadata": {},
   "outputs": [
    {
     "data": {
      "text/html": [
       "<div>\n",
       "<style scoped>\n",
       "    .dataframe tbody tr th:only-of-type {\n",
       "        vertical-align: middle;\n",
       "    }\n",
       "\n",
       "    .dataframe tbody tr th {\n",
       "        vertical-align: top;\n",
       "    }\n",
       "\n",
       "    .dataframe thead th {\n",
       "        text-align: right;\n",
       "    }\n",
       "</style>\n",
       "<table border=\"1\" class=\"dataframe\">\n",
       "  <thead>\n",
       "    <tr style=\"text-align: right;\">\n",
       "      <th></th>\n",
       "      <th>Step</th>\n",
       "      <th>Amount</th>\n",
       "      <th>nameOrig</th>\n",
       "      <th>oldbalabce</th>\n",
       "      <th>newbalance</th>\n",
       "      <th>nameDest</th>\n",
       "      <th>oldbalanceDest</th>\n",
       "      <th>newbalanceDest</th>\n",
       "      <th>isFraud</th>\n",
       "    </tr>\n",
       "  </thead>\n",
       "  <tbody>\n",
       "    <tr>\n",
       "      <th>0</th>\n",
       "      <td>1</td>\n",
       "      <td>9839.64</td>\n",
       "      <td>1231006815</td>\n",
       "      <td>170136.0</td>\n",
       "      <td>160296.36</td>\n",
       "      <td>1979787155</td>\n",
       "      <td>0</td>\n",
       "      <td>0.0</td>\n",
       "      <td>0</td>\n",
       "    </tr>\n",
       "    <tr>\n",
       "      <th>1</th>\n",
       "      <td>1</td>\n",
       "      <td>1864.28</td>\n",
       "      <td>1666544295</td>\n",
       "      <td>21249.0</td>\n",
       "      <td>19384.72</td>\n",
       "      <td>2044282225</td>\n",
       "      <td>0</td>\n",
       "      <td>0.0</td>\n",
       "      <td>0</td>\n",
       "    </tr>\n",
       "  </tbody>\n",
       "</table>\n",
       "</div>"
      ],
      "text/plain": [
       "   Step   Amount    nameOrig  oldbalabce  newbalance    nameDest  \\\n",
       "0     1  9839.64  1231006815    170136.0   160296.36  1979787155   \n",
       "1     1  1864.28  1666544295     21249.0    19384.72  2044282225   \n",
       "\n",
       "   oldbalanceDest  newbalanceDest  isFraud  \n",
       "0               0             0.0        0  \n",
       "1               0             0.0        0  "
      ]
     },
     "execution_count": 141,
     "metadata": {},
     "output_type": "execute_result"
    }
   ],
   "source": [
    "data.head(2)"
   ]
  },
  {
   "cell_type": "code",
   "execution_count": 142,
   "id": "1250db11",
   "metadata": {},
   "outputs": [
    {
     "data": {
      "text/html": [
       "<div>\n",
       "<style scoped>\n",
       "    .dataframe tbody tr th:only-of-type {\n",
       "        vertical-align: middle;\n",
       "    }\n",
       "\n",
       "    .dataframe tbody tr th {\n",
       "        vertical-align: top;\n",
       "    }\n",
       "\n",
       "    .dataframe thead th {\n",
       "        text-align: right;\n",
       "    }\n",
       "</style>\n",
       "<table border=\"1\" class=\"dataframe\">\n",
       "  <thead>\n",
       "    <tr style=\"text-align: right;\">\n",
       "      <th></th>\n",
       "      <th>Step</th>\n",
       "      <th>Amount</th>\n",
       "      <th>nameOrig</th>\n",
       "      <th>oldbalabce</th>\n",
       "      <th>newbalance</th>\n",
       "      <th>nameDest</th>\n",
       "      <th>oldbalanceDest</th>\n",
       "    </tr>\n",
       "  </thead>\n",
       "  <tbody>\n",
       "    <tr>\n",
       "      <th>0</th>\n",
       "      <td>1</td>\n",
       "      <td>9839.64</td>\n",
       "      <td>1231006815</td>\n",
       "      <td>170136.0</td>\n",
       "      <td>160296.36</td>\n",
       "      <td>1979787155</td>\n",
       "      <td>0</td>\n",
       "    </tr>\n",
       "  </tbody>\n",
       "</table>\n",
       "</div>"
      ],
      "text/plain": [
       "   Step   Amount    nameOrig  oldbalabce  newbalance    nameDest  \\\n",
       "0     1  9839.64  1231006815    170136.0   160296.36  1979787155   \n",
       "\n",
       "   oldbalanceDest  \n",
       "0               0  "
      ]
     },
     "execution_count": 142,
     "metadata": {},
     "output_type": "execute_result"
    }
   ],
   "source": [
    "x=data.iloc[:,:-2]\n",
    "x.head(1)"
   ]
  },
  {
   "cell_type": "code",
   "execution_count": 143,
   "id": "82635bf6",
   "metadata": {},
   "outputs": [],
   "source": [
    " y=data.isFraud"
   ]
  },
  {
   "cell_type": "code",
   "execution_count": 144,
   "id": "c4dc428e",
   "metadata": {},
   "outputs": [
    {
     "data": {
      "text/plain": [
       "(20,)"
      ]
     },
     "execution_count": 144,
     "metadata": {},
     "output_type": "execute_result"
    }
   ],
   "source": [
    "y.shape"
   ]
  },
  {
   "cell_type": "code",
   "execution_count": 147,
   "id": "c143b8f2",
   "metadata": {},
   "outputs": [
    {
     "name": "stdout",
     "output_type": "stream",
     "text": [
      "****************Training Data Shape********************\n",
      "\n",
      "Training data-X- Shape:\t (15, 7)\n",
      "\n",
      "Training data-y- Shape:\t (15,)\n",
      "\n",
      "****************Testing Data Shape********************\n",
      "\n",
      "Testing data(x-Input) Shape:\t (5, 7)\n",
      "\n",
      "Testing data(y-Outcome) Shape:\t (5,)\n"
     ]
    }
   ],
   "source": [
    "from sklearn.model_selection import train_test_split\n",
    "xtrain,xtest,ytrain,ytest=train_test_split(x,y,test_size=.25,random_state=20)\n",
    "print('****************Training Data Shape********************\\n')\n",
    "print('Training data-X- Shape:\\t',xtrain.shape)\n",
    "print()\n",
    "print('Training data-y- Shape:\\t',ytrain.shape)\n",
    "print()\n",
    "print('****************Testing Data Shape********************\\n')\n",
    "print('Testing data(x-Input) Shape:\\t',xtest.shape)\n",
    "print()\n",
    "print('Testing data(y-Outcome) Shape:\\t',ytest.shape)"
   ]
  },
  {
   "cell_type": "markdown",
   "id": "81a6086f",
   "metadata": {},
   "source": [
    "# Base Model"
   ]
  },
  {
   "cell_type": "markdown",
   "id": "10a62531",
   "metadata": {},
   "source": [
    "# 1. Linear Regression Model"
   ]
  },
  {
   "cell_type": "code",
   "execution_count": 148,
   "id": "9501ee1e",
   "metadata": {},
   "outputs": [
    {
     "name": "stdout",
     "output_type": "stream",
     "text": [
      "****************************************************************************************************\n",
      "Linear Regression Model\n",
      "****************************************************************************************************\n",
      "\n",
      " Training Phase\n",
      "Hyperparameter:\n",
      " {'copy_X': True, 'fit_intercept': True, 'n_jobs': None, 'positive': False}\n",
      "Training Completed\n",
      "====================================================================================================\n",
      "\n",
      " Test Phase\n",
      "\n",
      "Testing completed\n",
      "====================================================================================================\n",
      "****************************************************************************************************\n",
      "Linear Regression - Performance Measures\n",
      "****************************************************************************************************\n",
      "Accuracy Score - Linear Regression:\t 0.0\n",
      "\n",
      "MSE-linear Regression:\t 0.02494348342371251\n",
      "\n",
      "RMSE linear Regression:\t 0.15793506078041225\n"
     ]
    }
   ],
   "source": [
    "from sklearn.linear_model import LinearRegression\n",
    "lin_reg=LinearRegression()\n",
    "print('*'*100)\n",
    "print('Linear Regression Model')\n",
    "print('*'*100)\n",
    "print('\\n Training Phase')\n",
    "lin_reg.fit(xtrain,ytrain)\n",
    "print('Hyperparameter:\\n',lin_reg.get_params())\n",
    "print('Training Completed')\n",
    "print('='*100)\n",
    "print('\\n Test Phase')\n",
    "ypred_lin_reg=lin_reg.predict(xtest)\n",
    "#print('Predicted values for the test samples:\\n',ypred_lin_reg)\n",
    "print()\n",
    "print('Testing completed')\n",
    "print('='*100)\n",
    "#import metrics\n",
    "from sklearn.metrics import r2_score,mean_squared_error\n",
    "print('*'*100)\n",
    "print('Linear Regression - Performance Measures')\n",
    "print('*'*100)\n",
    "Accuracy_lin_reg=r2_score(ytest,ypred_lin_reg)\n",
    "MSE_lin_reg=mean_squared_error(ytest,ypred_lin_reg)\n",
    "RMSE_lin_reg=np.sqrt(mean_squared_error(ytest,ypred_lin_reg))\n",
    "print('Accuracy Score - Linear Regression:\\t',Accuracy_lin_reg)\n",
    "print()\n",
    "print('MSE-linear Regression:\\t',MSE_lin_reg)\n",
    "print() \n",
    "print('RMSE linear Regression:\\t',RMSE_lin_reg)"
   ]
  },
  {
   "cell_type": "markdown",
   "id": "967266a1",
   "metadata": {},
   "source": [
    "# 2. KNN Regression"
   ]
  },
  {
   "cell_type": "code",
   "execution_count": 149,
   "id": "8b55ce03",
   "metadata": {},
   "outputs": [
    {
     "name": "stdout",
     "output_type": "stream",
     "text": [
      "****************************************************************************************************\n",
      "KNN Regression Model\n",
      "****************************************************************************************************\n",
      "\n",
      " Training Phase\n",
      "Hyperparameter:\n",
      " {'algorithm': 'auto', 'leaf_size': 30, 'metric': 'minkowski', 'metric_params': None, 'n_jobs': None, 'n_neighbors': 3, 'p': 2, 'weights': 'uniform'}\n",
      "Training Completed\n",
      "====================================================================================================\n",
      "\n",
      " Test Phase\n",
      "\n",
      "Testing completed\n",
      "====================================================================================================\n",
      "****************************************************************************************************\n",
      "KNN Regression - Performance Measures\n",
      "****************************************************************************************************\n",
      "Accuracy Score - knn Regression:\t 1.0\n",
      "\n",
      "MSE-knn Regression:\t 0.0\n",
      "\n",
      "RMSE knn Regression:\t 0.0\n"
     ]
    }
   ],
   "source": [
    "from sklearn.neighbors import KNeighborsRegressor\n",
    "knn_reg=KNeighborsRegressor(n_neighbors=3)\n",
    "print('*'*100)\n",
    "print('KNN Regression Model')\n",
    "print('*'*100)\n",
    "print('\\n Training Phase')\n",
    "knn_reg.fit(xtrain,ytrain)\n",
    "print('Hyperparameter:\\n',knn_reg.get_params())\n",
    "print('Training Completed')\n",
    "print('='*100)\n",
    "print('\\n Test Phase')\n",
    "ypred_knn=knn_reg.predict(xtest)\n",
    "#print('Predicted values for the test samples:\\n',ypred_lin_reg)\n",
    "print()\n",
    "print('Testing completed')\n",
    "print('='*100)\n",
    "#import metrics\n",
    "from sklearn.metrics import r2_score,mean_squared_error\n",
    "print('*'*100)\n",
    "print('KNN Regression - Performance Measures')\n",
    "print('*'*100)\n",
    "Accuracy_knn_reg=r2_score(ytest,ypred_knn)\n",
    "MSE_knn=mean_squared_error(ytest,ypred_knn)\n",
    "RMSE_knn=np.sqrt(mean_squared_error(ytest,ypred_knn))\n",
    "print('Accuracy Score - knn Regression:\\t',Accuracy_knn_reg)\n",
    "print()\n",
    "print('MSE-knn Regression:\\t',MSE_knn)\n",
    "print()\n",
    "print('RMSE knn Regression:\\t',RMSE_knn)"
   ]
  },
  {
   "cell_type": "markdown",
   "id": "256dad6e",
   "metadata": {},
   "source": [
    "# 3. Decision Tree Regression model"
   ]
  },
  {
   "cell_type": "code",
   "execution_count": 150,
   "id": "0c8e8a7d",
   "metadata": {},
   "outputs": [
    {
     "name": "stdout",
     "output_type": "stream",
     "text": [
      "****************************************************************************************************\n",
      "DT Regression Model\n",
      "****************************************************************************************************\n",
      "\n",
      " Training Phase\n",
      "Hyperparameter:\n",
      " {'ccp_alpha': 0.0, 'criterion': 'squared_error', 'max_depth': None, 'max_features': None, 'max_leaf_nodes': None, 'min_impurity_decrease': 0.0, 'min_samples_leaf': 1, 'min_samples_split': 2, 'min_weight_fraction_leaf': 0.0, 'random_state': None, 'splitter': 'best'}\n",
      "Training Completed\n",
      "====================================================================================================\n",
      "\n",
      " Test Phase\n",
      "\n",
      "Testing completed\n",
      "====================================================================================================\n",
      "****************************************************************************************************\n",
      "Linear Regression - Performance Measures\n",
      "****************************************************************************************************\n",
      "Accuracy Score - DT Regression:\t 1.0\n",
      "\n",
      "MSE-DT Regression:\t 0.0\n",
      "\n",
      "RMSE DT Regression:\t 0.0\n"
     ]
    }
   ],
   "source": [
    "from sklearn.tree import DecisionTreeRegressor\n",
    "dt_reg=DecisionTreeRegressor()\n",
    "print('*'*100)\n",
    "print('DT Regression Model')\n",
    "print('*'*100)\n",
    "print('\\n Training Phase')\n",
    "dt_reg.fit(xtrain,ytrain)\n",
    "print('Hyperparameter:\\n',dt_reg.get_params())\n",
    "print('Training Completed')\n",
    "print('='*100)\n",
    "print('\\n Test Phase')\n",
    "ypred_dt_reg=dt_reg.predict(xtest)\n",
    "#print('Predicted values for the test samples:\\n',ypred_lin_reg)\n",
    "print()\n",
    "print('Testing completed')\n",
    "print('='*100)\n",
    "#import metrics\n",
    "from sklearn.metrics import r2_score,mean_squared_error\n",
    "print('*'*100)\n",
    "print('Linear Regression - Performance Measures')\n",
    "print('*'*100)\n",
    "Accuracy_dt_reg=r2_score(ytest,ypred_dt_reg)\n",
    "MSE_dt_reg=mean_squared_error(ytest,ypred_dt_reg)\n",
    "RMSE_dt_reg=np.sqrt(mean_squared_error(ytest,ypred_dt_reg))\n",
    "print('Accuracy Score - DT Regression:\\t',Accuracy_dt_reg)\n",
    "print() \n",
    "print('MSE-DT Regression:\\t',MSE_dt_reg)\n",
    "print()\n",
    "print('RMSE DT Regression:\\t',RMSE_dt_reg)"
   ]
  },
  {
   "cell_type": "markdown",
   "id": "35170806",
   "metadata": {},
   "source": [
    "# 4. Support Vector Regressor"
   ]
  },
  {
   "cell_type": "code",
   "execution_count": 157,
   "id": "b4a82d26",
   "metadata": {},
   "outputs": [
    {
     "name": "stdout",
     "output_type": "stream",
     "text": [
      "****************************************************************************************************\n",
      "SVR Regression Model\n",
      "****************************************************************************************************\n",
      "\n",
      " Training Phase\n",
      "Hyperparameter:\n",
      " {'C': 1.0, 'cache_size': 200, 'coef0': 0.0, 'degree': 3, 'epsilon': 0.1, 'gamma': 'scale', 'kernel': 'rbf', 'max_iter': -1, 'shrinking': True, 'tol': 0.001, 'verbose': False}\n",
      "Training Completed\n",
      "====================================================================================================\n",
      "\n",
      " Test Phase\n",
      "\n",
      "Testing completed\n",
      "====================================================================================================\n",
      "****************************************************************************************************\n",
      "SVR Regression - Performance Measures\n",
      "****************************************************************************************************\n",
      "Accuracy Score - SVR Regression:\t 0.0\n",
      "\n",
      "MSE-SVR Regression:\t 0.0035202515784081407\n",
      "\n",
      "RMSE SVR Regression:\t 0.05933170803548589\n"
     ]
    }
   ],
   "source": [
    " from sklearn.svm import SVR\n",
    "\n",
    "svr=SVR()\n",
    "print('*'*100)\n",
    "print('SVR Regression Model')\n",
    "print('*'*100)\n",
    "print('\\n Training Phase')\n",
    "svr.fit(xtrain,ytrain)\n",
    "print('Hyperparameter:\\n',svr.get_params())\n",
    "print('Training Completed')\n",
    "print('='*100)\n",
    "print('\\n Test Phase')\n",
    "ypred_svr=svr.predict(xtest)\n",
    "#print('Predicted values for the test samples:\\n',ypred_lin_reg)\n",
    "print()\n",
    "print('Testing completed')\n",
    "print('='*100)\n",
    "#import metrics\n",
    "from sklearn.metrics import r2_score,mean_squared_error\n",
    "print('*'*100)\n",
    "print('SVR Regression - Performance Measures')\n",
    "print('*'*100)\n",
    "Accuracy_svr=r2_score(ytest,ypred_svr)\n",
    "MSE_svr=mean_squared_error(ytest,ypred_svr)\n",
    "RMSE_svr=np.sqrt(mean_squared_error(ytest,ypred_svr))\n",
    "print('Accuracy Score - SVR Regression:\\t',Accuracy_svr)\n",
    "print()\n",
    "print('MSE-SVR Regression:\\t',MSE_svr)\n",
    "print()\n",
    "print('RMSE SVR Regression:\\t',RMSE_svr)"
   ]
  },
  {
   "cell_type": "markdown",
   "id": "50f41418",
   "metadata": {},
   "source": [
    "# 5.Boosting - Adaboost with the base model - Lin reg\n",
    " "
   ]
  },
  {
   "cell_type": "code",
   "execution_count": 159,
   "id": "576a2311",
   "metadata": {},
   "outputs": [
    {
     "name": "stdout",
     "output_type": "stream",
     "text": [
      "****************************************************************************************************\n",
      "AdaBoost Regression Model\n",
      "****************************************************************************************************\n",
      "\n",
      " Training Phase\n",
      "Hyperparameter:\n",
      " {'base_estimator__copy_X': True, 'base_estimator__fit_intercept': True, 'base_estimator__n_jobs': None, 'base_estimator__positive': False, 'base_estimator': LinearRegression(), 'estimator': None, 'learning_rate': 1.0, 'loss': 'linear', 'n_estimators': 15, 'random_state': None}\n",
      "Training Completed\n",
      "====================================================================================================\n",
      "\n",
      " Test Phase\n",
      "\n",
      "Testing completed\n",
      "====================================================================================================\n",
      "****************************************************************************************************\n",
      "Adaboost Regression - Performance Measures\n",
      "****************************************************************************************************\n",
      "Accuracy Score - Adaboost Regression:\t 0.0\n",
      "\n",
      "MSE-Adaboost Regression:\t 0.05758633933328381\n",
      "\n",
      "RMSE Adaboost Regression:\t 0.23997153859006656\n"
     ]
    },
    {
     "name": "stderr",
     "output_type": "stream",
     "text": [
      "C:\\Users\\admin\\anaconda3\\Lib\\site-packages\\sklearn\\ensemble\\_base.py:156: FutureWarning: `base_estimator` was renamed to `estimator` in version 1.2 and will be removed in 1.4.\n",
      "  warnings.warn(\n"
     ]
    }
   ],
   "source": [
    "from sklearn.ensemble import AdaBoostRegressor\n",
    "ada=AdaBoostRegressor(base_estimator=lin_reg,n_estimators=15)\n",
    "print('*'*100)\n",
    "print('AdaBoost Regression Model')\n",
    "print('*'*100)\n",
    "print('\\n Training Phase')\n",
    "ada.fit(xtrain,ytrain)\n",
    "print('Hyperparameter:\\n',ada.get_params())\n",
    "print('Training Completed')\n",
    "print('='*100)\n",
    "print('\\n Test Phase')\n",
    "ypred_ada=ada.predict(xtest)\n",
    "#print('Predicted values for the test samples:\\n',ypred_lin_reg)\n",
    "print()\n",
    "print('Testing completed')\n",
    "print('='*100)\n",
    "#import metrics\n",
    "from sklearn.metrics import r2_score,mean_squared_error\n",
    "print('*'*100)\n",
    "print('Adaboost Regression - Performance Measures')\n",
    "print('*'*100)\n",
    "Accuracy_ada=r2_score(ytest,ypred_ada)\n",
    "MSE_ada=mean_squared_error(ytest,ypred_ada)\n",
    "RMSE_ada=np.sqrt(mean_squared_error(ytest,ypred_ada))\n",
    "print('Accuracy Score - Adaboost Regression:\\t',Accuracy_ada)\n",
    "print()\n",
    "print('MSE-Adaboost Regression:\\t',MSE_ada)\n",
    "print()\n",
    "print('RMSE Adaboost Regression:\\t',RMSE_ada)"
   ]
  },
  {
   "cell_type": "markdown",
   "id": "ef669d44",
   "metadata": {},
   "source": [
    "# 6. Boosting - GradientBoost"
   ]
  },
  {
   "cell_type": "code",
   "execution_count": 160,
   "id": "03e6307b",
   "metadata": {},
   "outputs": [
    {
     "name": "stdout",
     "output_type": "stream",
     "text": [
      "****************************************************************************************************\n",
      "GradientBoosting Regression Model\n",
      "****************************************************************************************************\n",
      "\n",
      " Training Phase\n",
      "Hyperparameter:\n",
      " {'alpha': 0.9, 'ccp_alpha': 0.0, 'criterion': 'friedman_mse', 'init': None, 'learning_rate': 0.1, 'loss': 'squared_error', 'max_depth': 3, 'max_features': None, 'max_leaf_nodes': None, 'min_impurity_decrease': 0.0, 'min_samples_leaf': 1, 'min_samples_split': 2, 'min_weight_fraction_leaf': 0.0, 'n_estimators': 15, 'n_iter_no_change': None, 'random_state': None, 'subsample': 1.0, 'tol': 0.0001, 'validation_fraction': 0.1, 'verbose': 0, 'warm_start': False}\n",
      "Training Completed\n",
      "====================================================================================================\n",
      "\n",
      " Test Phase\n",
      "\n",
      "Testing completed\n",
      "====================================================================================================\n",
      "****************************************************************************************************\n",
      "GradientBoosting Regression - Performance Measures\n",
      "****************************************************************************************************\n",
      "Accuracy Score - GradientBoosting Regression:\t 0.0\n",
      "\n",
      "MSE-GradientBoosting Regression:\t 0.0007536205915593986\n",
      "\n",
      "RMSE GradientBoosting Regression:\t 0.02745215094595319\n"
     ]
    }
   ],
   "source": [
    "from sklearn.ensemble import GradientBoostingRegressor\n",
    "grad_boost=GradientBoostingRegressor(n_estimators=15)\n",
    "print('*'*100)\n",
    "print('GradientBoosting Regression Model')\n",
    "print('*'*100)\n",
    "print('\\n Training Phase')\n",
    "grad_boost.fit(xtrain,ytrain)\n",
    "print('Hyperparameter:\\n',grad_boost.get_params())\n",
    "print('Training Completed')\n",
    "print('='*100)\n",
    "print('\\n Test Phase')\n",
    "ypred_grad_boost=grad_boost.predict(xtest)\n",
    "#print('Predicted values for the test samples:\\n',ypred_lin_reg)\n",
    "print()\n",
    "print('Testing completed')\n",
    "print('='*100)\n",
    "#import metrics\n",
    "from sklearn.metrics import r2_score,mean_squared_error\n",
    "print('*'*100)\n",
    "print('GradientBoosting Regression - Performance Measures')\n",
    "print('*'*100)\n",
    "Accuracy_grad_boost=r2_score(ytest,ypred_grad_boost)\n",
    "MSE_grad_boost=mean_squared_error(ytest,ypred_grad_boost)\n",
    "RMSE_grad_boost=np.sqrt(mean_squared_error(ytest,ypred_grad_boost))\n",
    "print('Accuracy Score - GradientBoosting Regression:\\t',Accuracy_grad_boost)\n",
    "print()\n",
    "print('MSE-GradientBoosting Regression:\\t',MSE_grad_boost)\n",
    "print()\n",
    "print('RMSE GradientBoosting Regression:\\t',RMSE_grad_boost)"
   ]
  },
  {
   "cell_type": "markdown",
   "id": "a8d905ca",
   "metadata": {},
   "source": [
    "# Model with Accuracy scores"
   ]
  },
  {
   "cell_type": "code",
   "execution_count": 161,
   "id": "7f0648b9",
   "metadata": {},
   "outputs": [
    {
     "name": "stdout",
     "output_type": "stream",
     "text": [
      "                      Model  Accuracy_score\n",
      "1            KNN Regression             1.0\n",
      "2  Decision Tree Regression             1.0\n",
      "0         Linear Regression             0.0\n",
      "3                       SVR             0.0\n",
      "4        Adaboost Regressor             0.0\n",
      "5  Gradient Boost Regressor             0.0\n"
     ]
    }
   ],
   "source": [
    " scores=[('Linear Regression',Accuracy_lin_reg),\n",
    "        ('KNN Regression',Accuracy_knn_reg),\n",
    "        ('Decision Tree Regression',Accuracy_dt_reg),\n",
    "        ('SVR',Accuracy_svr),\n",
    "        ('Adaboost Regressor',Accuracy_ada),\n",
    "        ('Gradient Boost Regressor',Accuracy_grad_boost),\n",
    "       ]\n",
    "Acc_scores=pd.DataFrame(scores,columns=['Model','Accuracy_score'])\n",
    " print(Acc_scores.sort_values(by='Accuracy_score',ascending=False))"
   ]
  },
  {
   "cell_type": "code",
   "execution_count": 163,
   "id": "d2efdb37",
   "metadata": {},
   "outputs": [
    {
     "data": {
      "text/plain": [
       "([0, 1, 2, 3, 4, 5],\n",
       " [Text(0, 0, 'Linear Regression'),\n",
       "  Text(1, 0, 'KNN Regression'),\n",
       "  Text(2, 0, 'Decision Tree Regression'),\n",
       "  Text(3, 0, 'SVR'),\n",
       "  Text(4, 0, 'Adaboost Regressor'),\n",
       "  Text(5, 0, 'Gradient Boost Regressor')])"
      ]
     },
     "execution_count": 163,
     "metadata": {},
     "output_type": "execute_result"
    },
    {
     "data": {
      "image/png": "[encoded data removed]",
      "text/plain": [
       "<Figure size 640x480 with 1 Axes>"
      ]
     },
     "metadata": {},
     "output_type": "display_data"
    }
   ],
   "source": [
    " sns.lineplot(x=Acc_scores['Model'],y=Acc_scores['Accuracy_score'],data=Acc_scores)\n",
    " plt.xticks(rotation=90)"
   ]
  },
  {
   "cell_type": "markdown",
   "id": "fddac3ed",
   "metadata": {},
   "source": [
    "# using linear regression"
   ]
  },
  {
   "cell_type": "markdown",
   "id": "b1af8bf3",
   "metadata": {},
   "source": [
    "# 1.Bagging"
   ]
  },
  {
   "cell_type": "code",
   "execution_count": 173,
   "id": "be52b6b7",
   "metadata": {},
   "outputs": [
    {
     "name": "stdout",
     "output_type": "stream",
     "text": [
      "****************************************************************************************************\n",
      "Bagging Regression Model\n",
      "****************************************************************************************************\n",
      "\n",
      " Training Phase\n",
      "Hyperparameter:\n",
      " {'base_estimator__copy_X': True, 'base_estimator__fit_intercept': True, 'base_estimator__n_jobs': None, 'base_estimator__positive': False, 'base_estimator': LinearRegression(), 'estimator': None, 'learning_rate': 1.0, 'loss': 'linear', 'n_estimators': 15, 'random_state': None}\n",
      "Training Completed\n",
      "====================================================================================================\n",
      "\n",
      " Test Phase\n",
      "\n",
      "Testing completed\n",
      "====================================================================================================\n",
      "****************************************************************************************************\n",
      "Bagging Regression - Performance Measures\n",
      "****************************************************************************************************\n",
      "Accuracy Score - Bagging egression:\t 0.0\n",
      "\n",
      "MSE-Bagging Regression:\t 0.010387589855360894\n",
      "\n",
      "RMSE Bagging Regression:\t 0.10191952636939054\n"
     ]
    },
    {
     "name": "stderr",
     "output_type": "stream",
     "text": [
      "C:\\Users\\admin\\anaconda3\\Lib\\site-packages\\sklearn\\ensemble\\_base.py:156: FutureWarning: `base_estimator` was renamed to `estimator` in version 1.2 and will be removed in 1.4.\n",
      "  warnings.warn(\n"
     ]
    }
   ],
   "source": [
    "from sklearn.ensemble import BaggingRegressor\n",
    "bagc=BaggingClassifier(base_estimator=lin_reg,n_estimators=15)\n",
    "print('*'*100)\n",
    "print('Bagging Regression Model')\n",
    "print('*'*100)\n",
    "print('\\n Training Phase')\n",
    "ada.fit(xtrain,ytrain)\n",
    "print('Hyperparameter:\\n',ada.get_params())\n",
    "print('Training Completed')\n",
    "print('='*100)\n",
    "print('\\n Test Phase')\n",
    "ypred_ada=ada.predict(xtest)\n",
    "#print('Predicted values for the test samples:\\n',ypred_lin_reg)\n",
    "print()\n",
    "print('Testing completed')\n",
    "print('='*100)\n",
    "#import metrics\n",
    "from sklearn.metrics import r2_score,mean_squared_error\n",
    "print('*'*100)\n",
    "print('Bagging Regression - Performance Measures')\n",
    "print('*'*100)\n",
    "Accuracy_ada=r2_score(ytest,ypred_ada)\n",
    "MSE_ada=mean_squared_error(ytest,ypred_ada)\n",
    "RMSE_ada=np.sqrt(mean_squared_error(ytest,ypred_ada))\n",
    "print('Accuracy Score - Bagging egression:\\t',Accuracy_ada)\n",
    "print()\n",
    "print('MSE-Bagging Regression:\\t',MSE_ada)\n",
    "print()\n",
    "print('RMSE Bagging Regression:\\t',RMSE_ada)"
   ]
  },
  {
   "cell_type": "markdown",
   "id": "4131fd1a",
   "metadata": {},
   "source": [
    "# 2. RandomForestLinear model"
   ]
  },
  {
   "cell_type": "code",
   "execution_count": 171,
   "id": "c3da7df0",
   "metadata": {},
   "outputs": [
    {
     "name": "stdout",
     "output_type": "stream",
     "text": [
      "****************************************************************************************************\n",
      "RandomForest Regresstion Model\n",
      "****************************************************************************************************\n",
      "\n",
      " Training Phase\n",
      "Hyperparameter:\n",
      " {'bootstrap': True, 'ccp_alpha': 0.0, 'criterion': 'squared_error', 'max_depth': None, 'max_features': 1.0, 'max_leaf_nodes': None, 'max_samples': None, 'min_impurity_decrease': 0.0, 'min_samples_leaf': 1, 'min_samples_split': 2, 'min_weight_fraction_leaf': 0.0, 'n_estimators': 15, 'n_jobs': None, 'oob_score': False, 'random_state': None, 'verbose': 0, 'warm_start': False}\n",
      "Training Completed\n",
      "====================================================================================================\n",
      "\n",
      " Test Phase\n",
      "\n",
      "Testing completed\n",
      "====================================================================================================\n",
      "****************************************************************************************************\n",
      "Random Forest Regression - Performance Measures\n",
      "****************************************************************************************************\n",
      "Accuracy Score - GradientBoosting Regression:\t 0.0\n",
      "\n",
      "MSE RandomForest Regression:\t 0.0035555555555555557\n",
      "\n",
      "RMSE RandomForest Regression:\t 0.05962847939999439\n"
     ]
    }
   ],
   "source": [
    "from sklearn.ensemble import RandomForestRegressor\n",
    "rand_for=RandomForestRegressor(n_estimators=15)\n",
    "print('*'*100)\n",
    "print('RandomForest Regresstion Model')\n",
    "print('*'*100)\n",
    "print('\\n Training Phase')\n",
    "rand_for.fit(xtrain,ytrain)\n",
    "print('Hyperparameter:\\n',rand_for.get_params())\n",
    "print('Training Completed')\n",
    "print('='*100)\n",
    "print('\\n Test Phase')\n",
    "ypred_rand_for=rand_for.predict(xtest)\n",
    "#print('Predicted values for the test samples:\\n',ypred_lin_reg)\n",
    "print()\n",
    "print('Testing completed')\n",
    "print('='*100)\n",
    "#import metrics\n",
    "from sklearn.metrics import r2_score,mean_squared_error\n",
    "print('*'*100)\n",
    "print('Random Forest Regression - Performance Measures')\n",
    "print('*'*100)\n",
    "Accuracy_rand_for=r2_score(ytest,ypred_rand_for)\n",
    "MSE_rand_for=mean_squared_error(ytest,ypred_rand_for)\n",
    "RMSE_rand_for=np.sqrt(mean_squared_error(ytest,ypred_rand_for))\n",
    "print('Accuracy Score - GradientBoosting Regression:\\t',Accuracy_rand_for)\n",
    "print()\n",
    "print('MSE RandomForest Regression:\\t',MSE_rand_for)\n",
    "print()\n",
    "print('RMSE RandomForest Regression:\\t',RMSE_rand_for)"
   ]
  },
  {
   "cell_type": "markdown",
   "id": "d9300df1",
   "metadata": {},
   "source": [
    "# 3.Extra Tree"
   ]
  },
  {
   "cell_type": "code",
   "execution_count": 196,
   "id": "e246bf0d",
   "metadata": {},
   "outputs": [
    {
     "name": "stdout",
     "output_type": "stream",
     "text": [
      "****************************************************************************************************\n",
      "ExtraTrees Regresstion Model\n",
      "****************************************************************************************************\n",
      "\n",
      " Training Phase\n",
      "Hyperparameter:\n",
      " {'bootstrap': False, 'ccp_alpha': 0.0, 'criterion': 'squared_error', 'max_depth': None, 'max_features': 1.0, 'max_leaf_nodes': None, 'max_samples': None, 'min_impurity_decrease': 0.0, 'min_samples_leaf': 1, 'min_samples_split': 2, 'min_weight_fraction_leaf': 0.0, 'n_estimators': 15, 'n_jobs': None, 'oob_score': False, 'random_state': None, 'verbose': 0, 'warm_start': False}\n",
      "Training Completed\n",
      "====================================================================================================\n",
      "\n",
      " Test Phase\n",
      "\n",
      "Testing completed\n",
      "====================================================================================================\n",
      "****************************************************************************************************\n",
      "ExtraTreesRegression - Performance Measures\n",
      "****************************************************************************************************\n",
      "Accuracy Score - ExtraTreesR Regression:\t 0.0\n",
      "\n",
      "MSE ExtraTrees Regression:\t 0.010387589855360894\n",
      "\n",
      "RMSE ExtraTrees Regression:\t 0.10191952636939054\n"
     ]
    }
   ],
   "source": [
    "from sklearn.ensemble import ExtraTreesRegressor\n",
    "extra_trees=ExtraTreesRegressor(n_estimators=15)\n",
    "print('*'*100)\n",
    "print('ExtraTrees Regresstion Model')\n",
    "print('*'*100)\n",
    "print('\\n Training Phase')\n",
    "extra_tree.fit(xtrain,ytrain)\n",
    "print('Hyperparameter:\\n',extra_tree.get_params())\n",
    "print('Training Completed')\n",
    "print('='*100)\n",
    "print('\\n Test Phase')\n",
    "ypred_extra_tree=extra_tree.predict(xtest)\n",
    "#print('Predicted values for the test samples:\\n',ypred_lin_reg)\n",
    "print()\n",
    "print('Testing completed')\n",
    "print('='*100)\n",
    "#import metrics\n",
    "from sklearn.metrics import r2_score,mean_squared_error\n",
    "print('*'*100)\n",
    "print('ExtraTreesRegression - Performance Measures')\n",
    "print('*'*100)\n",
    "Accuracy_extra_tree=r2_score(ytest,ypred_rand_for)\n",
    "MSE_rand_for=mean_squared_error(ytest,ypred_rand_for)\n",
    "RMSE_rand_for=np.sqrt(mean_squared_error(ytest,ypred_rand_for))\n",
    "print('Accuracy Score - ExtraTreesR Regression:\\t',Accuracy_extra_tree)\n",
    "print()\n",
    "print('MSE ExtraTrees Regression:\\t',MSE_ada)\n",
    "print()\n",
    "print('RMSE ExtraTrees Regression:\\t',RMSE_ada)"
   ]
  },
  {
   "cell_type": "code",
   "execution_count": 183,
   "id": "13e6c433",
   "metadata": {},
   "outputs": [
    {
     "name": "stdout",
     "output_type": "stream",
     "text": [
      "                      Model  Accuracy_score\n",
      "1            KNN Regression             1.0\n",
      "2  Decision Tree Regression             1.0\n",
      "0         Linear Regression             0.0\n",
      "3                       SVR             0.0\n",
      "4         Bagging Regressor             0.0\n",
      "5    RandomForest Regressor             0.0\n",
      "6      ExtraTrees Regressor             0.0\n"
     ]
    }
   ],
   "source": [
    "\n",
    " scores=[('Linear Regression',Accuracy_lin_reg),\n",
    "        ('KNN Regression',Accuracy_knn_reg),\n",
    "        ('Decision Tree Regression',Accuracy_dt_reg),\n",
    "        ('SVR',Accuracy_svr),\n",
    "        (' Bagging Regressor',Accuracy_ada),\n",
    "        ('RandomForest Regressor',Accuracy_rand_for),\n",
    "        ('ExtraTrees Regressor',Accuracy_extra_tree),\n",
    "       ]\n",
    "Acc_scores=pd.DataFrame(scores,columns=['Model','Accuracy_score'])\n",
    "print(Acc_scores.sort_values(by='Accuracy_score',ascending=False))"
   ]
  },
  {
   "cell_type": "code",
   "execution_count": 185,
   "id": "8337afd7",
   "metadata": {},
   "outputs": [
    {
     "data": {
      "text/plain": [
       "([0, 1, 2, 3, 4, 5, 6],\n",
       " [Text(0, 0, 'Linear Regression'),\n",
       "  Text(1, 0, 'KNN Regression'),\n",
       "  Text(2, 0, 'Decision Tree Regression'),\n",
       "  Text(3, 0, 'SVR'),\n",
       "  Text(4, 0, ' Bagging Regressor'),\n",
       "  Text(5, 0, 'RandomForest Regressor'),\n",
       "  Text(6, 0, 'ExtraTrees Regressor')])"
      ]
     },
     "execution_count": 185,
     "metadata": {},
     "output_type": "execute_result"
    },
    {
     "data": {
      "image/png": "[encoded data removed]",
      "text/plain": [
       "<Figure size 640x480 with 1 Axes>"
      ]
     },
     "metadata": {},
     "output_type": "display_data"
    }
   ],
   "source": [
    " sns.lineplot(x=Acc_scores['Model'],y=Acc_scores['Accuracy_score'],data=Acc_scores)\n",
    " plt.xticks(rotation=90)"
   ]
  },
  {
   "cell_type": "markdown",
   "id": "11025f7b",
   "metadata": {},
   "source": [
    "# using classification"
   ]
  },
  {
   "cell_type": "code",
   "execution_count": 214,
   "id": "91278f96",
   "metadata": {},
   "outputs": [],
   "source": [
    "#1.ADBOOST"
   ]
  },
  {
   "cell_type": "code",
   "execution_count": 215,
   "id": "bd0ff06b",
   "metadata": {},
   "outputs": [
    {
     "name": "stdout",
     "output_type": "stream",
     "text": [
      "****************************************************************************************************\n",
      "Confusion Matrix:\n",
      " [[5]]\n",
      "----------------------------------------------------------------------------------------------------\n",
      "Accuracy Score:\t 1.0\n",
      "----------------------------------------------------------------------------------------------------\n",
      "Classification Report:\n",
      "               precision    recall  f1-score   support\n",
      "\n",
      "           0       1.00      1.00      1.00         5\n",
      "\n",
      "    accuracy                           1.00         5\n",
      "   macro avg       1.00      1.00      1.00         5\n",
      "weighted avg       1.00      1.00      1.00         5\n",
      "\n",
      "====================================================================================================\n"
     ]
    },
    {
     "name": "stderr",
     "output_type": "stream",
     "text": [
      "C:\\Users\\admin\\anaconda3\\Lib\\site-packages\\sklearn\\ensemble\\_base.py:156: FutureWarning: `base_estimator` was renamed to `estimator` in version 1.2 and will be removed in 1.4.\n",
      "  warnings.warn(\n"
     ]
    }
   ],
   "source": [
    "#Boostingclassifier\n",
    "from sklearn.ensemble import  AdaBoostClassifier\n",
    "ada=AdaBoostClassifier(base_estimator=gauss_nb,n_estimators=5,random_state=20)\n",
    "ada.fit(xtrain,ytrain)#train the model\n",
    "#test the model\n",
    "ypred_ada=ada.predict(xtest)\n",
    "print('*'*100)\n",
    "print('Confusion Matrix:\\n',confusion_matrix(ytest,ypred_ada))\n",
    "print('-'*100)\n",
    "accuracy_ada=accuracy_score(ytest,ypred_ada)\n",
    "print('Accuracy Score:\\t',accuracy_ada)\n",
    "print('-'*100)\n",
    "print('Classification Report:\\n',classification_report(ytest,ypred_ada))\n",
    "print('='*100)"
   ]
  },
  {
   "cell_type": "markdown",
   "id": "d6941b92",
   "metadata": {},
   "source": [
    "# 2 Gradient"
   ]
  },
  {
   "cell_type": "code",
   "execution_count": 221,
   "id": "c296ed5c",
   "metadata": {},
   "outputs": [
    {
     "name": "stdout",
     "output_type": "stream",
     "text": [
      "****************************************************************************************************\n",
      "Confusion Matrix:\n",
      " [[5]]\n",
      "----------------------------------------------------------------------------------------------------\n",
      "Accuracy Score:\t 1.0\n",
      "----------------------------------------------------------------------------------------------------\n",
      "Classification Report:\n",
      "               precision    recall  f1-score   support\n",
      "\n",
      "           0       1.00      1.00      1.00         5\n",
      "\n",
      "    accuracy                           1.00         5\n",
      "   macro avg       1.00      1.00      1.00         5\n",
      "weighted avg       1.00      1.00      1.00         5\n",
      "\n",
      "====================================================================================================\n"
     ]
    }
   ],
   "source": [
    "#Boostingclassifier\n",
    "from sklearn.ensemble import GradientBoostingClassifier\n",
    "grad_boost=GradientBoostingClassifier(n_estimators=5)\n",
    "grad_boost.fit(xtrain,ytrain)#train the model\n",
    "#test the model\n",
    "ypred_grad_boost=grad_boost.predict(xtest)\n",
    "print('*'*100)\n",
    "print('Confusion Matrix:\\n',confusion_matrix(ytest,ypred_grad_boost))\n",
    "print('-'*100)\n",
    "accuracy_grad_boost=accuracy_score(ytest,ypred_grad_boost)\n",
    "print('Accuracy Score:\\t',accuracy_grad_boost)\n",
    "print('-'*100)\n",
    "print('Classification Report:\\n',classification_report(ytest,ypred_grad_boost))\n",
    "print('='*100)"
   ]
  },
  {
   "cell_type": "code",
   "execution_count": null,
   "id": "934a8299",
   "metadata": {},
   "outputs": [],
   "source": [
    "#Acurracy score"
   ]
  },
  {
   "cell_type": "code",
   "execution_count": 223,
   "id": "1fcf5f0e",
   "metadata": {},
   "outputs": [
    {
     "name": "stdout",
     "output_type": "stream",
     "text": [
      "                           Model  Accuracy_score\n",
      "1                 KNN Regression             1.0\n",
      "2       Decision Tree Regression             1.0\n",
      "0              Linear Regression             0.0\n",
      "3                            SVR             0.0\n",
      "4        Adaboost Classification             0.0\n",
      "5  Gradient Boost Classification             0.0\n"
     ]
    }
   ],
   "source": [
    " scores=[('Linear Regression',Accuracy_lin_reg),\n",
    "        ('KNN Regression',Accuracy_knn_reg),\n",
    "        ('Decision Tree Regression',Accuracy_dt_reg),\n",
    "        ('SVR',Accuracy_svr),\n",
    "        ('Adaboost Classification',Accuracy_ada),\n",
    "        ('Gradient Boost Classification',Accuracy_grad_boost),\n",
    "       ]\n",
    " Acc_scores=pd.DataFrame(scores,columns=['Model','Accuracy_score'])\n",
    " print(Acc_scores.sort_values(by='Accuracy_score',ascending=False))"
   ]
  },
  {
   "cell_type": "code",
   "execution_count": 225,
   "id": "a5423447",
   "metadata": {},
   "outputs": [
    {
     "data": {
      "text/plain": [
       "([0, 1, 2, 3, 4, 5],\n",
       " [Text(0, 0, 'Linear Regression'),\n",
       "  Text(1, 0, 'KNN Regression'),\n",
       "  Text(2, 0, 'Decision Tree Regression'),\n",
       "  Text(3, 0, 'SVR'),\n",
       "  Text(4, 0, 'Adaboost Classification'),\n",
       "  Text(5, 0, 'Gradient Boost Classification')])"
      ]
     },
     "execution_count": 225,
     "metadata": {},
     "output_type": "execute_result"
    },
    {
     "data": {
      "image/png": "[encoded data removed]",
      "text/plain": [
       "<Figure size 640x480 with 1 Axes>"
      ]
     },
     "metadata": {},
     "output_type": "display_data"
    }
   ],
   "source": [
    "sns.lineplot(x=Acc_scores['Model'],y=Acc_scores['Accuracy_score'],data=Acc_scores)\n",
    "plt.xticks(rotation=90)"
   ]
  },
  {
   "cell_type": "code",
   "execution_count": null,
   "id": "92eaca79",
   "metadata": {},
   "outputs": [],
   "source": []
  }
 ],
 "metadata": {
  "kernelspec": {
   "display_name": "Python 3 (ipykernel)",
   "language": "python",
   "name": "python3"
  },
  "language_info": {
   "codemirror_mode": {
    "name": "ipython",
    "version": 3
   },
   "file_extension": ".py",
   "mimetype": "text/x-python",
   "name": "python",
   "nbconvert_exporter": "python",
   "pygments_lexer": "ipython3",
   "version": "3.11.4"
  }
 },
 "nbformat": 4,
 "nbformat_minor": 5
}
