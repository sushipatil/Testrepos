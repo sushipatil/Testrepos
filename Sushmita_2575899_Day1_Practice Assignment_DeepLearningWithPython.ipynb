{
  "cells": [
    {
      "cell_type": "code",
      "execution_count": null,
      "id": "b3dbe486",
      "metadata": {
        "id": "b3dbe486"
      },
      "outputs": [],
      "source": []
    },
    {
      "cell_type": "code",
      "execution_count": 1,
      "id": "51308743",
      "metadata": {
        "colab": {
          "base_uri": "https://localhost:8080/"
        },
        "id": "51308743",
        "outputId": "fc74c486-59a3-4808-8807-ed2e73aba849"
      },
      "outputs": [
        {
          "output_type": "stream",
          "name": "stdout",
          "text": [
            "New Weights after Training\n",
            "\n",
            "[[ -0.43323277]\n",
            " [-11.04878773]\n",
            " [ -5.16474862]\n",
            " [ 10.17497628]]\n",
            "\n",
            "Considering new situation [1, 0, 0] -> ?:\n",
            "[0.01003412]\n"
          ]
        }
      ],
      "source": [
        "import numpy as np\n",
        "\n",
        "class NeuralNetwork:\n",
        "    def __init__(self):\n",
        "        np.random.seed(2)\n",
        "        self.input_size = 3  # 3 input nodes (including the bias)\n",
        "        self.hidden_size = 4  # number of nodes in the hidden layer\n",
        "        self.output_size = 1  # 1 output node\n",
        "\n",
        "        # Initialize weights\n",
        "        self.weights_input_hidden = 2 * np.random.random((self.input_size, self.hidden_size)) - 1\n",
        "        self.weights_hidden_output = 2 * np.random.random((self.hidden_size, self.output_size)) - 1\n",
        "\n",
        "    def sigmoid(self, x):\n",
        "        return 1 / (1 + np.exp(-x))\n",
        "\n",
        "    def sigmoid_derivative(self, x):\n",
        "        return x * (1 - x)\n",
        "\n",
        "    def feedforward(self, inputs):\n",
        "        # Calculate the activations in the hidden layer\n",
        "        self.hidden_sum = np.dot(inputs, self.weights_input_hidden)\n",
        "        self.activated_hidden = self.sigmoid(self.hidden_sum)\n",
        "\n",
        "        # Calculate the output using the hidden layer activations\n",
        "        output_sum = np.dot(self.activated_hidden, self.weights_hidden_output)\n",
        "        return self.sigmoid(output_sum)\n",
        "\n",
        "    def train(self, training_set_inputs, training_set_outputs, number_of_training_iterations):\n",
        "        for iteration in range(number_of_training_iterations):\n",
        "            # Forward propagation\n",
        "            hidden_layer_output = self.sigmoid(np.dot(training_set_inputs, self.weights_input_hidden))\n",
        "            output = self.sigmoid(np.dot(hidden_layer_output, self.weights_hidden_output))\n",
        "\n",
        "            # Backpropagation\n",
        "            output_error = training_set_outputs - output\n",
        "            output_delta = output_error * self.sigmoid_derivative(output)\n",
        "\n",
        "            hidden_error = output_delta.dot(self.weights_hidden_output.T)\n",
        "            hidden_delta = hidden_error * self.sigmoid_derivative(hidden_layer_output)\n",
        "\n",
        "            # Update weights\n",
        "            self.weights_hidden_output += hidden_layer_output.T.dot(output_delta)\n",
        "            self.weights_input_hidden += training_set_inputs.T.dot(hidden_delta)\n",
        "\n",
        "# Example usage:\n",
        "\n",
        "neural_network = NeuralNetwork()\n",
        "\n",
        "    # Training data (example: XOR gate)\n",
        "training_inputs = np.array([[0, 0, 1], [0, 1, 1], [1, 0, 1], [1, 1, 1]])\n",
        "training_outputs = np.array([[0, 1, 1, 0]]).T\n",
        "\n",
        "    # Train the neural network\n",
        "neural_network.train(training_inputs, training_outputs, number_of_training_iterations=10000)\n",
        "print('New Weights after Training\\n')\n",
        "print(neural_network.weights_hidden_output)\n",
        "print()\n",
        "\n",
        "    # Test the neural network with a new situation\n",
        "print(\"Considering new situation [1, 0, 0] -> ?:\")\n",
        "print(neural_network.feedforward(np.array([1, 0, 0])))"
      ]
    },
    {
      "cell_type": "code",
      "execution_count": null,
      "id": "53c586f7",
      "metadata": {
        "id": "53c586f7"
      },
      "outputs": [],
      "source": []
    },
    {
      "cell_type": "code",
      "execution_count": null,
      "id": "a1e3700e",
      "metadata": {
        "id": "a1e3700e"
      },
      "outputs": [],
      "source": []
    },
    {
      "cell_type": "code",
      "execution_count": 2,
      "id": "a094b64d",
      "metadata": {
        "id": "a094b64d"
      },
      "outputs": [],
      "source": [
        "from numpy import exp\n",
        "from numpy import array\n",
        "from numpy import random,dot"
      ]
    },
    {
      "cell_type": "code",
      "execution_count": 3,
      "id": "307a310a",
      "metadata": {
        "colab": {
          "base_uri": "https://localhost:8080/"
        },
        "id": "307a310a",
        "outputId": "bf1cd3f8-1986-47d4-9e08-89a9af7c7462"
      },
      "outputs": [
        {
          "output_type": "stream",
          "name": "stdout",
          "text": [
            "Epoch 0: Loss = 0.259627939746805\n",
            "Epoch 1000: Loss = 0.24969511174980363\n",
            "Epoch 2000: Loss = 0.24816158747371303\n",
            "Epoch 3000: Loss = 0.23235307008533646\n",
            "Epoch 4000: Loss = 0.17318162603011783\n",
            "Epoch 5000: Loss = 0.0886034102547329\n",
            "Epoch 6000: Loss = 0.027788957698441592\n",
            "Epoch 7000: Loss = 0.01172737134316031\n",
            "Epoch 8000: Loss = 0.006849070033813804\n",
            "Epoch 9000: Loss = 0.004699268497330416\n",
            "Final Output:\n",
            "[[0.06525135]\n",
            " [0.94392417]\n",
            " [0.94371639]\n",
            " [0.05947493]]\n"
          ]
        }
      ],
      "source": [
        "import numpy as np\n",
        "\n",
        "# Define the sigmoid activation function\n",
        "def sigmoid(x):\n",
        "    return 1 / (1 + np.exp(-x))\n",
        "\n",
        "# Define the derivative of the sigmoid function\n",
        "def sigmoid_derivative(x):\n",
        "    return x * (1 - x)\n",
        "\n",
        "# Define the multilayer perceptron class\n",
        "class MLP:\n",
        "    def __init__(self, input_size, hidden_size, output_size):\n",
        "        # Initialize the weights and biases for the input to hidden layer\n",
        "        self.input_size = input_size\n",
        "        self.hidden_size = hidden_size\n",
        "        self.output_size = output_size\n",
        "\n",
        "        self.weights_input_hidden = np.random.rand(input_size, hidden_size)\n",
        "        self.bias_hidden = np.zeros((1, hidden_size))\n",
        "\n",
        "        # Initialize the weights and biases for the hidden to output layer\n",
        "        self.weights_hidden_output = np.random.rand(hidden_size, output_size)\n",
        "        self.bias_output = np.zeros((1, output_size))\n",
        "\n",
        "    def forward(self, inputs):\n",
        "        # Forward pass through the input to hidden layer\n",
        "        self.hidden_input = np.dot(inputs, self.weights_input_hidden) + self.bias_hidden\n",
        "        self.hidden_output = sigmoid(self.hidden_input)\n",
        "\n",
        "        # Forward pass through the hidden to output layer\n",
        "        self.output_input = np.dot(self.hidden_output, self.weights_hidden_output) + self.bias_output\n",
        "        self.output = sigmoid(self.output_input)\n",
        "\n",
        "    def train(self, inputs, targets, learning_rate):\n",
        "        # Compute the loss and error\n",
        "        error = targets - self.output\n",
        "\n",
        "        # Backpropagation for the hidden to output layer\n",
        "        delta_output = error * sigmoid_derivative(self.output)\n",
        "        d_weights_hidden_output = np.dot(self.hidden_output.T, delta_output)\n",
        "        d_bias_output = np.sum(delta_output, axis=0, keepdims=True)\n",
        "\n",
        "        # Backpropagation for the input to hidden layer\n",
        "        delta_hidden = np.dot(delta_output, self.weights_hidden_output.T) * sigmoid_derivative(self.hidden_output)\n",
        "        d_weights_input_hidden = np.dot(inputs.T, delta_hidden)\n",
        "        d_bias_hidden = np.sum(delta_hidden, axis=0, keepdims=True)\n",
        "\n",
        "        # Update the weights and biases\n",
        "        self.weights_hidden_output += learning_rate * d_weights_hidden_output\n",
        "        self.bias_output += learning_rate * d_bias_output\n",
        "        self.weights_input_hidden += learning_rate * d_weights_input_hidden\n",
        "        self.bias_hidden += learning_rate * d_bias_hidden\n",
        "\n",
        "# Example usage\n",
        "input_size = 2\n",
        "hidden_size = 3\n",
        "output_size = 1\n",
        "\n",
        "mlp = MLP(input_size, hidden_size, output_size)\n",
        "\n",
        "# Training data\n",
        "X = np.array([[0, 0], [0, 1], [1, 0], [1, 1]])\n",
        "y = np.array([[0], [1], [1], [0]])\n",
        "\n",
        "# Training loop\n",
        "epochs = 10000\n",
        "learning_rate = 0.1\n",
        "\n",
        "for epoch in range(epochs):\n",
        "    mlp.forward(X)\n",
        "    mlp.train(X, y, learning_rate)\n",
        "    if epoch % 1000 == 0:\n",
        "        loss = np.mean(np.square(y - mlp.output))\n",
        "        print(f\"Epoch {epoch}: Loss = {loss}\")\n",
        "\n",
        "# Test the trained network\n",
        "mlp.forward(X)\n",
        "print(\"Final Output:\")\n",
        "print(mlp.output)"
      ]
    },
    {
      "cell_type": "code",
      "execution_count": null,
      "id": "25f8b335",
      "metadata": {
        "id": "25f8b335"
      },
      "outputs": [],
      "source": []
    },
    {
      "cell_type": "code",
      "execution_count": null,
      "id": "976f8f16",
      "metadata": {
        "id": "976f8f16"
      },
      "outputs": [],
      "source": []
    },
    {
      "cell_type": "code",
      "execution_count": 4,
      "id": "ccc3abd7",
      "metadata": {
        "id": "ccc3abd7"
      },
      "outputs": [],
      "source": [
        "from numpy import exp\n",
        "from numpy import array\n",
        "from numpy import random,dot"
      ]
    },
    {
      "cell_type": "code",
      "execution_count": 5,
      "id": "b9a88fb0",
      "metadata": {
        "id": "b9a88fb0"
      },
      "outputs": [],
      "source": [
        "class NeuralNetwork():\n",
        "    def __init__(self):\n",
        "\n",
        " #seed the random number generator ,so it generates the same numbers\n",
        " #every time the program runs\n",
        "        random.seed(2)\n",
        " #we model a single neuron with 3 input and 1 output connection\n",
        " #we assign a random weights to a 3*1 matrix with values in the rang\n",
        "        self.synaptic_weights=2*random.random((3,1))-1\n",
        "\n",
        " #Crete a sigmoid activation function\n",
        "    def __sigmoid(self,x):\n",
        "        return 1/1+exp(-x)\n",
        "\n",
        "    def __sigmoid_derivative(self,x):\n",
        "        return x*(1-x)\n",
        "\n",
        "    def think(self,inputs):\n",
        "        return self.__sigmoid(dot(inputs,self.synaptic_weights))\n",
        "\n",
        "    def train(self,training_set_inputs,training_set_outputs,number_of_training_iterations):\n",
        "        for iteration in range(number_of_training_iterations):\n",
        "            output=self.think(training_set_inputs)\n",
        "            error=training_set_outputs-output\n",
        "            adjusment=dot(training_set_inputs.T,error*self.__sigmoid_derivative(output))\n",
        "\n",
        "            #adjust three weights\n",
        "            self.synaptic_weights+=adjusment"
      ]
    },
    {
      "cell_type": "code",
      "execution_count": 6,
      "id": "f47f355b",
      "metadata": {
        "colab": {
          "base_uri": "https://localhost:8080/"
        },
        "id": "f47f355b",
        "outputId": "aec3edd4-0ffc-43c4-88e1-95310da9c6f2"
      },
      "outputs": [
        {
          "output_type": "stream",
          "name": "stdout",
          "text": [
            "Random starting weights:\n",
            "\n",
            "[[-0.1280102 ]\n",
            " [-0.94814754]\n",
            " [ 0.09932496]]\n"
          ]
        }
      ],
      "source": [
        "if __name__=='__main__':\n",
        "\n",
        " # Initialize a single neuron neural networks\n",
        "    neural_network=NeuralNetwork()\n",
        "    print('Random starting weights:\\n')\n",
        "    print(neural_network.synaptic_weights)\n",
        "\n",
        "    training_set_inputs=array([[0,0,1],[1,1,1],[1,0,1],[0,1,1]])\n",
        "    training_set_outputs=array([[0,1,1,0]]).T"
      ]
    },
    {
      "cell_type": "code",
      "execution_count": 7,
      "id": "6d8e175b",
      "metadata": {
        "colab": {
          "base_uri": "https://localhost:8080/"
        },
        "id": "6d8e175b",
        "outputId": "1f0b4dde-7b13-4fd2-85f4-50baf26478de"
      },
      "outputs": [
        {
          "output_type": "stream",
          "name": "stdout",
          "text": [
            "********************* Neural Network Training Phase*****************\n",
            "\n",
            "New weights after training\n",
            "\n",
            "[[27.81236918]\n",
            " [50.86430059]\n",
            " [57.34813037]]\n",
            "\n",
            "Considering the new situation [1,0,0]--> ?:\n",
            "\n",
            "[1.]\n"
          ]
        }
      ],
      "source": [
        "#Train the networks\n",
        "print('********************* Neural Network Training Phase*****************\\n')\n",
        "neural_network.train(training_set_inputs,training_set_outputs,10000)\n",
        "print('New weights after training\\n')\n",
        "print(neural_network.synaptic_weights)\n",
        "print()\n",
        "#Test the networks\n",
        "print('Considering the new situation [1,0,0]--> ?:')\n",
        "print()\n",
        "print(neural_network.think(array([1,0,0])))\n"
      ]
    },
    {
      "cell_type": "code",
      "execution_count": null,
      "id": "89d147cc",
      "metadata": {
        "id": "89d147cc"
      },
      "outputs": [],
      "source": []
    }
  ],
  "metadata": {
    "kernelspec": {
      "display_name": "Python 3 (ipykernel)",
      "language": "python",
      "name": "python3"
    },
    "language_info": {
      "codemirror_mode": {
        "name": "ipython",
        "version": 3
      },
      "file_extension": ".py",
      "mimetype": "text/x-python",
      "name": "python",
      "nbconvert_exporter": "python",
      "pygments_lexer": "ipython3",
      "version": "3.11.4"
    },
    "colab": {
      "provenance": []
    }
  },
  "nbformat": 4,
  "nbformat_minor": 5
}