{
  "cells": [
    {
      "cell_type": "code",
      "execution_count": 1,
      "id": "f3f6ee43",
      "metadata": {
        "id": "f3f6ee43"
      },
      "outputs": [],
      "source": [
        "from keras.datasets import mnist\n",
        "from keras.models import Sequential\n",
        "from keras.layers import Dense\n",
        "\n",
        "from tensorflow.keras.layers import BatchNormalization\n",
        "from tensorflow.keras.optimizers import SGD\n",
        "\n",
        "from matplotlib import pyplot\n",
        "import matplotlib.pyplot as plt"
      ]
    },
    {
      "cell_type": "code",
      "source": [
        "!pip install keras_tuner -q"
      ],
      "metadata": {
        "colab": {
          "base_uri": "https://localhost:8080/"
        },
        "id": "zEwxKBKAdyzd",
        "outputId": "68ce7c81-4e8b-4548-be73-252f351915f2"
      },
      "id": "zEwxKBKAdyzd",
      "execution_count": 2,
      "outputs": [
        {
          "output_type": "stream",
          "name": "stdout",
          "text": [
            "\u001b[?25l     \u001b[90m━━━━━━━━━━━━━━━━━━━━━━━━━━━━━━━━━━━━━━━━\u001b[0m \u001b[32m0.0/128.9 kB\u001b[0m \u001b[31m?\u001b[0m eta \u001b[36m-:--:--\u001b[0m\r\u001b[2K     \u001b[91m━━━━━━━━━━━━━━━━━━━━━━━━━\u001b[0m\u001b[90m╺\u001b[0m\u001b[90m━━━━━━━━━━━━━━\u001b[0m \u001b[32m81.9/128.9 kB\u001b[0m \u001b[31m2.1 MB/s\u001b[0m eta \u001b[36m0:00:01\u001b[0m\r\u001b[2K     \u001b[90m━━━━━━━━━━━━━━━━━━━━━━━━━━━━━━━━━━━━━━━━\u001b[0m \u001b[32m128.9/128.9 kB\u001b[0m \u001b[31m2.2 MB/s\u001b[0m eta \u001b[36m0:00:00\u001b[0m\n",
            "\u001b[?25h"
          ]
        }
      ]
    },
    {
      "cell_type": "code",
      "execution_count": 3,
      "id": "cae9ecea",
      "metadata": {
        "id": "cae9ecea"
      },
      "outputs": [],
      "source": [
        "batch_size=128\n",
        "num_classes=10\n",
        "epochs=20"
      ]
    },
    {
      "cell_type": "code",
      "execution_count": 4,
      "id": "bd0abc31",
      "metadata": {
        "colab": {
          "base_uri": "https://localhost:8080/"
        },
        "id": "bd0abc31",
        "outputId": "42160627-984a-4690-a883-deb2f0396d04"
      },
      "outputs": [
        {
          "output_type": "stream",
          "name": "stdout",
          "text": [
            "Downloading data from https://storage.googleapis.com/tensorflow/tf-keras-datasets/mnist.npz\n",
            "11490434/11490434 [==============================] - 0s 0us/step\n",
            "Shape-x:\t (60000, 28, 28)\n",
            "Shape-y:\t (60000,)\n"
          ]
        }
      ],
      "source": [
        "(xtrain,ytrain),(xtest,ytest)=mnist.load_data()\n",
        "print('Shape-x:\\t',xtrain.shape)\n",
        "print('Shape-y:\\t',ytrain.shape)"
      ]
    },
    {
      "cell_type": "code",
      "execution_count": 6,
      "id": "f4658a33",
      "metadata": {
        "colab": {
          "base_uri": "https://localhost:8080/"
        },
        "id": "f4658a33",
        "outputId": "9c75fb17-d9ed-472e-b156-4a38ed9db0e4"
      },
      "outputs": [
        {
          "output_type": "stream",
          "name": "stdout",
          "text": [
            "Shape-x-train:\t (60000, 784)\n",
            "Shape-x-Test:\t (10000, 784)\n"
          ]
        }
      ],
      "source": [
        "xtrain=xtrain.reshape(60000,784)\n",
        "xtest=xtest.reshape(10000,784)\n",
        "print('Shape-x-train:\\t',xtrain.shape)\n",
        "print('Shape-x-Test:\\t',xtest.shape)"
      ]
    },
    {
      "cell_type": "code",
      "execution_count": null,
      "id": "61283193",
      "metadata": {
        "id": "61283193"
      },
      "outputs": [],
      "source": []
    },
    {
      "cell_type": "code",
      "execution_count": 7,
      "id": "57c5c89d",
      "metadata": {
        "id": "57c5c89d"
      },
      "outputs": [],
      "source": [
        "xtrain=xtrain.astype('float32')\n",
        "xtest=xtest.astype('float32')"
      ]
    },
    {
      "cell_type": "code",
      "execution_count": 8,
      "id": "8003b1cc",
      "metadata": {
        "id": "8003b1cc"
      },
      "outputs": [],
      "source": [
        "xtrain=xtrain/255.\n",
        "xtest=xtest/255."
      ]
    },
    {
      "cell_type": "code",
      "execution_count": 9,
      "id": "5c24885a",
      "metadata": {
        "id": "5c24885a"
      },
      "outputs": [],
      "source": [
        "import keras\n",
        "ytrain=keras.utils.to_categorical(ytrain,num_classes)\n",
        "ytest=keras.utils.to_categorical(ytest,num_classes)"
      ]
    },
    {
      "cell_type": "code",
      "execution_count": 10,
      "id": "a2de3a9e",
      "metadata": {
        "id": "a2de3a9e"
      },
      "outputs": [],
      "source": [
        "model=Sequential()\n",
        "model.add(Dense(512,activation='relu',input_shape=(784,)))\n",
        "model.add(Dense(512,activation='relu'))\n",
        "model.add(BatchNormalization())\n",
        "model.add(Dense(num_classes,activation='softmax'))\n",
        "\n",
        "optm=SGD(learning_rate=0.01,momentum=0.9)\n",
        "\n",
        "model.compile(loss='binary_crossentropy',optimizer=optm,metrics=['accuracy'])"
      ]
    },
    {
      "cell_type": "code",
      "execution_count": null,
      "id": "83f9a99d",
      "metadata": {
        "id": "83f9a99d"
      },
      "outputs": [],
      "source": []
    },
    {
      "cell_type": "code",
      "execution_count": 11,
      "id": "d392966f",
      "metadata": {
        "colab": {
          "base_uri": "https://localhost:8080/"
        },
        "id": "d392966f",
        "outputId": "d9252f3a-0421-4c9e-cadd-34fc16615e77"
      },
      "outputs": [
        {
          "output_type": "stream",
          "name": "stdout",
          "text": [
            "Model: \"sequential\"\n",
            "_________________________________________________________________\n",
            " Layer (type)                Output Shape              Param #   \n",
            "=================================================================\n",
            " dense (Dense)               (None, 512)               401920    \n",
            "                                                                 \n",
            " dense_1 (Dense)             (None, 512)               262656    \n",
            "                                                                 \n",
            " batch_normalization (Batch  (None, 512)               2048      \n",
            " Normalization)                                                  \n",
            "                                                                 \n",
            " dense_2 (Dense)             (None, 10)                5130      \n",
            "                                                                 \n",
            "=================================================================\n",
            "Total params: 671754 (2.56 MB)\n",
            "Trainable params: 670730 (2.56 MB)\n",
            "Non-trainable params: 1024 (4.00 KB)\n",
            "_________________________________________________________________\n"
          ]
        }
      ],
      "source": [
        "model.summary()"
      ]
    },
    {
      "cell_type": "code",
      "execution_count": 12,
      "id": "85ea4d98",
      "metadata": {
        "colab": {
          "base_uri": "https://localhost:8080/"
        },
        "id": "85ea4d98",
        "outputId": "99028d56-60fd-40ae-ce59-d4e767f258bf"
      },
      "outputs": [
        {
          "output_type": "stream",
          "name": "stdout",
          "text": [
            "Epoch 1/20\n",
            "1875/1875 [==============================] - 23s 12ms/step - loss: 0.0845 - accuracy: 0.9218 - val_loss: 0.0301 - val_accuracy: 0.9603\n",
            "Epoch 2/20\n",
            "1875/1875 [==============================] - 24s 13ms/step - loss: 0.0277 - accuracy: 0.9640 - val_loss: 0.0217 - val_accuracy: 0.9686\n",
            "Epoch 3/20\n",
            "1875/1875 [==============================] - 21s 11ms/step - loss: 0.0198 - accuracy: 0.9757 - val_loss: 0.0179 - val_accuracy: 0.9748\n",
            "Epoch 4/20\n",
            "1875/1875 [==============================] - 22s 12ms/step - loss: 0.0154 - accuracy: 0.9818 - val_loss: 0.0154 - val_accuracy: 0.9789\n",
            "Epoch 5/20\n",
            "1875/1875 [==============================] - 21s 11ms/step - loss: 0.0124 - accuracy: 0.9860 - val_loss: 0.0148 - val_accuracy: 0.9802\n",
            "Epoch 6/20\n",
            "1875/1875 [==============================] - 23s 12ms/step - loss: 0.0100 - accuracy: 0.9894 - val_loss: 0.0139 - val_accuracy: 0.9792\n",
            "Epoch 7/20\n",
            "1875/1875 [==============================] - 21s 11ms/step - loss: 0.0083 - accuracy: 0.9919 - val_loss: 0.0134 - val_accuracy: 0.9810\n",
            "Epoch 8/20\n",
            "1875/1875 [==============================] - 21s 11ms/step - loss: 0.0069 - accuracy: 0.9941 - val_loss: 0.0122 - val_accuracy: 0.9830\n",
            "Epoch 9/20\n",
            "1875/1875 [==============================] - 21s 11ms/step - loss: 0.0058 - accuracy: 0.9957 - val_loss: 0.0121 - val_accuracy: 0.9831\n",
            "Epoch 10/20\n",
            "1875/1875 [==============================] - 21s 11ms/step - loss: 0.0050 - accuracy: 0.9966 - val_loss: 0.0118 - val_accuracy: 0.9835\n",
            "Epoch 11/20\n",
            "1875/1875 [==============================] - 22s 12ms/step - loss: 0.0041 - accuracy: 0.9977 - val_loss: 0.0121 - val_accuracy: 0.9827\n",
            "Epoch 12/20\n",
            "1875/1875 [==============================] - 21s 11ms/step - loss: 0.0036 - accuracy: 0.9981 - val_loss: 0.0121 - val_accuracy: 0.9835\n",
            "Epoch 13/20\n",
            "1875/1875 [==============================] - 23s 12ms/step - loss: 0.0032 - accuracy: 0.9986 - val_loss: 0.0113 - val_accuracy: 0.9836\n",
            "Epoch 14/20\n",
            "1875/1875 [==============================] - 21s 11ms/step - loss: 0.0027 - accuracy: 0.9991 - val_loss: 0.0117 - val_accuracy: 0.9829\n",
            "Epoch 15/20\n",
            "1875/1875 [==============================] - 22s 12ms/step - loss: 0.0024 - accuracy: 0.9992 - val_loss: 0.0113 - val_accuracy: 0.9839\n",
            "Epoch 16/20\n",
            "1875/1875 [==============================] - 21s 11ms/step - loss: 0.0022 - accuracy: 0.9993 - val_loss: 0.0114 - val_accuracy: 0.9837\n",
            "Epoch 17/20\n",
            "1875/1875 [==============================] - 20s 11ms/step - loss: 0.0020 - accuracy: 0.9996 - val_loss: 0.0117 - val_accuracy: 0.9840\n",
            "Epoch 18/20\n",
            "1875/1875 [==============================] - 22s 12ms/step - loss: 0.0018 - accuracy: 0.9996 - val_loss: 0.0118 - val_accuracy: 0.9847\n",
            "Epoch 19/20\n",
            "1875/1875 [==============================] - 22s 12ms/step - loss: 0.0016 - accuracy: 0.9998 - val_loss: 0.0119 - val_accuracy: 0.9839\n",
            "Epoch 20/20\n",
            "1875/1875 [==============================] - 22s 12ms/step - loss: 0.0014 - accuracy: 0.9999 - val_loss: 0.0117 - val_accuracy: 0.9839\n"
          ]
        }
      ],
      "source": [
        "history=model.fit(xtrain,ytrain,validation_data=(xtest,ytest),epochs=20,verbose=1)"
      ]
    },
    {
      "cell_type": "code",
      "execution_count": 13,
      "id": "b7553fef",
      "metadata": {
        "colab": {
          "base_uri": "https://localhost:8080/"
        },
        "id": "b7553fef",
        "outputId": "e7ae26dd-b276-436c-f2d1-388899c24ece"
      },
      "outputs": [
        {
          "output_type": "stream",
          "name": "stdout",
          "text": [
            "1875/1875 [==============================] - 8s 4ms/step - loss: 6.0910e-04 - accuracy: 1.0000\n",
            "313/313 [==============================] - 2s 6ms/step - loss: 0.0117 - accuracy: 0.9839\n",
            "Train Accuracy:\t 0.9999833106994629\n",
            "\n",
            "Test Accuracy:\t 0.9839000105857849\n"
          ]
        }
      ],
      "source": [
        "_,train_acc=model.evaluate(xtrain,ytrain,verbose=1)\n",
        "_,test_acc=model.evaluate(xtest,ytest,verbose=1)\n",
        "print('Train Accuracy:\\t',train_acc)\n",
        "print()\n",
        "print('Test Accuracy:\\t',test_acc)"
      ]
    },
    {
      "cell_type": "code",
      "execution_count": 14,
      "id": "194b9a9c",
      "metadata": {
        "scrolled": false,
        "colab": {
          "base_uri": "https://localhost:8080/",
          "height": 430
        },
        "id": "194b9a9c",
        "outputId": "319e9b54-bb14-4237-d8ec-baa61cbfb795"
      },
      "outputs": [
        {
          "output_type": "display_data",
          "data": {
            "text/plain": [
              "<Figure size 640x480 with 1 Axes>"
            ],
            "image/png": "[encoded data removed]"
          },
          "metadata": {}
        }
      ],
      "source": [
        "pyplot.plot(history.history['accuracy'],label='train')\n",
        "pyplot.plot(history.history['val_accuracy'],label='test')\n",
        "pyplot.legend()\n",
        "pyplot.show()"
      ]
    },
    {
      "cell_type": "code",
      "execution_count": 15,
      "id": "b41b6b29",
      "metadata": {
        "colab": {
          "base_uri": "https://localhost:8080/"
        },
        "id": "b41b6b29",
        "outputId": "f54615df-77c6-4e56-e7d4-995885b2fc9a"
      },
      "outputs": [
        {
          "output_type": "stream",
          "name": "stderr",
          "text": [
            "<ipython-input-15-8b140884954f>:2: DeprecationWarning: `import kerastuner` is deprecated, please use `import keras_tuner`.\n",
            "  from kerastuner.tuners import Hyperband\n"
          ]
        }
      ],
      "source": [
        "import keras_tuner\n",
        "from kerastuner.tuners import Hyperband"
      ]
    },
    {
      "cell_type": "code",
      "execution_count": 16,
      "id": "755887b5",
      "metadata": {
        "id": "755887b5"
      },
      "outputs": [],
      "source": [
        "import tensorflow as tf\n",
        "from tensorflow import keras\n",
        "from tensorflow.keras import layers\n",
        "from kerastuner.engine.hyperparameters import HyperParameter"
      ]
    },
    {
      "cell_type": "code",
      "execution_count": 17,
      "id": "d5ed13ed",
      "metadata": {
        "scrolled": false,
        "colab": {
          "base_uri": "https://localhost:8080/"
        },
        "id": "d5ed13ed",
        "outputId": "c97b245d-7a4c-4c42-a96e-befe4262ce2f"
      },
      "outputs": [
        {
          "output_type": "stream",
          "name": "stdout",
          "text": [
            "Trial 30 Complete [00h 01m 32s]\n",
            "val_accuracy: 0.9463000297546387\n",
            "\n",
            "Best val_accuracy So Far: 0.9805999994277954\n",
            "Total elapsed time: 00h 20m 20s\n",
            "Epoch 1/10\n",
            "1875/1875 [==============================] - 10s 5ms/step - loss: 0.2981 - accuracy: 0.9134 - val_loss: 0.1452 - val_accuracy: 0.9562\n",
            "Epoch 2/10\n",
            "1875/1875 [==============================] - 9s 5ms/step - loss: 0.1441 - accuracy: 0.9571 - val_loss: 0.1029 - val_accuracy: 0.9674\n",
            "Epoch 3/10\n",
            "1875/1875 [==============================] - 8s 4ms/step - loss: 0.1088 - accuracy: 0.9668 - val_loss: 0.0901 - val_accuracy: 0.9726\n",
            "Epoch 4/10\n",
            "1875/1875 [==============================] - 10s 5ms/step - loss: 0.0893 - accuracy: 0.9724 - val_loss: 0.0727 - val_accuracy: 0.9767\n",
            "Epoch 5/10\n",
            "1875/1875 [==============================] - 9s 5ms/step - loss: 0.0765 - accuracy: 0.9755 - val_loss: 0.0739 - val_accuracy: 0.9771\n",
            "Epoch 6/10\n",
            "1875/1875 [==============================] - 9s 5ms/step - loss: 0.0644 - accuracy: 0.9798 - val_loss: 0.0716 - val_accuracy: 0.9782\n",
            "Epoch 7/10\n",
            "1875/1875 [==============================] - 10s 5ms/step - loss: 0.0584 - accuracy: 0.9811 - val_loss: 0.0662 - val_accuracy: 0.9799\n",
            "Epoch 8/10\n",
            "1875/1875 [==============================] - 8s 4ms/step - loss: 0.0532 - accuracy: 0.9827 - val_loss: 0.0730 - val_accuracy: 0.9783\n",
            "Epoch 9/10\n",
            "1875/1875 [==============================] - 10s 5ms/step - loss: 0.0477 - accuracy: 0.9849 - val_loss: 0.0677 - val_accuracy: 0.9808\n",
            "Epoch 10/10\n",
            "1875/1875 [==============================] - 8s 4ms/step - loss: 0.0449 - accuracy: 0.9850 - val_loss: 0.0691 - val_accuracy: 0.9798\n"
          ]
        },
        {
          "output_type": "execute_result",
          "data": {
            "text/plain": [
              "<keras.src.callbacks.History at 0x7cb09a589a20>"
            ]
          },
          "metadata": {},
          "execution_count": 17
        }
      ],
      "source": [
        "# Load and preprocess the MNIST dataset\n",
        "(x_train, y_train), (x_test, y_test) = keras.datasets.mnist.load_data()\n",
        "x_train, x_test = x_train / 255.0, x_test / 255.0\n",
        "\n",
        "# Define the model-building function\n",
        "def build_model(hp):\n",
        "    model = keras.Sequential()\n",
        "    model.add(layers.Flatten(input_shape=(28, 28)))\n",
        "\n",
        "    # Tune the number of hidden layers and units\n",
        "    for i in range(hp.Int('num_layers', 1, 3)):\n",
        "        model.add(layers.Dense(units=hp.Int(f'units_{i}', 32, 128, step=32), activation='relu'))\n",
        "        model.add(layers.Dropout(0.2))\n",
        "\n",
        "    model.add(layers.Dense(10, activation='softmax'))\n",
        "\n",
        "    # Compile the model with a tunable learning rate\n",
        "    model.compile(\n",
        "        optimizer=keras.optimizers.Adam(learning_rate=hp.Choice('learning_rate', values=[1e-2, 1e-3, 1e-4])),\n",
        "        loss='sparse_categorical_crossentropy',\n",
        "        metrics=['accuracy']\n",
        "    )\n",
        "\n",
        "    return model\n",
        "\n",
        "# Instantiate the tuner and perform hyperparameter tuning\n",
        "tuner = Hyperband(\n",
        "    build_model,\n",
        "    objective='val_accuracy',\n",
        "    max_epochs=10,\n",
        "    factor=3,\n",
        "    directory='keras_tuner_dir',\n",
        "    project_name='mnist_hyperband'\n",
        ")\n",
        "\n",
        "tuner.search(x_train, y_train, epochs=10, validation_data=(x_test,y_test))\n",
        "\n",
        "# Get the best hyperparameters\n",
        "best_hps = tuner.get_best_hyperparameters(num_trials=1)[0]\n",
        "\n",
        "# Build the model with the best hyperparameters\n",
        "best_model = tuner.hypermodel.build(best_hps)\n",
        "\n",
        "# Train the model with the best hyperparameters\n",
        "best_model.fit(x_train, y_train, epochs=10, validation_data=(x_test,y_test))"
      ]
    },
    {
      "cell_type": "code",
      "execution_count": null,
      "id": "575d7225",
      "metadata": {
        "id": "575d7225"
      },
      "outputs": [],
      "source": []
    }
  ],
  "metadata": {
    "kernelspec": {
      "display_name": "Python 3 (ipykernel)",
      "language": "python",
      "name": "python3"
    },
    "language_info": {
      "codemirror_mode": {
        "name": "ipython",
        "version": 3
      },
      "file_extension": ".py",
      "mimetype": "text/x-python",
      "name": "python",
      "nbconvert_exporter": "python",
      "pygments_lexer": "ipython3",
      "version": "3.11.4"
    },
    "colab": {
      "provenance": []
    }
  },
  "nbformat": 4,
  "nbformat_minor": 5
}