{
 "cells": [
  {
   "cell_type": "markdown",
   "id": "713462ca",
   "metadata": {},
   "source": [
    "# FUNCTIONS"
   ]
  },
  {
   "cell_type": "code",
   "execution_count": 2,
   "id": "a47622e2",
   "metadata": {},
   "outputs": [
    {
     "name": "stdout",
     "output_type": "stream",
     "text": [
      "Even numbers: [2, 4, 6, 8]\n",
      "Odd numbers: [1, 3, 5, 7, 9]\n"
     ]
    }
   ],
   "source": [
    "#1.Write a python function to list even and odd numbers in a list\n",
    "def even_and_odd_numbers(lst):\n",
    "    even_numbers = []\n",
    "    odd_numbers = []\n",
    "\n",
    "    for num in lst:\n",
    "        if num % 2 == 0:\n",
    "            even_numbers.append(num)\n",
    "        else:\n",
    "            odd_numbers.append(num)\n",
    "\n",
    "    return even_numbers, odd_numbers\n",
    "\n",
    "# Example usage:\n",
    "numbers = [1, 2, 3, 4, 5, 6, 7, 8, 9]\n",
    "even, odd = even_and_odd_numbers(numbers)\n",
    "print(\"Even numbers:\", even)\n",
    "print(\"Odd numbers:\", odd)"
   ]
  },
  {
   "cell_type": "code",
   "execution_count": 4,
   "id": "e69ae693",
   "metadata": {},
   "outputs": [
    {
     "name": "stdout",
     "output_type": "stream",
     "text": [
      "Enter an integer: 4\n",
      "Enter an integer: 6\n",
      "Enter an integer: 7\n",
      "Enter an integer: 8\n",
      "Enter an integer: 9\n",
      "Enter an integer: 56\n",
      "Enter an integer: 67\n",
      "Enter an integer: 78\n",
      "Number of even numbers: 5\n"
     ]
    }
   ],
   "source": [
    "#2 Write and run a python program that asks the user to enter 8 integers(one at a time)and then prints out how many of those inetegers\n",
    "#were even numbers ,for example,if the user entered 19,6,9,20,13,7,6,and1 then your program should print out 3 since 3 of those numbers\n",
    "#were even\n",
    "# Initialize a counter for even numbers\n",
    "even_count = 0\n",
    "\n",
    "# Ask the user to enter 8 integers\n",
    "for i in range(8):\n",
    "    user_input = int(input(\"Enter an integer: \"))\n",
    "    if user_input % 2 == 0:\n",
    "        even_count += 1\n",
    "\n",
    "# Print the count of even numbers\n",
    "print(\"Number of even numbers:\", even_count)\n"
   ]
  },
  {
   "cell_type": "code",
   "execution_count": 26,
   "id": "c73cfef3",
   "metadata": {},
   "outputs": [
    {
     "name": "stdout",
     "output_type": "stream",
     "text": [
      "Enter a positive integer: 12\n",
      "12\n",
      "6\n",
      "3\n",
      "10\n",
      "5\n",
      "16\n",
      "8\n",
      "4\n",
      "2\n",
      "1\n"
     ]
    }
   ],
   "source": [
    "#3. Write a Python program where you  take any poistive integer n, if n is even,divide it by 2 to getn/2.if n is odd,multiply it by\n",
    "#3 and add 1 to obatain 3n+1.Repeat the process until you reach 1.\n",
    "\n",
    "def collatz_sequence(n):\n",
    "    while n != 1:\n",
    "        print(n)\n",
    "        if n % 2 == 0:\n",
    "            n = n // 2\n",
    "        else:\n",
    "            n = 3 * n + 1\n",
    "    print(1)\n",
    "\n",
    "# Input a positive integer\n",
    "n = int(input(\"Enter a positive integer: \"))\n",
    "if n <= 0:\n",
    "    print(\"Please enter a positive integer.\")\n",
    "else:\n",
    "    collatz_sequence(n)\n",
    "\n"
   ]
  },
  {
   "cell_type": "code",
   "execution_count": 6,
   "id": "44769d4f",
   "metadata": {},
   "outputs": [
    {
     "name": "stdout",
     "output_type": "stream",
     "text": [
      "Sum of multiples of 3 or 5 below 500: 57918\n"
     ]
    }
   ],
   "source": [
    "#4 Write a python program to compute the sum of all the multiples of 3 0r 5 below 500\n",
    "def sum_multiples_3_or_5(limit):\n",
    "    total_sum = 0\n",
    "    for num in range(limit):\n",
    "        if num % 3 == 0 or num % 5 == 0:\n",
    "            total_sum += num\n",
    "    return total_sum\n",
    "\n",
    "# Call the function with the limit set to 500\n",
    "result = sum_multiples_3_or_5(500)\n",
    "print(\"Sum of multiples of 3 or 5 below 500:\", result)\n"
   ]
  },
  {
   "cell_type": "code",
   "execution_count": 7,
   "id": "5f151371",
   "metadata": {},
   "outputs": [
    {
     "name": "stdout",
     "output_type": "stream",
     "text": [
      "The first 5 prime numbers from the list are: [2, 3, 5, 7, 11]\n"
     ]
    }
   ],
   "source": [
    "#5 To write a python program to find first 'n' prime numbers from a list of given numbers.\n",
    "\n",
    "def is_prime(num):\n",
    "    if num <= 1:\n",
    "        return False\n",
    "    if num == 2:\n",
    "        return True\n",
    "    if num % 2 == 0:\n",
    "        return False\n",
    "    for i in range(3, int(num**0.5) + 1, 2):\n",
    "        if num % i == 0:\n",
    "            return False\n",
    "    return True\n",
    "\n",
    "def first_n_primes_from_list(numbers, n):\n",
    "    prime_numbers = []\n",
    "    for num in numbers:\n",
    "        if is_prime(num):\n",
    "            prime_numbers.append(num)\n",
    "            if len(prime_numbers) == n:\n",
    "                break\n",
    "    return prime_numbers\n",
    "\n",
    "# Example usage:\n",
    "given_numbers = [2, 3, 4, 5, 6, 7, 8, 9, 10, 11]\n",
    "n = 5\n",
    "prime_list = first_n_primes_from_list(given_numbers, n)\n",
    "print(f\"The first {n} prime numbers from the list are:\", prime_list)"
   ]
  },
  {
   "cell_type": "code",
   "execution_count": 8,
   "id": "2ecf88ea",
   "metadata": {},
   "outputs": [
    {
     "name": "stdout",
     "output_type": "stream",
     "text": [
      "[11, 16]\n",
      "[19, 28]\n"
     ]
    }
   ],
   "source": [
    "#6 Write a python program to compute matrix multiplication\n",
    "\n",
    "def matrix_multiply(matrix1, matrix2):\n",
    "    if len(matrix1[0]) != len(matrix2):\n",
    "        raise ValueError(\"Matrix dimensions are not suitable for multiplication.\")\n",
    "    \n",
    "    result = [[0 for _ in range(len(matrix2[0]))] for _ in range(len(matrix1))]\n",
    "    \n",
    "    for i in range(len(matrix1)):\n",
    "        for j in range(len(matrix2[0])):\n",
    "            for k in range(len(matrix2)):\n",
    "                result[i][j] += matrix1[i][k] * matrix2[k][j]\n",
    "    \n",
    "    return result\n",
    "\n",
    "# Example matrices\n",
    "matrix_A = [\n",
    "    [2, 3],\n",
    "    [4, 5]\n",
    "]\n",
    "\n",
    "matrix_B = [\n",
    "    [1, 2],\n",
    "    [3, 4]\n",
    "]\n",
    "\n",
    "# Call the matrix_multiply function\n",
    "result_matrix = matrix_multiply(matrix_A, matrix_B)\n",
    "\n",
    "# Print the result\n",
    "for row in result_matrix:\n",
    "    print(row)"
   ]
  },
  {
   "cell_type": "code",
   "execution_count": 9,
   "id": "14dea8a5",
   "metadata": {},
   "outputs": [
    {
     "name": "stdout",
     "output_type": "stream",
     "text": [
      "Number of vowels in the text: 9\n"
     ]
    }
   ],
   "source": [
    "#7 Write a python function to count the number of vowels in a string\n",
    "def count_vowels(input_string):\n",
    "    # Define a string containing all vowels in lowercase and uppercase\n",
    "    vowels = \"aeiouAEIOU\"\n",
    "\n",
    "    # Initialize a counter for vowels\n",
    "    vowel_count = 0\n",
    "\n",
    "    # Iterate through the characters in the input string\n",
    "    for char in input_string:\n",
    "        if char in vowels:\n",
    "            vowel_count += 1\n",
    "\n",
    "    return vowel_count\n",
    "\n",
    "# Example usage:\n",
    "text = \"Hello, World! This is a sample text.\"\n",
    "vowel_count = count_vowels(text)\n",
    "print(\"Number of vowels in the text:\", vowel_count)"
   ]
  },
  {
   "cell_type": "code",
   "execution_count": 11,
   "id": "fd64c580",
   "metadata": {},
   "outputs": [
    {
     "name": "stdout",
     "output_type": "stream",
     "text": [
      "The factorial of 6 is 720\n"
     ]
    }
   ],
   "source": [
    "#8 Write a python function for finding factorial for the given number using a recursive function\n",
    "def factorial_recursive(n):\n",
    "    if n == 0:\n",
    "        return 1\n",
    "    else:\n",
    "        return n * factorial_recursive(n - 1)\n",
    "\n",
    "# Example usage:\n",
    "number = 6\n",
    "result = factorial_recursive(number)\n",
    "print(f\"The factorial of {number} is {result}\")"
   ]
  },
  {
   "cell_type": "code",
   "execution_count": 12,
   "id": "eab67adb",
   "metadata": {},
   "outputs": [
    {
     "name": "stdout",
     "output_type": "stream",
     "text": [
      "Fibonacci Series: [0, 1, 1, 2, 3, 5, 8, 13, 21, 34]\n"
     ]
    }
   ],
   "source": [
    "#9 Write a python function for generating the fibonacci series using function\n",
    "def fibonacci_recursive(n):\n",
    "    if n <= 0:\n",
    "        return []\n",
    "    elif n == 1:\n",
    "        return [0]\n",
    "    elif n == 2:\n",
    "        return [0, 1]\n",
    "    else:\n",
    "        # Recursively generate the Fibonacci series\n",
    "        fib_series = fibonacci_recursive(n - 1)\n",
    "        fib_series.append(fib_series[-1] + fib_series[-2])\n",
    "        return fib_series\n",
    "\n",
    "# Example usage:\n",
    "term_count = 10\n",
    "fibonacci_series = fibonacci_recursive(term_count)\n",
    "print(\"Fibonacci Series:\", fibonacci_series)\n",
    "\n"
   ]
  },
  {
   "cell_type": "code",
   "execution_count": 14,
   "id": "de513753",
   "metadata": {},
   "outputs": [
    {
     "name": "stdout",
     "output_type": "stream",
     "text": [
      "Enter an integer: 34\n",
      "Reversed integer: 43\n"
     ]
    }
   ],
   "source": [
    "#10 Python program to display the given integer in reverse order using the function without an in-built function\n",
    "def reverse_integer(num):\n",
    "    # Convert the integer to a string\n",
    "    num_str = str(num)\n",
    "    \n",
    "    # Reverse the string\n",
    "    reversed_str = num_str[::-1]\n",
    "    \n",
    "    # Convert the reversed string back to an integer\n",
    "    reversed_num = int(reversed_str)\n",
    "    \n",
    "    return reversed_num\n",
    "\n",
    "# Input integer\n",
    "input_num = int(input(\"Enter an integer: \"))\n",
    "\n",
    "# Call the function to reverse and display the integer\n",
    "reversed_num = reverse_integer(input_num)\n",
    "print(\"Reversed integer:\", reversed_num)\n"
   ]
  },
  {
   "cell_type": "code",
   "execution_count": 15,
   "id": "fd7ffc49",
   "metadata": {},
   "outputs": [
    {
     "name": "stdout",
     "output_type": "stream",
     "text": [
      "200\n",
      "202\n",
      "204\n",
      "206\n",
      "208\n",
      "211\n",
      "213\n",
      "215\n",
      "217\n",
      "219\n",
      "220\n",
      "222\n",
      "224\n",
      "226\n",
      "228\n",
      "231\n",
      "233\n",
      "235\n",
      "237\n",
      "239\n",
      "240\n",
      "242\n",
      "244\n",
      "246\n",
      "248\n",
      "251\n",
      "253\n",
      "255\n",
      "257\n",
      "259\n",
      "260\n",
      "262\n",
      "264\n",
      "266\n",
      "268\n",
      "271\n",
      "273\n",
      "275\n",
      "277\n",
      "279\n",
      "280\n",
      "282\n",
      "284\n",
      "286\n",
      "288\n",
      "291\n",
      "293\n",
      "295\n",
      "297\n",
      "299\n"
     ]
    }
   ],
   "source": [
    "#11 Write a python function to display all integers within the range 200-300 whose sum of digits is an even number\n",
    "def sum_of_digits_even(num):\n",
    "    # Initialize a variable to store the sum of digits\n",
    "    digit_sum = 0\n",
    "    \n",
    "    # Calculate the sum of digits in the number\n",
    "    while num > 0:\n",
    "        digit = num % 10\n",
    "        digit_sum += digit\n",
    "        num //= 10\n",
    "    \n",
    "    # Check if the sum of digits is even\n",
    "    return digit_sum % 2 == 0\n",
    "\n",
    "def integers_with_even_digit_sum(start, end):\n",
    "    # Iterate through the range and display integers with even digit sum\n",
    "    for num in range(start, end + 1):\n",
    "        if sum_of_digits_even(num):\n",
    "            print(num)\n",
    "\n",
    "# Call the function to display integers in the range 200 to 300\n",
    "integers_with_even_digit_sum(200, 300)"
   ]
  },
  {
   "cell_type": "code",
   "execution_count": 16,
   "id": "228bdfd0",
   "metadata": {},
   "outputs": [
    {
     "name": "stdout",
     "output_type": "stream",
     "text": [
      "Enter an integer: 12\n",
      "Number of digits: 2\n",
      "Sum of digits: 3\n"
     ]
    }
   ],
   "source": [
    "#12 Write a python function to find the number of digits and sum of digits for a given integer\n",
    "def count_and_sum_digits(num):\n",
    "    # Initialize variables to store the count and sum of digits\n",
    "    digit_count = 0\n",
    "    digit_sum = 0\n",
    "    \n",
    "    # Convert the number to its absolute value to handle negative integers\n",
    "    num = abs(num)\n",
    "    \n",
    "    # Calculate the count and sum of digits\n",
    "    while num > 0:\n",
    "        digit = num % 10\n",
    "        digit_count += 1\n",
    "        digit_sum += digit\n",
    "        num //= 10\n",
    "    \n",
    "    return digit_count, digit_sum\n",
    "\n",
    "# Input integer\n",
    "input_num = int(input(\"Enter an integer: \"))\n",
    "\n",
    "# Call the function to find the count and sum of digits\n",
    "count, total_sum = count_and_sum_digits(input_num)\n",
    "\n",
    "print(\"Number of digits:\", count)\n",
    "print(\"Sum of digits:\", total_sum)\n"
   ]
  },
  {
   "cell_type": "code",
   "execution_count": 21,
   "id": "b0f29250",
   "metadata": {},
   "outputs": [
    {
     "name": "stdout",
     "output_type": "stream",
     "text": [
      "Is sorted: True\n",
      "Has duplicate: True\n"
     ]
    }
   ],
   "source": [
    "#13 write functions called is_sorted that takes a list as a parameter and returns True if the list is sorted in ascending \n",
    "# order and False otherwise and has_ duplicates that takes a list and returns True if there is any element that appears more than \n",
    "# once.It should not modify the original list.\n",
    "def is_sorted(arr):\n",
    "    # Create a copy of the original list to avoid modifying it\n",
    "    sorted_arr = arr.copy()\n",
    "    \n",
    "    # Sort the copy of the list in ascending order\n",
    "    sorted_arr.sort()\n",
    "    \n",
    "    # Compare the sorted copy with the original list\n",
    "    return sorted_arr == arr\n",
    "\n",
    "def has_duplicate(arr):\n",
    "    # Create a set to store seen elements\n",
    "    seen = set()\n",
    "    \n",
    "    for element in arr:\n",
    "        # If the element is already in the set, it's a duplicate\n",
    "        if element in seen:\n",
    "            return True\n",
    "        seen.add(element)\n",
    "    \n",
    "    return False\n",
    "\n",
    "# Example usage:\n",
    "my_list = [0, 2, 3, 4, 5]\n",
    "print(\"Is sorted:\", is_sorted(my_list))\n",
    "\n",
    "my_list_with_duplicates = [1, 2, 2, 3, 4, 5]\n",
    "print(\"Has duplicate:\", has_duplicate(my_list_with_duplicates))"
   ]
  },
  {
   "cell_type": "code",
   "execution_count": 24,
   "id": "21a193ea",
   "metadata": {},
   "outputs": [
    {
     "name": "stdout",
     "output_type": "stream",
     "text": [
      "Nested Sum: 28\n",
      "Cumulative Sum: [1, 3, 6, 10, 15]\n"
     ]
    }
   ],
   "source": [
    "#14 write function called nested_sum that takes a list of integers and adds up the elements from all the nested lists and cumsum \n",
    "# that takes a list of numbers and returns the cumulative sum; that is a new list where the ith element is the sum of the first\n",
    "#i+1 elements from the original list.\n",
    "#1.nested_sum():This function takes a list of integers that may contain nested lists and adds up all the elements ,including \n",
    "\n",
    "def nested_sum(lst):\n",
    "    total = 0\n",
    "    for element in lst:\n",
    "        if isinstance(element, list):\n",
    "            total += nested_sum(element)\n",
    "        else:\n",
    "            total += element\n",
    "    return total\n",
    "\n",
    "def cumsum(numbers):\n",
    "    cumulative_sum = []\n",
    "    running_sum = 0\n",
    "    for num in numbers:\n",
    "        running_sum += num\n",
    "        cumulative_sum.append(running_sum)\n",
    "    return cumulative_sum\n",
    "\n",
    "# Example for nested_sum()\n",
    "nested_list = [1, 2, [3, 4], [5, [6, 7]]]\n",
    "result = nested_sum(nested_list)\n",
    "print(\"Nested Sum:\", result)\n",
    "\n",
    "# Example for cumsum()\n",
    "original_list = [1, 2, 3, 4, 5]\n",
    "cumulative_result = cumsum(original_list)\n",
    "print(\"Cumulative Sum:\", cumulative_result)"
   ]
  },
  {
   "cell_type": "code",
   "execution_count": null,
   "id": "9b6c51c6",
   "metadata": {},
   "outputs": [],
   "source": []
  },
  {
   "cell_type": "code",
   "execution_count": null,
   "id": "e95e63ba",
   "metadata": {},
   "outputs": [],
   "source": []
  }
 ],
 "metadata": {
  "kernelspec": {
   "display_name": "Python 3 (ipykernel)",
   "language": "python",
   "name": "python3"
  },
  "language_info": {
   "codemirror_mode": {
    "name": "ipython",
    "version": 3
   },
   "file_extension": ".py",
   "mimetype": "text/x-python",
   "name": "python",
   "nbconvert_exporter": "python",
   "pygments_lexer": "ipython3",
   "version": "3.11.4"
  }
 },
 "nbformat": 4,
 "nbformat_minor": 5
}
