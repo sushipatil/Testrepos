{
 "cells": [
  {
   "cell_type": "markdown",
   "id": "9323f4b5",
   "metadata": {},
   "source": [
    "# Manipulate using a list\n",
    "i)To add new elements to the end of the list\n",
    "ii)To reverse elements in the list\n",
    "iii)To display the same list of elements multiple times\n",
    "iv)To concatenate two list\n",
    "v)To sort the elements in the list in ascending order"
   ]
  },
  {
   "cell_type": "code",
   "execution_count": 5,
   "id": "a9b262cb",
   "metadata": {},
   "outputs": [
    {
     "name": "stdout",
     "output_type": "stream",
     "text": [
      "[6, 7, 8, 9]\n"
     ]
    }
   ],
   "source": [
    "#i)To add new elements to the end of the list\n",
    "\n",
    "\n",
    "my_list=[6,7,8]\n",
    "my_list.append(9)\n",
    "print(my_list)"
   ]
  },
  {
   "cell_type": "code",
   "execution_count": 6,
   "id": "3bbe820c",
   "metadata": {},
   "outputs": [
    {
     "name": "stdout",
     "output_type": "stream",
     "text": [
      "[5, 4, 3, 2, 1]\n"
     ]
    }
   ],
   "source": [
    "#ii)To reverse elements in the list\n",
    "\n",
    "my_list=[1,2,3,4,5]\n",
    "my_list.reverse()\n",
    "print(my_list)"
   ]
  },
  {
   "cell_type": "code",
   "execution_count": 8,
   "id": "10c237c3",
   "metadata": {},
   "outputs": [
    {
     "name": "stdout",
     "output_type": "stream",
     "text": [
      "[1, 2, 3, 1, 2, 3, 1, 2, 3, 1, 2, 3]\n"
     ]
    }
   ],
   "source": [
    "#iii)To display the same list of elements multiple times\n",
    "\n",
    "my_list=[1,2,3]\n",
    "repeated_list=my_list*4\n",
    "print(repeated_list)"
   ]
  },
  {
   "cell_type": "code",
   "execution_count": 9,
   "id": "08821d23",
   "metadata": {},
   "outputs": [
    {
     "name": "stdout",
     "output_type": "stream",
     "text": [
      "[3, 4, 5, 6, 7, 8]\n"
     ]
    }
   ],
   "source": [
    "#iv)To concatenate two list\n",
    "\n",
    "list1=[3,4,5]\n",
    "list2=[6,7,8]\n",
    "concatenate_list=list1+list2\n",
    "print(concatenate_list)"
   ]
  },
  {
   "cell_type": "code",
   "execution_count": 14,
   "id": "ef515408",
   "metadata": {},
   "outputs": [
    {
     "name": "stdout",
     "output_type": "stream",
     "text": [
      "None\n",
      "[1, 3, 4, 5, 8, 9]\n"
     ]
    }
   ],
   "source": [
    "#v)To sort the elements in the list in ascending order\n",
    "list=[5,3,8,9,4,1]\n",
    "print(list.sort())\n",
    "print(list)"
   ]
  },
  {
   "cell_type": "markdown",
   "id": "96d65f31",
   "metadata": {},
   "source": [
    "# 2.Write a python program to do in tuples\n",
    "i)Manipulate using tuples\n",
    "ii)To add new elements to the end of the tuples\n",
    "iii)To reverse elements in the list\n",
    "iv)To display the elements of the same tuple multiple times\n",
    "v)To concatenate two tuples\n",
    "vi)To sort the elements in the list in ascending order"
   ]
  },
  {
   "cell_type": "code",
   "execution_count": 20,
   "id": "a5b9e8e3",
   "metadata": {},
   "outputs": [
    {
     "name": "stdout",
     "output_type": "stream",
     "text": [
      "(30, 'jupyter', 4.12)\n"
     ]
    }
   ],
   "source": [
    "#i)Manipulate using tuples\n",
    "\n",
    "my_tuple=(40,\"python\", 4.12)   #tuple cannot be changed once created so to manipulate it we can take list and convert it\n",
    "my_list=[30, \"jupyter\", 4.12]\n",
    "my_tuple=tuple(my_list)\n",
    "print(my_tuple)"
   ]
  },
  {
   "cell_type": "code",
   "execution_count": 27,
   "id": "3a9b96cf",
   "metadata": {},
   "outputs": [
    {
     "name": "stdout",
     "output_type": "stream",
     "text": [
      "(4, 5, 6, 7, 8, 9)\n"
     ]
    }
   ],
   "source": [
    "#ii)To add new elements to the end of the tuples\n",
    "n=(4,5,6)\n",
    "append=(7,8,9)\n",
    "n_append=my_tuple+append\n",
    "print(my_tuple_append)\n"
   ]
  },
  {
   "cell_type": "code",
   "execution_count": 28,
   "id": "ede8e013",
   "metadata": {},
   "outputs": [
    {
     "name": "stdout",
     "output_type": "stream",
     "text": [
      "[9, 8, 7, 6, 5, 4, 3, 2, 1]\n"
     ]
    }
   ],
   "source": [
    "#iii)To reverse elements in the list\n",
    "my_list=[1,2,3,4,5,6,7,8,9]\n",
    "my_list.reverse()\n",
    "print(my_list)"
   ]
  },
  {
   "cell_type": "code",
   "execution_count": 33,
   "id": "6eef5d6c",
   "metadata": {},
   "outputs": [
    {
     "name": "stdout",
     "output_type": "stream",
     "text": [
      "((6, 7, 8, 9), (6, 7, 8, 9), (6, 7, 8, 9))\n"
     ]
    }
   ],
   "source": [
    "#iv)To display the elements of the same tuple multiple times\n",
    "my_tuple=(6,7,8,9)\n",
    "N=3\n",
    "rep=((my_tuple, ) *N) \n",
    "print(rep)"
   ]
  },
  {
   "cell_type": "code",
   "execution_count": 35,
   "id": "84b067cd",
   "metadata": {},
   "outputs": [
    {
     "name": "stdout",
     "output_type": "stream",
     "text": [
      "(1, 2, 3, 4, 5, 6)\n"
     ]
    }
   ],
   "source": [
    "#v)To concatenate two tuples\n",
    "tuple1=(1,2,3)\n",
    "tuple2=(4,5,6)\n",
    "concatenate_tuple=tuple1+tuple2\n",
    "print(concatenate_tuple)\n"
   ]
  },
  {
   "cell_type": "code",
   "execution_count": 36,
   "id": "2ffa2d34",
   "metadata": {},
   "outputs": [
    {
     "name": "stdout",
     "output_type": "stream",
     "text": [
      "[2, 3, 4, 5, 6, 9, 45]\n"
     ]
    }
   ],
   "source": [
    "#vi)To sort the elements in the list in ascending order\n",
    "my_list=[6,4,5,3,2,9,45]\n",
    "my_list.sort()\n",
    "print(my_list)\n"
   ]
  },
  {
   "cell_type": "markdown",
   "id": "d941c196",
   "metadata": {},
   "source": [
    "# 3.Write a python program to implement the following using list\n",
    "i)Create a list with integers(minimum 10 numbers)\n",
    "ii)How to display the last number in the list\n",
    "iii)Command for displaying the values from the list[0:4]\n",
    "iv)Command for displaying the values from the list[2:]\n",
    "v)Command for displaying the values from the list[:6]"
   ]
  },
  {
   "cell_type": "code",
   "execution_count": 41,
   "id": "1bf7d07f",
   "metadata": {},
   "outputs": [
    {
     "name": "stdout",
     "output_type": "stream",
     "text": [
      "[1, 2, 3, 4, 5, 6, 7, 8, 9, 10]\n"
     ]
    }
   ],
   "source": [
    "#)i)Create a list with integers(minimum 10 numbers)\n",
    "my_list=[1,2,3,4,5,6,7,8,9,10]\n",
    "print(my_list)\n"
   ]
  },
  {
   "cell_type": "code",
   "execution_count": 44,
   "id": "fcac6206",
   "metadata": {},
   "outputs": [
    {
     "name": "stdout",
     "output_type": "stream",
     "text": [
      "10\n"
     ]
    }
   ],
   "source": [
    "#ii)How to display the last number in the list \n",
    "last_number=my_list[-1]\n",
    "print(last_number)"
   ]
  },
  {
   "cell_type": "code",
   "execution_count": 51,
   "id": "7744f74b",
   "metadata": {},
   "outputs": [
    {
     "name": "stdout",
     "output_type": "stream",
     "text": [
      "[1, 2, 3, 4]\n"
     ]
    }
   ],
   "source": [
    "#iii)Command for displaying the values from the list[0:4]\n",
    "my_list=[1,2,3,4,5,6,7,8,9,10]\n",
    "values=my_list[0:4]\n",
    "print(values)"
   ]
  },
  {
   "cell_type": "code",
   "execution_count": 55,
   "id": "5ad09d87",
   "metadata": {},
   "outputs": [
    {
     "name": "stdout",
     "output_type": "stream",
     "text": [
      "[3, 4, 5, 6, 7, 8, 9, 10]\n"
     ]
    }
   ],
   "source": [
    "#iv)Command for displaying the values from the list[2:]\n",
    "my_list=[1,77,3,4,5,6,7,8,9,10]\n",
    "values=my_list[2:]\n",
    "print(values)"
   ]
  },
  {
   "cell_type": "code",
   "execution_count": 54,
   "id": "b4c7496f",
   "metadata": {},
   "outputs": [
    {
     "name": "stdout",
     "output_type": "stream",
     "text": [
      "[1, 2, 3, 4, 5, 9]\n"
     ]
    }
   ],
   "source": [
    "#vi)Command for displaying the values from the list[:6]\n",
    "my_list=[1,2,3,4,5,9,7,8,9,10] #doubt about countin\n",
    "values=my_list[:6]\n",
    "print(values)"
   ]
  },
  {
   "cell_type": "markdown",
   "id": "21af83f0",
   "metadata": {},
   "source": [
    "# 4.Write a python program:tuple1=(10,50,20,40,30)\n",
    "    i.To dispaly the elements 10 and 50 from tuple1\n",
    "    ii.To display the length of a tuple1.\n",
    "    iii.To find the minimum element from tuple1\n",
    "    iv.To add all elements in the tuple1\n",
    "    v.To display the same tuple1 multiple times"
   ]
  },
  {
   "cell_type": "code",
   "execution_count": 63,
   "id": "9164fd0f",
   "metadata": {},
   "outputs": [
    {
     "name": "stdout",
     "output_type": "stream",
     "text": [
      "(10, 50, 20, 40, 30)\n"
     ]
    }
   ],
   "source": [
    "#i.To dispaly the elements 10 and 50 from tuple1\n",
    "\n",
    "my_tuple1=(10,50,20,40,30)\n",
    "\n",
    "print(my_tuple1)\n"
   ]
  },
  {
   "cell_type": "code",
   "execution_count": 58,
   "id": "eb8d81cb",
   "metadata": {},
   "outputs": [
    {
     "name": "stdout",
     "output_type": "stream",
     "text": [
      "5\n"
     ]
    }
   ],
   "source": [
    "#ii.To display the length of a tuple1.\n",
    "my_tuple1=(10,50,20,40,30)\n",
    "tuple_length=len(my_tuple1)\n",
    "print(tuple_length)"
   ]
  },
  {
   "cell_type": "code",
   "execution_count": 59,
   "id": "d80329f7",
   "metadata": {},
   "outputs": [
    {
     "name": "stdout",
     "output_type": "stream",
     "text": [
      "10\n"
     ]
    }
   ],
   "source": [
    "#iii.To find the minimum element from tuple1\n",
    "minimum_element=min(my_tuple1)\n",
    "print(minimum_element)"
   ]
  },
  {
   "cell_type": "code",
   "execution_count": 61,
   "id": "01606491",
   "metadata": {},
   "outputs": [
    {
     "name": "stdout",
     "output_type": "stream",
     "text": [
      "150\n"
     ]
    }
   ],
   "source": [
    "#iv.To add all elements in the tuple1\n",
    "total=sum(my_tuple1)\n",
    "print(total)"
   ]
  },
  {
   "cell_type": "code",
   "execution_count": 65,
   "id": "654b57a6",
   "metadata": {},
   "outputs": [
    {
     "name": "stdout",
     "output_type": "stream",
     "text": [
      "((10, 50, 20, 40, 30), (10, 50, 20, 40, 30), (10, 50, 20, 40, 30), (10, 50, 20, 40, 30))\n"
     ]
    }
   ],
   "source": [
    "#v.To display the same tuple1 multiple times\n",
    "N=4\n",
    "rep=((my_tuple1, ) *N) \n",
    "print(rep)\n"
   ]
  },
  {
   "cell_type": "markdown",
   "id": "6e0f5ae9",
   "metadata": {},
   "source": [
    "#    5.Write a python Program\n",
    "    i.To calculate the length of a string\n",
    "    ii.To reverse words in string\n",
    "    iii.To display the same string multiple times\n",
    "    iv.To concatenate two strings\n",
    "    v.str1=\"South India\", using string slicing to display \"India\""
   ]
  },
  {
   "cell_type": "code",
   "execution_count": 66,
   "id": "de1b4d0c",
   "metadata": {},
   "outputs": [
    {
     "name": "stdout",
     "output_type": "stream",
     "text": [
      "14\n"
     ]
    }
   ],
   "source": [
    "#i.To calculate the length of a string\n",
    "my_string=\"python program\"\n",
    "string_length=len(my_string)\n",
    "print(string_length)"
   ]
  },
  {
   "cell_type": "code",
   "execution_count": 75,
   "id": "c523ea57",
   "metadata": {},
   "outputs": [
    {
     "data": {
      "text/plain": [
       "'margorp nohtyp'"
      ]
     },
     "execution_count": 75,
     "metadata": {},
     "output_type": "execute_result"
    }
   ],
   "source": [
    "#.ii.To reverse words in string\n",
    "my_string[:: -1]\n",
    "\n"
   ]
  },
  {
   "cell_type": "code",
   "execution_count": 78,
   "id": "c3dda698",
   "metadata": {},
   "outputs": [
    {
     "data": {
      "text/plain": [
       "'python programpython programpython program'"
      ]
     },
     "execution_count": 78,
     "metadata": {},
     "output_type": "execute_result"
    }
   ],
   "source": [
    "#iii.To display the same string multiple times\n",
    "my_string * 3\n"
   ]
  },
  {
   "cell_type": "code",
   "execution_count": 81,
   "id": "f92fe899",
   "metadata": {},
   "outputs": [
    {
     "name": "stdout",
     "output_type": "stream",
     "text": [
      "python programjupyter\n"
     ]
    }
   ],
   "source": [
    "#iv.To concatenate two strings\n",
    "my_string2=\"jupyter\"\n",
    "my_string1=my_string+my_string2\n",
    "print(my_string1)"
   ]
  },
  {
   "cell_type": "code",
   "execution_count": 82,
   "id": "efb23197",
   "metadata": {},
   "outputs": [
    {
     "data": {
      "text/plain": [
       "'india'"
      ]
     },
     "execution_count": 82,
     "metadata": {},
     "output_type": "execute_result"
    }
   ],
   "source": [
    "#v.str1=\"South India\", using string slicing to display \"India\"\n",
    "str1=\"south india\"\n",
    "str1[6 :]"
   ]
  },
  {
   "cell_type": "markdown",
   "id": "9c87fa58",
   "metadata": {},
   "source": [
    "# 6.perform the following\n",
    "i)creating the dictionary\n",
    "ii)Accesing values and keys in the dictionary\n",
    "iii)updating the dictionary using function\n",
    "iv)clear and delete the dictionary values"
   ]
  },
  {
   "cell_type": "code",
   "execution_count": 83,
   "id": "f291002c",
   "metadata": {},
   "outputs": [
    {
     "name": "stdout",
     "output_type": "stream",
     "text": [
      "{1: 'python', 2: 'is a', 3: 'programming lang'}\n"
     ]
    }
   ],
   "source": [
    "#i)creating the dictionary\n",
    "dict={ 1: 'python',2:'is a',3:'programming lang'}\n",
    "print(dict)"
   ]
  },
  {
   "cell_type": "code",
   "execution_count": 88,
   "id": "eece670d",
   "metadata": {},
   "outputs": [
    {
     "data": {
      "text/plain": [
       "'is'"
      ]
     },
     "execution_count": 88,
     "metadata": {},
     "output_type": "execute_result"
    }
   ],
   "source": [
    "#ii)Accesing values and keys in the dictionary\n",
    "{\"name\":\"python\"}.get(\"name\")\n",
    "{\"va\":\"is\"}.get(\"va\")"
   ]
  },
  {
   "cell_type": "code",
   "execution_count": 91,
   "id": "7d4d8918",
   "metadata": {},
   "outputs": [
    {
     "name": "stdout",
     "output_type": "stream",
     "text": [
      "{1: 'python', 2: 'is a', 3: 'programming lang', 4: 'it is easy'}\n"
     ]
    }
   ],
   "source": [
    "#iii)updating the dictionary using function\n",
    "dict.update({4:\"it is easy\"})//why common bracket\n",
    "print(dict)\n"
   ]
  },
  {
   "cell_type": "code",
   "execution_count": 100,
   "id": "ea6de336",
   "metadata": {},
   "outputs": [
    {
     "name": "stdout",
     "output_type": "stream",
     "text": [
      "{}\n"
     ]
    }
   ],
   "source": [
    "#iv)clear and delete the dictionary values\n",
    "dict={ 1: 'python',2:'is a',3:'programming lang'}\n",
    "dict.clear()\n",
    "print(dict)\n",
    "\n"
   ]
  },
  {
   "cell_type": "markdown",
   "id": "1edbeb6d",
   "metadata": {},
   "source": [
    "# 7.python program to insert a number to any poistion in a list"
   ]
  },
  {
   "cell_type": "code",
   "execution_count": 107,
   "id": "f522d2e6",
   "metadata": {},
   "outputs": [
    {
     "data": {
      "text/plain": [
       "[3, 5, 6, 7, 9]"
      ]
     },
     "execution_count": 107,
     "metadata": {},
     "output_type": "execute_result"
    }
   ],
   "source": [
    "#python program to insert a number to any poistion in a list\n",
    "l1=[3,5,6,7]\n",
    "l1.insert(4,9)//by using insert methond i added 9 in 4th pos\n",
    "l1"
   ]
  },
  {
   "cell_type": "markdown",
   "id": "a2a2f9a4",
   "metadata": {},
   "source": [
    "# 8 python program to delete an element from a list by index"
   ]
  },
  {
   "cell_type": "code",
   "execution_count": 109,
   "id": "722707d9",
   "metadata": {},
   "outputs": [
    {
     "data": {
      "text/plain": [
       "3"
      ]
     },
     "execution_count": 109,
     "metadata": {},
     "output_type": "execute_result"
    }
   ],
   "source": [
    "#python program to delete an element from a list by index\n",
    "a=[1,2,3,4]\n",
    "a.pop(2)//to delete "
   ]
  },
  {
   "cell_type": "markdown",
   "id": "af39a525",
   "metadata": {},
   "source": [
    "# 9 write a program to display a number from 1 to 100"
   ]
  },
  {
   "cell_type": "code",
   "execution_count": 10,
   "id": "c2fb558f",
   "metadata": {},
   "outputs": [
    {
     "name": "stdout",
     "output_type": "stream",
     "text": [
      "1\n",
      "2\n",
      "3\n",
      "4\n",
      "5\n",
      "6\n",
      "7\n",
      "8\n",
      "9\n",
      "10\n",
      "11\n",
      "12\n",
      "13\n",
      "14\n",
      "15\n",
      "16\n",
      "17\n",
      "18\n",
      "19\n",
      "20\n",
      "21\n",
      "22\n",
      "23\n",
      "24\n",
      "25\n",
      "26\n",
      "27\n",
      "28\n",
      "29\n",
      "30\n",
      "31\n",
      "32\n",
      "33\n",
      "34\n",
      "35\n",
      "36\n",
      "37\n",
      "38\n",
      "39\n",
      "40\n",
      "41\n",
      "42\n",
      "43\n",
      "44\n",
      "45\n",
      "46\n",
      "47\n",
      "48\n",
      "49\n",
      "50\n",
      "51\n",
      "52\n",
      "53\n",
      "54\n",
      "55\n",
      "56\n",
      "57\n",
      "58\n",
      "59\n",
      "60\n",
      "61\n",
      "62\n",
      "63\n",
      "64\n",
      "65\n",
      "66\n",
      "67\n",
      "68\n",
      "69\n",
      "70\n",
      "71\n",
      "72\n",
      "73\n",
      "74\n",
      "75\n",
      "76\n",
      "77\n",
      "78\n",
      "79\n",
      "80\n",
      "81\n",
      "82\n",
      "83\n",
      "84\n",
      "85\n",
      "86\n",
      "87\n",
      "88\n",
      "89\n",
      "90\n",
      "91\n",
      "92\n",
      "93\n",
      "94\n",
      "95\n",
      "96\n",
      "97\n",
      "98\n",
      "99\n",
      "100\n"
     ]
    }
   ],
   "source": [
    "#9 write a program to display a number from 1 to 100\n",
    "for i in range(1,101):print(i)\n"
   ]
  },
  {
   "cell_type": "markdown",
   "id": "ce4dd717",
   "metadata": {},
   "source": [
    "# 10.Write a python program to find sum of items in a tuple"
   ]
  },
  {
   "cell_type": "code",
   "execution_count": 9,
   "id": "85ad660b",
   "metadata": {},
   "outputs": [
    {
     "name": "stdout",
     "output_type": "stream",
     "text": [
      "18\n"
     ]
    }
   ],
   "source": [
    "#Write a python program to find sum of items in a tuple\n",
    "t1=(3,4,5,6)\n",
    "sum=sum(t1)\n",
    "print(sum)\n",
    "\n",
    "\n",
    "\n"
   ]
  },
  {
   "cell_type": "code",
   "execution_count": 21,
   "id": "22258c6b",
   "metadata": {},
   "outputs": [
    {
     "ename": "SyntaxError",
     "evalue": "invalid decimal literal (1259273392.py, line 1)",
     "output_type": "error",
     "traceback": [
      "\u001b[1;36m  Cell \u001b[1;32mIn[21], line 1\u001b[1;36m\u001b[0m\n\u001b[1;33m    11.Create a dictionary containing three lambda functions sqaure,cube and square root\u001b[0m\n\u001b[1;37m      ^\u001b[0m\n\u001b[1;31mSyntaxError\u001b[0m\u001b[1;31m:\u001b[0m invalid decimal literal\n"
     ]
    }
   ],
   "source": [
    "11.Create a dictionary containing three lambda functions sqaure,cube and square root\n",
    "i)e.g dict={'square':function for squaring, 'cube':function for cube,'squareroot':function for sqaure root}\n",
    "ii)pass the values(input from the user)to functions in the dictionary respectively\n",
    "iii)Then add the outputs of each function and print it"
   ]
  },
  {
   "cell_type": "code",
   "execution_count": 27,
   "id": "5565403b",
   "metadata": {},
   "outputs": [
    {
     "ename": "SyntaxError",
     "evalue": "invalid syntax (2143093225.py, line 3)",
     "output_type": "error",
     "traceback": [
      "\u001b[1;36m  Cell \u001b[1;32mIn[27], line 3\u001b[1;36m\u001b[0m\n\u001b[1;33m    dict{\"square\": \"function for squaring\",  \"cube\": 'function for cube', \"squareroot\":'function for sqaure root'}\u001b[0m\n\u001b[1;37m        ^\u001b[0m\n\u001b[1;31mSyntaxError\u001b[0m\u001b[1;31m:\u001b[0m invalid syntax\n"
     ]
    }
   ],
   "source": [
    "#i)e.g dict={'square':function for squaring, 'cube':function for cube,'squareroot':function for sqaure root}\n",
    "\n",
    "dict{\"square\": \"function for squaring\",  \"cube\": 'function for cube', \"squareroot\":'function for sqaure root'}\n",
    "print(dict)\n"
   ]
  },
  {
   "cell_type": "code",
   "execution_count": 28,
   "id": "7f8292a9",
   "metadata": {},
   "outputs": [
    {
     "ename": "SyntaxError",
     "evalue": "invalid syntax (3366499391.py, line 1)",
     "output_type": "error",
     "traceback": [
      "\u001b[1;36m  Cell \u001b[1;32mIn[28], line 1\u001b[1;36m\u001b[0m\n\u001b[1;33m    ii:\u001b[0m\n\u001b[1;37m       ^\u001b[0m\n\u001b[1;31mSyntaxError\u001b[0m\u001b[1;31m:\u001b[0m invalid syntax\n"
     ]
    }
   ],
   "source": [
    "ii:\n",
    "    "
   ]
  },
  {
   "cell_type": "code",
   "execution_count": null,
   "id": "c648313d",
   "metadata": {},
   "outputs": [],
   "source": [
    "iii:\n",
    "    "
   ]
  },
  {
   "cell_type": "markdown",
   "id": "05fb6120",
   "metadata": {},
   "source": [
    "# 12  A list of words is given.Find the words from the list that have their second character in uppercase \n",
    "ls=['hello'.'Dear','hOw','ARe', 'You']"
   ]
  },
  {
   "cell_type": "code",
   "execution_count": null,
   "id": "5c36828a",
   "metadata": {
    "scrolled": true
   },
   "outputs": [],
   "source": [
    "#A list of words is given.Find the words from the list that have their second character in uppercase¶\n",
    "\n",
    "ls1=['hello','Dear','hOw','ARe','You']\n",
    "for i in ls1:\n",
    "    if i[1].isupper():\n",
    "        ls1.append(i)\n",
    "    print(ls1)"
   ]
  },
  {
   "cell_type": "markdown",
   "id": "c05cb545",
   "metadata": {},
   "source": [
    "# 13A dictionary of names and their weights on earth give.find how much they will weigh on the moon(use map and lambda function)formula\n",
    ":vmoon=(wEarth*GMoon)/GEarth\n",
    "    i)#Weight of people in kg\n",
    "    . WeightonEarth={'john':45,'shelly':65,'Marry':35}\n",
    "    #Gravitational force on the moon 1.622m/s2\n",
    "    .GMoon=1.622\n",
    "    #Gravitational force on the earth :9.81m/s2\n",
    "    .GEarth=9.81"
   ]
  },
  {
   "cell_type": "code",
   "execution_count": null,
   "id": "eac12b10",
   "metadata": {},
   "outputs": [],
   "source": []
  },
  {
   "cell_type": "code",
   "execution_count": null,
   "id": "0f09fe6e",
   "metadata": {},
   "outputs": [],
   "source": []
  },
  {
   "cell_type": "code",
   "execution_count": null,
   "id": "ca2b8574",
   "metadata": {},
   "outputs": [],
   "source": []
  },
  {
   "cell_type": "markdown",
   "id": "6a6e0a29",
   "metadata": {},
   "source": [
    "# CONTROL STRUCTURES\n",
    "1.Wrire a python program to find the first N Prime numbers"
   ]
  },
  {
   "cell_type": "code",
   "execution_count": null,
   "id": "e1acd4b1",
   "metadata": {},
   "outputs": [],
   "source": [
    "#1.Wrire a python program to find the first N Prime numbers\n",
    "\n",
    "Number=int(input(\"enter a range: \"))\n",
    "print(\"prime number\" end='')\n",
    "for n in range(1,Number):#Start,end-1,step value\n",
    "    for i in range(2,n):#this loop is check number is even or nt\n",
    "        if(n%i==0):\n",
    "             break\n",
    "    else:\n",
    "             print(n,end=',')\n",
    "        "
   ]
  },
  {
   "cell_type": "code",
   "execution_count": 6,
   "id": "248b2519",
   "metadata": {},
   "outputs": [
    {
     "ename": "IndentationError",
     "evalue": "unexpected indent (740610128.py, line 2)",
     "output_type": "error",
     "traceback": [
      "\u001b[1;36m  Cell \u001b[1;32mIn[6], line 2\u001b[1;36m\u001b[0m\n\u001b[1;33m    hra = 0.2 * basic\u001b[0m\n\u001b[1;37m    ^\u001b[0m\n\u001b[1;31mIndentationError\u001b[0m\u001b[1;31m:\u001b[0m unexpected indent\n"
     ]
    }
   ],
   "source": [
    "#2.write a python code that calculates the salary of an employee .Prompt the user to enter the basic salary ,HRA,TA, and DA.Add these components to calculate the gross salary also deduct 10% of salary from the gross salary to be paid as tax and dispaly gross minus tax as net salary\n",
    "   hra = 0.2 * basic\n",
    "    da = 0.5 * basic\n",
    "    pf = 0.11 * basic \n",
    "    # Condition to compute the\n",
    "    # allowance for the person\n",
    "    if grade == 'A':\n",
    "        allowance = 1700.0\n",
    "    elif grade == 'B':\n",
    "        allowance = 1500.0\n",
    "    else:\n",
    "        allowance = 1300.0;\n",
    "    gross = round(basic + hra + da +allowance-pf)              \n",
    "    return gross\n",
    "if _name_ == '__main__': \n",
    "    basic = 10000\n",
    "    grade = 'A' \n",
    "print(computeSalary(basic, grade));"
   ]
  },
  {
   "cell_type": "code",
   "execution_count": 8,
   "id": "e1dc3f99",
   "metadata": {},
   "outputs": [
    {
     "name": "stdout",
     "output_type": "stream",
     "text": [
      "g isnot present in the string\n"
     ]
    }
   ],
   "source": [
    "#3 Write a python program to search for a string in the given list\n",
    "l=[1,8.2, 'have','a','good','pgm'] //list\n",
    "s='g'\n",
    "if s in l:#assign\n",
    " print(f'{s} is present in the string')#f  formatted string\n",
    "else:\n",
    " print(f'{s} isnot present in the string')\n"
   ]
  },
  {
   "cell_type": "code",
   "execution_count": 12,
   "id": "76f09a1c",
   "metadata": {},
   "outputs": [
    {
     "name": "stdout",
     "output_type": "stream",
     "text": [
      "the lowecase letter is 16\n",
      "the uppercase letter is 6\n"
     ]
    }
   ],
   "source": [
    "#4 Write a python function that accepts a string and calculates the number of upper-case letters and lower-case letters\n",
    "\n",
    "string=\"Python For DataScience\"\n",
    "lower=0\n",
    "upper=0\n",
    "for i in string:\n",
    "    if(i.islower()):\n",
    "        \n",
    "    else:\n",
    "        upper+=1\n",
    "print(\"the lowecase letter is\",lower)\n",
    "print(\"the uppercase letter is\",upper)\n",
    "    "
   ]
  },
  {
   "cell_type": "code",
   "execution_count": 14,
   "id": "0545f356",
   "metadata": {},
   "outputs": [
    {
     "name": "stdout",
     "output_type": "stream",
     "text": [
      "sum of even numbers 312\n",
      "sum of odd numbers 325\n"
     ]
    }
   ],
   "source": [
    "#5 Write a python program to display the sum of odd numbers and even numbers that fall between 12 and 37\n",
    "sum_odd=0\n",
    "sum_even=0\n",
    "for number in range(12,38):\n",
    "    if number%2==0:\n",
    "        sum_even+=number\n",
    "    else:\n",
    "        sum_odd+=number\n",
    "print(\"sum of even numbers\",sum_even)\n",
    "print(\"sum of odd numbers\",sum_odd)"
   ]
  },
  {
   "cell_type": "code",
   "execution_count": 1,
   "id": "8aa23f1e",
   "metadata": {},
   "outputs": [
    {
     "name": "stdout",
     "output_type": "stream",
     "text": [
      "enter the number to print the table for:3\n",
      "3 x 1 = 3\n",
      "3 x 2 = 6\n",
      "3 x 3 = 9\n",
      "3 x 4 = 12\n",
      "3 x 5 = 15\n",
      "3 x 6 = 18\n",
      "3 x 7 = 21\n",
      "3 x 8 = 24\n",
      "3 x 9 = 27\n",
      "3 x 10 = 30\n"
     ]
    }
   ],
   "source": [
    "# 6 Write a python program to print the table of any number\n",
    "n=int(input(\"enter the number to print the table for:\"))\n",
    "for i in range(1,11):\n",
    "    print(n,\"x\",i, \"=\",n*i)"
   ]
  },
  {
   "cell_type": "code",
   "execution_count": 2,
   "id": "d8469ef9",
   "metadata": {},
   "outputs": [
    {
     "name": "stdout",
     "output_type": "stream",
     "text": [
      "enter number value10\n",
      "2 is prime\n",
      "3 is prime\n",
      "5 is prime\n",
      "7 is prime\n",
      "sum of prime number is 17\n"
     ]
    }
   ],
   "source": [
    "#7 Write a python program to sum the first 10 prime numbers\n",
    "num=input(\"enter number value\")\n",
    "num=int(num)\n",
    "sum=0\n",
    "for i in range(2,num+1):\n",
    "    for j in range(2,i):\n",
    "        if(i%j==0):\n",
    "          break\n",
    "    else:\n",
    "       print(i,\"is prime\")\n",
    "       sum=sum+i\n",
    "print(\"sum of prime number is\",sum)"
   ]
  },
  {
   "cell_type": "code",
   "execution_count": 3,
   "id": "0d7fa8f7",
   "metadata": {},
   "outputs": [
    {
     "name": "stdout",
     "output_type": "stream",
     "text": [
      "Enter the first number: 23\n",
      "Enter the second number: 34\n",
      "Enter an operator (+, -, *, /): +\n",
      "Result: 57.0\n"
     ]
    }
   ],
   "source": [
    "#8 Write a python program to implement arithmetic operations using nested if statement\n",
    "num1 = float(input(\"Enter the first number: \"))\n",
    "num2 = float(input(\"Enter the second number: \"))\n",
    "operator = input(\"Enter an operator (+, -, *, /): \")\n",
    "if operator == '+':\n",
    "    result = num1 + num2\n",
    "elif operator == '-':\n",
    "    result = num1 - num2\n",
    "elif operator == '*':\n",
    "    result = num1 * num2\n",
    "elif operator == '/':\n",
    "    if num2 != 0:  # Check for division by zero\n",
    "        result = num1 / num2\n",
    "    else:\n",
    "        result = \"Division by zero is not allowed\"\n",
    "else:\n",
    "    result = \"Invalid operator\"\n",
    "\n",
    "print(\"Result:\", result)\n"
   ]
  },
  {
   "cell_type": "code",
   "execution_count": 4,
   "id": "77156ac4",
   "metadata": {},
   "outputs": [
    {
     "name": "stdout",
     "output_type": "stream",
     "text": [
      "Enter the Temperature in Celsius :\n",
      "10\n",
      "Temperature in Fahrenheit : 50.0\n"
     ]
    }
   ],
   "source": [
    "#9 Write a python program to take the temperature in Celsius and convert it to a fahrenheit\n",
    "celsius = int(input(\"Enter the Temperature in Celsius :\\n\"))\n",
    "fahrenheit = (1.8 * celsius) + 32\n",
    "print(\"Temperature in Fahrenheit :\", fahrenheit)"
   ]
  },
  {
   "cell_type": "code",
   "execution_count": 6,
   "id": "72aef4f8",
   "metadata": {},
   "outputs": [
    {
     "name": "stdout",
     "output_type": "stream",
     "text": [
      "(99, -5)\n"
     ]
    }
   ],
   "source": [
    "#10 Write a python program to find a maximum and minimum number in a list without using an inbuilt function\n",
    "def max_min(data):\n",
    "  l = data[0]\n",
    "  s = data[0]\n",
    "  for num in data:\n",
    "    if num> l:\n",
    "      l = num\n",
    "    elif num< s:\n",
    "        s = num\n",
    "  return l, s\n",
    "\n",
    "print(max_min([0, 10, 15,-5,77,23,6,99,-3]))"
   ]
  },
  {
   "cell_type": "code",
   "execution_count": 7,
   "id": "ae833807",
   "metadata": {},
   "outputs": [
    {
     "name": "stdout",
     "output_type": "stream",
     "text": [
      "Number of seconds in 30 days: 2592000\n"
     ]
    }
   ],
   "source": [
    "#11Write a program in python to print out the number of seconds in 30-day month 30 days,24 hours in a day,60minutesperday,60seconds in a time\n",
    "days_in_month = 30\n",
    "hours_in_day = 24\n",
    "minutes_in_hour = 60\n",
    "seconds_in_minute = 60\n",
    "\n",
    "# Calculate the number of seconds in 30 days\n",
    "seconds_in_30_days = days_in_month * hours_in_day * minutes_in_hour * seconds_in_minute\n",
    "\n",
    "# Display the result\n",
    "print(f\"Number of seconds in 30 days: {seconds_in_30_days}\")"
   ]
  },
  {
   "cell_type": "code",
   "execution_count": 9,
   "id": "553f25f7",
   "metadata": {},
   "outputs": [
    {
     "name": "stdout",
     "output_type": "stream",
     "text": [
      "Number of seconds in a year= 31536000\n"
     ]
    }
   ],
   "source": [
    "#12Write a program  to print out the number of seconds in a year\n",
    "days = 365\n",
    "hours = 24\n",
    "mins = 60\n",
    "secs = 60\n",
    "secsInYear = days * hours * mins * secs\n",
    "print(\"Number of seconds in a year=\", secsInYear)"
   ]
  },
  {
   "cell_type": "code",
   "execution_count": 10,
   "id": "5320618a",
   "metadata": {},
   "outputs": [
    {
     "name": "stdout",
     "output_type": "stream",
     "text": [
      "A high-speed train traveling at 150 mph would take 2.76 hours to travel from London to Glasgow.\n"
     ]
    }
   ],
   "source": [
    "#13 A Highspeed train can travel at an average speed of 150mph,how long will it take a train travelling at this speed to travel from \n",
    "#london to glassgow which is 414miles away?\n",
    "average_speed_mph = 150  # Average speed of the train in mph\n",
    "distance_miles = 414     # Distance from London to Glasgow in miles\n",
    "\n",
    "# Calculate the time in hours\n",
    "time_hours = distance_miles / average_speed_mph\n",
    "\n",
    "# Display the result\n",
    "print(f\"A high-speed train traveling at {average_speed_mph} mph would take {time_hours:.2f} hours to travel from London to Glasgow.\")\n"
   ]
  },
  {
   "cell_type": "code",
   "execution_count": null,
   "id": "b4ffbdd8",
   "metadata": {},
   "outputs": [],
   "source": [
    "#14 Write a python that defines a variable called days_in_each_school and assign 192 to the variable. The program should then print out the total hours that you spend in school from year 7 to year11,if each day you spend 6 hours in school days_in_each_school_year=192\n"
   ]
  },
  {
   "cell_type": "code",
   "execution_count": 11,
   "id": "4c3cfb6b",
   "metadata": {},
   "outputs": [
    {
     "name": "stdout",
     "output_type": "stream",
     "text": [
      "Enter the Age of Ram :26\n",
      "Enter the Age of Sam :34\n",
      "Enter the Age of Khan :56\n",
      "The Youngest Age is Ram\n"
     ]
    }
   ],
   "source": [
    "#15 if the age of ram,sam and khan are input through the keyboard ,write a python program to determine the eldest and youngest of the three\n",
    "age1 = int(input(\"Enter the Age of Ram :\"))\n",
    "age2 = int(input(\"Enter the Age of Sam :\"))\n",
    "age3 = int(input(\"Enter the Age of Khan :\"))\n",
    "if(age1<age2 and age1<age3):\n",
    "\tprint(\"The Youngest Age is Ram\")\n",
    "elif(age2<age1 and age2<age3):\n",
    "\tprint(\"The Youngest Age is Sam\")\n",
    "else:\n",
    "\tprint(\"The Youngest Age is Khan\")"
   ]
  },
  {
   "cell_type": "code",
   "execution_count": 2,
   "id": "def67b79",
   "metadata": {},
   "outputs": [
    {
     "name": "stdout",
     "output_type": "stream",
     "text": [
      "Enter the number of rotations: 3\n",
      "Rotated list with slicing technique: [3, 4, 5, 1, 2]\n"
     ]
    }
   ],
   "source": [
    "## 16Write a python program to rotate a list by right n times with and without slicing technique\n",
    "#using slicing technique\n",
    "def rotate_right_with_slicing(lst, n):\n",
    "    n = n % len(lst)  # Handle cases where n is greater than the length of the list\n",
    "    rotated_list = lst[-n:] + lst[:-n]\n",
    "    return rotated_list\n",
    "\n",
    "# Input list and number of rotations\n",
    "my_list = [1, 2, 3, 4, 5]\n",
    "n = int(input(\"Enter the number of rotations: \"))\n",
    "\n",
    "rotated_list = rotate_right_with_slicing(my_list, n)\n",
    "print(\"Rotated list with slicing technique:\", rotated_list)\n",
    "\n",
    "\n",
    "\n",
    "\n"
   ]
  },
  {
   "cell_type": "code",
   "execution_count": 1,
   "id": "29cd3445",
   "metadata": {},
   "outputs": [
    {
     "name": "stdout",
     "output_type": "stream",
     "text": [
      "Enter the number of rotations: 3\n",
      "Rotated list without slicing technique: [3, 4, 5, 1, 2]\n"
     ]
    }
   ],
   "source": [
    "#without using slicing technique\n",
    "def rotate_right_without_slicing(lst, n):\n",
    "    n = n % len(lst)  # Handle cases where n is greater than the length of the list\n",
    "    for _ in range(n):\n",
    "        lst.insert(0, lst.pop())\n",
    "\n",
    "# Input list and number of rotations\n",
    "my_list = [1, 2, 3, 4, 5]\n",
    "n = int(input(\"Enter the number of rotations: \"))\n",
    "\n",
    "rotate_right_without_slicing(my_list, n)\n",
    "print(\"Rotated list without slicing technique:\", my_list)\n"
   ]
  },
  {
   "cell_type": "code",
   "execution_count": null,
   "id": "e79e80dc",
   "metadata": {},
   "outputs": [],
   "source": [
    "#17.python program to print the patterns given below\n"
   ]
  },
  {
   "cell_type": "code",
   "execution_count": null,
   "id": "962f6597",
   "metadata": {},
   "outputs": [],
   "source": []
  }
 ],
 "metadata": {
  "kernelspec": {
   "display_name": "Python 3 (ipykernel)",
   "language": "python",
   "name": "python3"
  },
  "language_info": {
   "codemirror_mode": {
    "name": "ipython",
    "version": 3
   },
   "file_extension": ".py",
   "mimetype": "text/x-python",
   "name": "python",
   "nbconvert_exporter": "python",
   "pygments_lexer": "ipython3",
   "version": "3.11.4"
  }
 },
 "nbformat": 4,
 "nbformat_minor": 5
}
