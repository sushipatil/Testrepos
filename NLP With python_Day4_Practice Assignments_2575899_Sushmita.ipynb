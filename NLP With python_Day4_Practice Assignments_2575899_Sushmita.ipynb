{
 "cells": [
  {
   "cell_type": "markdown",
   "metadata": {
    "id": "1t3sfSWULevh"
   },
   "source": [
    "# Create Your Own Spell Checker"
   ]
  },
  {
   "cell_type": "code",
   "execution_count": 1,
   "metadata": {
    "id": "tRrUEDFbMvoJ"
   },
   "outputs": [],
   "source": [
    "import nltk"
   ]
  },
  {
   "cell_type": "code",
   "execution_count": 2,
   "metadata": {
    "colab": {
     "base_uri": "https://localhost:8080/"
    },
    "id": "B47a_8ZsMuu2",
    "outputId": "9cc5f871-867a-48de-ae18-ac2b917ab1e8"
   },
   "outputs": [
    {
     "name": "stderr",
     "output_type": "stream",
     "text": [
      "[nltk_data] Downloading package punkt to\n",
      "[nltk_data]     C:\\Users\\admin\\AppData\\Roaming\\nltk_data...\n",
      "[nltk_data]   Package punkt is already up-to-date!\n"
     ]
    },
    {
     "data": {
      "text/plain": [
       "True"
      ]
     },
     "execution_count": 2,
     "metadata": {},
     "output_type": "execute_result"
    }
   ],
   "source": [
    "nltk.download('punkt')"
   ]
  },
  {
   "cell_type": "code",
   "execution_count": 3,
   "metadata": {
    "id": "6JqrFHL2LfUg"
   },
   "outputs": [],
   "source": [
    "import nltk\n",
    "from nltk.corpus import words, stopwords\n",
    "from string import punctuation\n"
   ]
  },
  {
   "cell_type": "code",
   "execution_count": 4,
   "metadata": {
    "colab": {
     "base_uri": "https://localhost:8080/"
    },
    "id": "Y7ywWjx1Lugd",
    "outputId": "760a8756-93a9-4b78-cf69-80ea8ef8481a"
   },
   "outputs": [
    {
     "name": "stderr",
     "output_type": "stream",
     "text": [
      "[nltk_data] Downloading package words to\n",
      "[nltk_data]     C:\\Users\\admin\\AppData\\Roaming\\nltk_data...\n",
      "[nltk_data]   Package words is already up-to-date!\n",
      "[nltk_data] Downloading package stopwords to\n",
      "[nltk_data]     C:\\Users\\admin\\AppData\\Roaming\\nltk_data...\n",
      "[nltk_data]   Package stopwords is already up-to-date!\n"
     ]
    },
    {
     "data": {
      "text/plain": [
       "True"
      ]
     },
     "execution_count": 4,
     "metadata": {},
     "output_type": "execute_result"
    }
   ],
   "source": [
    "nltk.download('words')\n",
    "nltk.download('stopwords')"
   ]
  },
  {
   "cell_type": "code",
   "execution_count": 5,
   "metadata": {
    "id": "zt7_qWk5Lx84"
   },
   "outputs": [],
   "source": [
    "def get_valid_words():\n",
    "    return set(words.words())"
   ]
  },
  {
   "cell_type": "code",
   "execution_count": 6,
   "metadata": {
    "id": "DotzcuVQL11E"
   },
   "outputs": [],
   "source": [
    "def normalize_casing(term):\n",
    "    return term.lower()"
   ]
  },
  {
   "cell_type": "code",
   "execution_count": 7,
   "metadata": {
    "id": "fHAcRIZwL5CV"
   },
   "outputs": [],
   "source": [
    "def create_unique_list(terms):\n",
    "    return list(set(terms))\n"
   ]
  },
  {
   "cell_type": "code",
   "execution_count": 8,
   "metadata": {
    "id": "x8nVGObsMAT1"
   },
   "outputs": [],
   "source": [
    "def get_stop_words():\n",
    "    nltk_stopwords = set(stopwords.words('english'))\n",
    "    punctuation_set = set(punctuation)\n",
    "    stop_words = nltk_stopwords.union(punctuation_set)\n",
    "    return stop_words"
   ]
  },
  {
   "cell_type": "code",
   "execution_count": 9,
   "metadata": {
    "id": "QKdZmhfFMDS8"
   },
   "outputs": [],
   "source": [
    "def get_correct_term(target_term, valid_words, max_entries=20000):\n",
    "    edit_distances = {}\n",
    "    for word in list(valid_words)[:max_entries]:\n",
    "        edit_distances[word] = nltk.edit_distance(target_term, word)\n",
    "        sorted_distances = sorted(edit_distances.items(), key=lambda x: x[1])\n",
    "    return sorted_distances[0][0]"
   ]
  },
  {
   "cell_type": "code",
   "execution_count": 10,
   "metadata": {
    "id": "LGvrxWbyMGQo"
   },
   "outputs": [],
   "source": [
    "def spelling_correction(sentence, valid_words_set, stop_words_set):\n",
    "    tokenized_sentence = nltk.word_tokenize(sentence.lower())\n",
    "    corrected_sentence = []\n",
    "\n",
    "    for term in tokenized_sentence:\n",
    "        if term in valid_words_set:\n",
    "            corrected_sentence.append(term)\n",
    "        elif term not in stop_words_set:\n",
    "            corrected_term = get_correct_term(term, valid_words_set)\n",
    "            corrected_sentence.append(corrected_term)\n",
    "\n",
    "    return ' '.join(corrected_sentence)"
   ]
  },
  {
   "cell_type": "code",
   "execution_count": 11,
   "metadata": {
    "id": "UlLzH1bPMMVI"
   },
   "outputs": [],
   "source": [
    "# Task 1\n",
    "valid_words_set = get_valid_words()"
   ]
  },
  {
   "cell_type": "code",
   "execution_count": 12,
   "metadata": {
    "colab": {
     "base_uri": "https://localhost:8080/"
    },
    "id": "PItrbMOXMPsR",
    "outputId": "bd5ca23d-756e-483a-9b8b-642480e8a9a7"
   },
   "outputs": [
    {
     "name": "stdout",
     "output_type": "stream",
     "text": [
      "['filament', 'Acis', 'phenological', 'bluegrass', 'sclerencephalia', 'pulvillus', 'ropeman', 'tench', 'extracloacal', 'Spaniard', 'enterocoelous', 'insinuate', 'pelvis', 'earthpea', 'spiderish', 'gonydeal', 'noy', 'unflustered', 'avo', 'predecide']\n"
     ]
    }
   ],
   "source": [
    "# Task 2\n",
    "print(list(valid_words_set)[:20])"
   ]
  },
  {
   "cell_type": "code",
   "execution_count": 13,
   "metadata": {
    "id": "d8Sx6eCdMU7l"
   },
   "outputs": [],
   "source": [
    "# Task 3\n",
    "normalized_valid_words = create_unique_list([normalize_casing(word) for word in valid_words_set])\n"
   ]
  },
  {
   "cell_type": "code",
   "execution_count": 14,
   "metadata": {
    "colab": {
     "base_uri": "https://localhost:8080/"
    },
    "id": "B4vq6Q2qMcNG",
    "outputId": "6b69f073-d629-4818-db44-364e743fa82b"
   },
   "outputs": [
    {
     "name": "stdout",
     "output_type": "stream",
     "text": [
      "['filament', 'phenological', 'bluegrass', 'sclerencephalia', 'pulvillus', 'ropeman', 'tench', 'extracloacal', 'enterocoelous', 'pamlico', 'insinuate', 'pelvis', 'earthpea', 'spiderish', 'gonydeal', 'noy', 'unflustered', 'avo', 'predecide', 'bowdichia']\n"
     ]
    }
   ],
   "source": [
    "# Task 4\n",
    "print(normalized_valid_words[:20])"
   ]
  },
  {
   "cell_type": "code",
   "execution_count": 15,
   "metadata": {
    "id": "3Xxdz_slMfoZ"
   },
   "outputs": [],
   "source": [
    "# Task 5\n",
    "stop_words_set = get_stop_words()\n"
   ]
  },
  {
   "cell_type": "code",
   "execution_count": 16,
   "metadata": {
    "colab": {
     "base_uri": "https://localhost:8080/"
    },
    "id": "6flbzCyoMi45",
    "outputId": "62bdf44a-811d-471a-8b5f-4dda86447e35"
   },
   "outputs": [
    {
     "name": "stdout",
     "output_type": "stream",
     "text": [
      "Corrected term for 'committee': committee\n"
     ]
    }
   ],
   "source": [
    "# Task 6\n",
    "example_correction = get_correct_term('committee', valid_words_set)\n",
    "print(f\"Corrected term for 'committee': {example_correction}\")\n"
   ]
  },
  {
   "cell_type": "code",
   "execution_count": 17,
   "metadata": {
    "id": "bYL5KCxDMl9N"
   },
   "outputs": [],
   "source": [
    "# Task 7\n",
    "valid_words_set = set(valid_words_set)"
   ]
  },
  {
   "cell_type": "code",
   "execution_count": 18,
   "metadata": {
    "id": "LAX0Ur0AMoXq"
   },
   "outputs": [],
   "source": [
    "# Task 8\n",
    "def execute_spelling_correction(input_sentence):\n",
    "    return spelling_correction(input_sentence, valid_words_set, stop_words_set)"
   ]
  },
  {
   "cell_type": "code",
   "execution_count": 19,
   "metadata": {
    "colab": {
     "base_uri": "https://localhost:8080/"
    },
    "id": "lX8Bs6PaMqlW",
    "outputId": "950f1d44-7cec-413e-d43d-66fa32648c5e"
   },
   "outputs": [
    {
     "name": "stdout",
     "output_type": "stream",
     "text": [
      "Input Sentence: The new abacos is great\n",
      "Output Sentence: the new abacist is great\n"
     ]
    }
   ],
   "source": [
    "# Task 9\n",
    "input_sentence = \"The new abacos is great\"\n",
    "output_sentence = execute_spelling_correction(input_sentence)\n",
    "print(\"Input Sentence:\", input_sentence)\n",
    "print(\"Output Sentence:\", output_sentence)\n"
   ]
  },
  {
   "cell_type": "code",
   "execution_count": null,
   "metadata": {},
   "outputs": [],
   "source": []
  }
 ],
 "metadata": {
  "colab": {
   "provenance": []
  },
  "kernelspec": {
   "display_name": "Python 3 (ipykernel)",
   "language": "python",
   "name": "python3"
  },
  "language_info": {
   "codemirror_mode": {
    "name": "ipython",
    "version": 3
   },
   "file_extension": ".py",
   "mimetype": "text/x-python",
   "name": "python",
   "nbconvert_exporter": "python",
   "pygments_lexer": "ipython3",
   "version": "3.11.4"
  }
 },
 "nbformat": 4,
 "nbformat_minor": 1
}
